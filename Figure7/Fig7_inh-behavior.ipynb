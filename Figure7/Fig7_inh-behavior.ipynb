{
 "cells": [
  {
   "cell_type": "code",
   "execution_count": 30,
   "metadata": {},
   "outputs": [
    {
     "name": "stdout",
     "output_type": "stream",
     "text": [
      "The autoreload extension is already loaded. To reload it, use:\n",
      "  %reload_ext autoreload\n"
     ]
    }
   ],
   "source": [
    "%load_ext autoreload\n",
    "%autoreload 2\n",
    "import re\n",
    "import scipy as sp\n",
    "import scipy.io\n",
    "import os\n",
    "import numpy as np\n",
    "import pandas as pd\n",
    "import glob\n",
    "import csv\n",
    "import random as rand\n",
    "from tqdm import tnrange, tqdm_notebook\n",
    "from collections import Iterable\n",
    "import matplotlib.pylab as mpl\n",
    "import random as rand\n",
    "from ipywidgets import *\n",
    "import colorlover as cl\n",
    "from scipy import stats\n",
    "import importlib\n",
    "import sys\n",
    "sys.path.append(os.getcwd()+'\\\\..')\n",
    "from utils import utils\n",
    "from utils import plot_utils_fig2p5 as pu\n",
    "from utils import zscores\n",
    "import matplotlib.patches as patches\n",
    "from matplotlib import gridspec\n",
    "\n",
    "import matplotlib.patches as patch\n",
    "from Aggregate_logs import aggregate_logs\n",
    "from process_microstim import process_opto\n",
    "mpl.rcParams['pdf.fonttype'] = 42\n",
    "mpl.rcParams['ps.fonttype'] = 42"
   ]
  },
  {
   "cell_type": "code",
   "execution_count": 31,
   "metadata": {},
   "outputs": [],
   "source": [
    "mpl.close('all')\n",
    "\n",
    "font = {'family' : 'Arial',\n",
    "        'weight' : 'normal',\n",
    "        'size'   : 14}\n",
    "\n",
    "mpl.rc('font', **font)\n",
    "mpl.rc('xtick', labelsize=14) \n",
    "mpl.rc('ytick', labelsize=14)\n",
    "mpl.rc('axes', labelsize=14)\n",
    "\n",
    "mpl.rcParams['pdf.fonttype'] = 42\n",
    "mpl.rcParams['ps.fonttype'] = 42\n",
    "size_mult = 1"
   ]
  },
  {
   "cell_type": "markdown",
   "metadata": {},
   "source": [
    "#### Load, concatenate, save data across sessions"
   ]
  },
  {
   "cell_type": "code",
   "execution_count": 32,
   "metadata": {},
   "outputs": [],
   "source": [
    "data_directory = r'C:\\Users\\efink\\Documents\\DATA\\Inhibition sessions'"
   ]
  },
  {
   "cell_type": "code",
   "execution_count": 33,
   "metadata": {},
   "outputs": [
    {
     "data": {
      "application/vnd.jupyter.widget-view+json": {
       "model_id": "858f90ee63a8430f93defad0813a7cc8",
       "version_major": 2,
       "version_minor": 0
      },
      "text/html": [
       "<p>Failed to display Jupyter Widget of type <code>HBox</code>.</p>\n",
       "<p>\n",
       "  If you're reading this message in the Jupyter Notebook or JupyterLab Notebook, it may mean\n",
       "  that the widgets JavaScript is still loading. If this message persists, it\n",
       "  likely means that the widgets JavaScript library is either not installed or\n",
       "  not enabled. See the <a href=\"https://ipywidgets.readthedocs.io/en/stable/user_install.html\">Jupyter\n",
       "  Widgets Documentation</a> for setup instructions.\n",
       "</p>\n",
       "<p>\n",
       "  If you're reading this message in another frontend (for example, a static\n",
       "  rendering on GitHub or <a href=\"https://nbviewer.jupyter.org/\">NBViewer</a>),\n",
       "  it may mean that your frontend doesn't currently support widgets.\n",
       "</p>\n"
      ],
      "text/plain": [
       "HBox(children=(IntProgress(value=0, max=73), HTML(value='')))"
      ]
     },
     "metadata": {},
     "output_type": "display_data"
    },
    {
     "name": "stdout",
     "output_type": "stream",
     "text": [
      "\n"
     ]
    },
    {
     "data": {
      "application/vnd.jupyter.widget-view+json": {
       "model_id": "88e3a898c82e488c8a7fef9ddc6613fa",
       "version_major": 2,
       "version_minor": 0
      },
      "text/html": [
       "<p>Failed to display Jupyter Widget of type <code>HBox</code>.</p>\n",
       "<p>\n",
       "  If you're reading this message in the Jupyter Notebook or JupyterLab Notebook, it may mean\n",
       "  that the widgets JavaScript is still loading. If this message persists, it\n",
       "  likely means that the widgets JavaScript library is either not installed or\n",
       "  not enabled. See the <a href=\"https://ipywidgets.readthedocs.io/en/stable/user_install.html\">Jupyter\n",
       "  Widgets Documentation</a> for setup instructions.\n",
       "</p>\n",
       "<p>\n",
       "  If you're reading this message in another frontend (for example, a static\n",
       "  rendering on GitHub or <a href=\"https://nbviewer.jupyter.org/\">NBViewer</a>),\n",
       "  it may mean that your frontend doesn't currently support widgets.\n",
       "</p>\n"
      ],
      "text/plain": [
       "HBox(children=(IntProgress(value=0, max=73), HTML(value='')))"
      ]
     },
     "metadata": {},
     "output_type": "display_data"
    },
    {
     "name": "stdout",
     "output_type": "stream",
     "text": [
      "\n"
     ]
    },
    {
     "name": "stderr",
     "output_type": "stream",
     "text": [
      "C:\\Users\\efink\\Anaconda3\\lib\\site-packages\\pandas\\core\\generic.py:1471: PerformanceWarning: \n",
      "your performance may suffer as PyTables will pickle object types that it cannot\n",
      "map directly to c-types [inferred_type->mixed,key->block2_values] [items->['mouse_name', 'date', 'block_type', 'trial_type', 'touch_stimulus', 'vis_stimulus', 'licks_right', 'licks_left', 'spike_times', 'cluster_name', 'spike_times(stim_aligned)', 'identified']]\n",
      "\n",
      "  return pytables.to_hdf(path_or_buf, key, self, **kwargs)\n",
      "C:\\Users\\efink\\Anaconda3\\lib\\site-packages\\pandas\\core\\generic.py:1471: PerformanceWarning: \n",
      "your performance may suffer as PyTables will pickle object types that it cannot\n",
      "map directly to c-types [inferred_type->mixed,key->block0_values] [items->['mouse_name', 'date', 'cluster_name', 'opto_stim_onsets', 'opto_stim_offsets', 'first_last_opto_pulses', 'grouped_opto_pulses']]\n",
      "\n",
      "  return pytables.to_hdf(path_or_buf, key, self, **kwargs)\n"
     ]
    }
   ],
   "source": [
    "os.chdir(data_directory)\n",
    "log_df, opto_df = aggregate_logs(data_directory)"
   ]
  },
  {
   "cell_type": "code",
   "execution_count": 34,
   "metadata": {},
   "outputs": [],
   "source": [
    "log_df, unit_key_df = utils.load_data(data_directory)"
   ]
  },
  {
   "cell_type": "code",
   "execution_count": 35,
   "metadata": {},
   "outputs": [
    {
     "data": {
      "text/plain": [
       "[('EF0114', 0         06-19-18\n",
       "  1911      06-20-18\n",
       "  3248     06-20-18b\n",
       "  5480     06-21-18b\n",
       "  7757      06-22-18\n",
       "  9809      06-26-18\n",
       "  12161     06-27-18\n",
       "  16889     06-29-18\n",
       "  23159     06-30-18\n",
       "  26087     07-01-18\n",
       "  29243     07-02-18\n",
       "  33559     07-03-18\n",
       "  36265     07-09-18\n",
       "  39037     07-10-18\n",
       "  41185     07-11-18\n",
       "  44197     07-12-18\n",
       "  49215     07-14-18\n",
       "  54128     07-16-18\n",
       "  Name: date, dtype: object), ('EF0131', 59313      07-02-18\n",
       "  60885      07-03-18\n",
       "  62289      07-07-18\n",
       "  62656      07-09-18\n",
       "  65176     07-09-18b\n",
       "  65830      07-10-18\n",
       "  67874      07-12-18\n",
       "  69722      07-14-18\n",
       "  72532      07-16-18\n",
       "  78427      07-17-18\n",
       "  90631      07-18-18\n",
       "  99939      07-19-18\n",
       "  106365     07-20-18\n",
       "  108843     07-21-18\n",
       "  110817     07-23-18\n",
       "  113353     07-24-18\n",
       "  117223     07-26-18\n",
       "  Name: date, dtype: object), ('EF0132', 120184    07-08-18\n",
       "  122328    07-10-18\n",
       "  122964    07-11-18\n",
       "  123278    07-12-18\n",
       "  123560    07-14-18\n",
       "  124860    07-17-18\n",
       "  127191    07-18-18\n",
       "  130053    07-19-18\n",
       "  138171    07-20-18\n",
       "  146403    07-24-18\n",
       "  153832    07-25-18\n",
       "  156802    07-26-18\n",
       "  161213    07-27-18\n",
       "  164153    07-30-18\n",
       "  Name: date, dtype: object), ('EF0144', 165783    08-15-18\n",
       "  166770    08-17-18\n",
       "  169199    08-18-18\n",
       "  170699    08-20-18\n",
       "  176831    08-21-18\n",
       "  180443    08-22-18\n",
       "  184172    08-23-18\n",
       "  187542    08-25-18\n",
       "  192624    08-27-18\n",
       "  198294    08-28-18\n",
       "  202496    08-30-18\n",
       "  203414    08-31-18\n",
       "  Name: date, dtype: object), ('YT045', 205961    07-13-18\n",
       "  206139    07-14-18\n",
       "  206352    07-18-18\n",
       "  206642    07-25-18\n",
       "  206893    07-27-18\n",
       "  207197    07-29-18\n",
       "  207367    08-01-18\n",
       "  207667    08-06-18\n",
       "  207997    08-07-18\n",
       "  208284    08-09-18\n",
       "  208551    08-13-18\n",
       "  208866    08-14-18\n",
       "  Name: date, dtype: object)]"
      ]
     },
     "execution_count": 35,
     "metadata": {},
     "output_type": "execute_result"
    }
   ],
   "source": [
    "unique_sessions = log_df[['mouse_name', 'date']].drop_duplicates().sort_values(['mouse_name', 'date'])\n",
    "list(unique_sessions['date'].groupby(unique_sessions['mouse_name']))"
   ]
  },
  {
   "cell_type": "code",
   "execution_count": 36,
   "metadata": {},
   "outputs": [],
   "source": [
    "sham_days = {'EF0131': ['07-01-18', '07-07-18', '07-09-18b', '07-12-18', '07-19-18', '07-23-18', '07-26-18'], \n",
    "             'EF0114': ['07-11-18', '07-12-18', '07-14-18'], \n",
    "             'EF0132': ['07-11-18', '07-17-18', '07-21-18', '07-25-18'],\n",
    "             'EF0144': ['08-15-18','08-22-18', '08-25-18', '08-30-18'],\n",
    "            'YT045':['07-14-18','07-27-18','08-06-18','08-30-18']}"
   ]
  },
  {
   "cell_type": "code",
   "execution_count": 37,
   "metadata": {},
   "outputs": [],
   "source": [
    "log_df['stim_duration'] = (log_df['stim_offset']-log_df['stim_onset']).round(2)"
   ]
  },
  {
   "cell_type": "code",
   "execution_count": 38,
   "metadata": {},
   "outputs": [],
   "source": [
    "sham_df = pd.concat([pd.DataFrame({key:arr}).melt() for key, arr in sham_days.items()])\n",
    "sham_df = sham_df.rename(columns = {'variable': 'mouse_name', 'value':'date'})\n",
    "sham_df['session_type'] = 'sham'\n",
    "log_df_sham = sham_df.merge(log_df, on = ['mouse_name', 'date'], how = 'left')\n",
    "log_df_sham = log_df_sham.dropna(axis = 0, subset = ['trial_num'])"
   ]
  },
  {
   "cell_type": "code",
   "execution_count": 39,
   "metadata": {},
   "outputs": [
    {
     "name": "stdout",
     "output_type": "stream",
     "text": [
      "<class 'pandas.core.frame.DataFrame'>\n",
      "Int64Index: 164196 entries, 0 to 164195\n",
      "Data columns (total 23 columns):\n",
      "mouse_name                   164196 non-null object\n",
      "date                         164196 non-null object\n",
      "block_type                   164196 non-null object\n",
      "trial_type                   164196 non-null object\n",
      "touch_stimulus               164196 non-null object\n",
      "vis_stimulus                 164196 non-null object\n",
      "response                     164196 non-null int64\n",
      "trial_num                    164196 non-null int64\n",
      "trial_onset                  164196 non-null float64\n",
      "stim_onset                   164196 non-null float64\n",
      "stim_offset                  131842 non-null float64\n",
      "licks_right                  164196 non-null object\n",
      "licks_left                   164196 non-null object\n",
      "spike_times                  164196 non-null object\n",
      "cluster_name                 164196 non-null object\n",
      "spike_times(stim_aligned)    164196 non-null object\n",
      "first_lick                   70522 non-null float64\n",
      "last_lick                    70522 non-null float64\n",
      "identified                   164196 non-null object\n",
      "correct                      164196 non-null int64\n",
      "uni_id                       164196 non-null object\n",
      "stim_duration                131842 non-null float64\n",
      "session_type                 164196 non-null object\n",
      "dtypes: float64(6), int64(3), object(14)\n",
      "memory usage: 30.1+ MB\n"
     ]
    }
   ],
   "source": [
    "non_sham_rows = ~log_df['uni_id'].isin(log_df_sham['uni_id'])\n",
    "non_sham_days = log_df.loc[non_sham_rows].groupby(['mouse_name', 'date'])\n",
    "non_sham_df = non_sham_days['stim_duration'].max().reset_index()\n",
    "non_sham_df = non_sham_df.rename(columns = {'stim_duration':'session_type'})\n",
    "non_sham_df.loc[non_sham_df['session_type'] == 0.15, 'session_type'] = 'long'\n",
    "non_sham_df.loc[non_sham_df['session_type'] == 0.05, 'session_type'] = 'short'\n",
    "log_df_nonsham = log_df.merge(non_sham_df, on = ['mouse_name', 'date'], how = 'right')\n",
    "log_df_nonsham.info()"
   ]
  },
  {
   "cell_type": "code",
   "execution_count": 40,
   "metadata": {},
   "outputs": [],
   "source": [
    "log_df = pd.concat([log_df_sham, log_df_nonsham]).reset_index(drop = True)"
   ]
  },
  {
   "cell_type": "code",
   "execution_count": 41,
   "metadata": {},
   "outputs": [],
   "source": [
    "opto_df_pulses = opto_df.drop_duplicates(['mouse_name', 'date'])[['mouse_name', 'date', 'opto_stim_onsets']]"
   ]
  },
  {
   "cell_type": "markdown",
   "metadata": {},
   "source": [
    "### Label groups of trials based on opto-stim type"
   ]
  },
  {
   "cell_type": "code",
   "execution_count": 42,
   "metadata": {},
   "outputs": [],
   "source": [
    "def find_pulse(trial_start, opto_onsets):\n",
    "    if trial_start > opto_onsets[-1]:\n",
    "        pulse = np.nan\n",
    "    else:\n",
    "        pulse = min(opto_onsets[opto_onsets>trial_start])\n",
    "    return pulse"
   ]
  },
  {
   "cell_type": "code",
   "execution_count": 43,
   "metadata": {},
   "outputs": [],
   "source": [
    "log_df = log_df.merge(opto_df_pulses, how = 'left', on = ['mouse_name', 'date'])"
   ]
  },
  {
   "cell_type": "code",
   "execution_count": 44,
   "metadata": {},
   "outputs": [
    {
     "data": {
      "text/html": [
       "<div>\n",
       "<style scoped>\n",
       "    .dataframe tbody tr th:only-of-type {\n",
       "        vertical-align: middle;\n",
       "    }\n",
       "\n",
       "    .dataframe tbody tr th {\n",
       "        vertical-align: top;\n",
       "    }\n",
       "\n",
       "    .dataframe thead th {\n",
       "        text-align: right;\n",
       "    }\n",
       "</style>\n",
       "<table border=\"1\" class=\"dataframe\">\n",
       "  <thead>\n",
       "    <tr style=\"text-align: right;\">\n",
       "      <th></th>\n",
       "      <th>trial_type</th>\n",
       "      <th>opto_stim_onsets</th>\n",
       "    </tr>\n",
       "  </thead>\n",
       "  <tbody>\n",
       "    <tr>\n",
       "      <th>0</th>\n",
       "      <td>Stim_Som_NoCue</td>\n",
       "      <td>No_laser</td>\n",
       "    </tr>\n",
       "    <tr>\n",
       "      <th>1</th>\n",
       "      <td>catch</td>\n",
       "      <td>1</td>\n",
       "    </tr>\n",
       "    <tr>\n",
       "      <th>2</th>\n",
       "      <td>catch</td>\n",
       "      <td>1</td>\n",
       "    </tr>\n",
       "    <tr>\n",
       "      <th>3</th>\n",
       "      <td>Stim_Som_NoCue</td>\n",
       "      <td>No_laser</td>\n",
       "    </tr>\n",
       "    <tr>\n",
       "      <th>4</th>\n",
       "      <td>Stim_Som_NoCue</td>\n",
       "      <td>No_laser</td>\n",
       "    </tr>\n",
       "  </tbody>\n",
       "</table>\n",
       "</div>"
      ],
      "text/plain": [
       "       trial_type opto_stim_onsets\n",
       "0  Stim_Som_NoCue         No_laser\n",
       "1           catch                1\n",
       "2           catch                1\n",
       "3  Stim_Som_NoCue         No_laser\n",
       "4  Stim_Som_NoCue         No_laser"
      ]
     },
     "execution_count": 44,
     "metadata": {},
     "output_type": "execute_result"
    }
   ],
   "source": [
    "log_df['opto_stim_onsets'] = log_df.apply(lambda x: find_pulse(x['trial_onset'], x['opto_stim_onsets']), axis = 1)\n",
    "log_df['opto_stim_onsets'] = np.abs(np.round(log_df['opto_stim_onsets'] - log_df['trial_onset'] - log_df['stim_onset'], 2))\n",
    "log_df.loc[log_df['trial_type'].str.contains('NoCue'), 'opto_stim_onsets'] = 'No_laser'\n",
    "log_df.loc[log_df['trial_type'].str.contains('catch'), 'stim_onset'] = log_df['opto_stim_onsets']\n",
    "log_df.loc[log_df['trial_type'].str.contains('catch'), 'opto_stim_onsets'] = 1\n",
    "log_df[['trial_type', 'opto_stim_onsets']].head()"
   ]
  },
  {
   "cell_type": "code",
   "execution_count": 45,
   "metadata": {},
   "outputs": [],
   "source": [
    "catch_idx = log_df['trial_type'].str.contains('catch')\n",
    "log_df.loc[catch_idx, 'spike_times(stim_aligned)'] = log_df.loc[catch_idx,'spike_times'] - log_df.loc[catch_idx,'stim_onset']"
   ]
  },
  {
   "cell_type": "code",
   "execution_count": 46,
   "metadata": {},
   "outputs": [],
   "source": [
    "def edit_grp_names(name):\n",
    "    name = list(name)\n",
    "    name[1] = re.sub(r'(.*Som\\b|.*Vis\\b)', r'\\1', name[1])\n",
    "    name[1] = re.sub(r'(.*)_NoCue\\b', r'\\1', name[1])\n",
    "    return tuple(name)"
   ]
  },
  {
   "cell_type": "code",
   "execution_count": 47,
   "metadata": {},
   "outputs": [
    {
     "data": {
      "text/html": [
       "<div>\n",
       "<style scoped>\n",
       "    .dataframe tbody tr th:only-of-type {\n",
       "        vertical-align: middle;\n",
       "    }\n",
       "\n",
       "    .dataframe tbody tr th {\n",
       "        vertical-align: top;\n",
       "    }\n",
       "\n",
       "    .dataframe thead th {\n",
       "        text-align: right;\n",
       "    }\n",
       "</style>\n",
       "<table border=\"1\" class=\"dataframe\">\n",
       "  <thead>\n",
       "    <tr style=\"text-align: right;\">\n",
       "      <th></th>\n",
       "      <th>block_type</th>\n",
       "      <th>cluster_name</th>\n",
       "      <th>correct</th>\n",
       "      <th>date</th>\n",
       "      <th>first_lick</th>\n",
       "      <th>identified</th>\n",
       "      <th>last_lick</th>\n",
       "      <th>licks_left</th>\n",
       "      <th>licks_right</th>\n",
       "      <th>mouse_name</th>\n",
       "      <th>...</th>\n",
       "      <th>stim_duration</th>\n",
       "      <th>stim_offset</th>\n",
       "      <th>stim_onset</th>\n",
       "      <th>touch_stimulus</th>\n",
       "      <th>trial_num</th>\n",
       "      <th>trial_onset</th>\n",
       "      <th>trial_type</th>\n",
       "      <th>uni_id</th>\n",
       "      <th>vis_stimulus</th>\n",
       "      <th>opto_stim_onsets</th>\n",
       "    </tr>\n",
       "  </thead>\n",
       "  <tbody>\n",
       "    <tr>\n",
       "      <th>0</th>\n",
       "      <td>Visual</td>\n",
       "      <td>TT5clst1</td>\n",
       "      <td>0.0</td>\n",
       "      <td>07-07-18</td>\n",
       "      <td>0.125367</td>\n",
       "      <td>unidentified</td>\n",
       "      <td>0.420833</td>\n",
       "      <td>[1.8884666666666667, 2.0638666666666667, 9.783...</td>\n",
       "      <td>[]</td>\n",
       "      <td>EF0131</td>\n",
       "      <td>...</td>\n",
       "      <td>0.15</td>\n",
       "      <td>9.805367</td>\n",
       "      <td>9.6578</td>\n",
       "      <td>SineAmp1p000Freq20Cyc3</td>\n",
       "      <td>284.0</td>\n",
       "      <td>2789.360900</td>\n",
       "      <td>Stim_Som_NoCue</td>\n",
       "      <td>13107-07-185t1</td>\n",
       "      <td>Amp0p5Dur0p150</td>\n",
       "      <td>No_laser</td>\n",
       "    </tr>\n",
       "    <tr>\n",
       "      <th>1</th>\n",
       "      <td>Whisker</td>\n",
       "      <td>TT5clst1</td>\n",
       "      <td>0.0</td>\n",
       "      <td>07-07-18</td>\n",
       "      <td>0.150667</td>\n",
       "      <td>unidentified</td>\n",
       "      <td>0.496200</td>\n",
       "      <td>[]</td>\n",
       "      <td>[0.004333333333333333, 0.15066666666666667, 0....</td>\n",
       "      <td>EF0131</td>\n",
       "      <td>...</td>\n",
       "      <td>NaN</td>\n",
       "      <td>NaN</td>\n",
       "      <td>2.81</td>\n",
       "      <td>SineAmp1p000Freq20Cyc3</td>\n",
       "      <td>86.0</td>\n",
       "      <td>862.047033</td>\n",
       "      <td>catch</td>\n",
       "      <td>13107-07-185t1</td>\n",
       "      <td>Amp0p5Dur0p150</td>\n",
       "      <td>1</td>\n",
       "    </tr>\n",
       "    <tr>\n",
       "      <th>2</th>\n",
       "      <td>Whisker</td>\n",
       "      <td>TT5clst1</td>\n",
       "      <td>0.0</td>\n",
       "      <td>07-07-18</td>\n",
       "      <td>0.173900</td>\n",
       "      <td>unidentified</td>\n",
       "      <td>0.173900</td>\n",
       "      <td>[]</td>\n",
       "      <td>[0.022733333333333335, 0.1739, 3.9772333333333...</td>\n",
       "      <td>EF0131</td>\n",
       "      <td>...</td>\n",
       "      <td>NaN</td>\n",
       "      <td>NaN</td>\n",
       "      <td>6.57</td>\n",
       "      <td>SineAmp1p000Freq20Cyc3</td>\n",
       "      <td>70.0</td>\n",
       "      <td>689.279567</td>\n",
       "      <td>catch</td>\n",
       "      <td>13107-07-185t1</td>\n",
       "      <td>Amp0p5Dur0p150</td>\n",
       "      <td>1</td>\n",
       "    </tr>\n",
       "    <tr>\n",
       "      <th>3</th>\n",
       "      <td>Whisker</td>\n",
       "      <td>TT5clst1</td>\n",
       "      <td>1.0</td>\n",
       "      <td>07-07-18</td>\n",
       "      <td>0.198600</td>\n",
       "      <td>unidentified</td>\n",
       "      <td>1.161333</td>\n",
       "      <td>[1.1734]</td>\n",
       "      <td>[0.31013333333333337, 0.42923333333333336, 7.5...</td>\n",
       "      <td>EF0131</td>\n",
       "      <td>...</td>\n",
       "      <td>0.15</td>\n",
       "      <td>7.575367</td>\n",
       "      <td>7.4279</td>\n",
       "      <td>SineAmp1p000Freq20Cyc3</td>\n",
       "      <td>331.0</td>\n",
       "      <td>3233.930300</td>\n",
       "      <td>Stim_Som_NoCue</td>\n",
       "      <td>13107-07-185t1</td>\n",
       "      <td>Amp0p5Dur0p150</td>\n",
       "      <td>No_laser</td>\n",
       "    </tr>\n",
       "    <tr>\n",
       "      <th>4</th>\n",
       "      <td>Visual</td>\n",
       "      <td>TT5clst1</td>\n",
       "      <td>0.0</td>\n",
       "      <td>07-07-18</td>\n",
       "      <td>0.213100</td>\n",
       "      <td>unidentified</td>\n",
       "      <td>0.593033</td>\n",
       "      <td>[1.3416666666666668, 1.7216, 5.615633333333333]</td>\n",
       "      <td>[]</td>\n",
       "      <td>EF0131</td>\n",
       "      <td>...</td>\n",
       "      <td>0.15</td>\n",
       "      <td>1.276033</td>\n",
       "      <td>1.12857</td>\n",
       "      <td>SineAmp1p000Freq20Cyc3</td>\n",
       "      <td>267.0</td>\n",
       "      <td>2628.673800</td>\n",
       "      <td>Stim_Som_NoCue</td>\n",
       "      <td>13107-07-185t1</td>\n",
       "      <td>Amp0p5Dur0p150</td>\n",
       "      <td>No_laser</td>\n",
       "    </tr>\n",
       "  </tbody>\n",
       "</table>\n",
       "<p>5 rows × 24 columns</p>\n",
       "</div>"
      ],
      "text/plain": [
       "  block_type cluster_name  correct      date  first_lick    identified  \\\n",
       "0     Visual     TT5clst1      0.0  07-07-18    0.125367  unidentified   \n",
       "1    Whisker     TT5clst1      0.0  07-07-18    0.150667  unidentified   \n",
       "2    Whisker     TT5clst1      0.0  07-07-18    0.173900  unidentified   \n",
       "3    Whisker     TT5clst1      1.0  07-07-18    0.198600  unidentified   \n",
       "4     Visual     TT5clst1      0.0  07-07-18    0.213100  unidentified   \n",
       "\n",
       "   last_lick                                         licks_left  \\\n",
       "0   0.420833  [1.8884666666666667, 2.0638666666666667, 9.783...   \n",
       "1   0.496200                                                 []   \n",
       "2   0.173900                                                 []   \n",
       "3   1.161333                                           [1.1734]   \n",
       "4   0.593033    [1.3416666666666668, 1.7216, 5.615633333333333]   \n",
       "\n",
       "                                         licks_right mouse_name  \\\n",
       "0                                                 []     EF0131   \n",
       "1  [0.004333333333333333, 0.15066666666666667, 0....     EF0131   \n",
       "2  [0.022733333333333335, 0.1739, 3.9772333333333...     EF0131   \n",
       "3  [0.31013333333333337, 0.42923333333333336, 7.5...     EF0131   \n",
       "4                                                 []     EF0131   \n",
       "\n",
       "         ...         stim_duration stim_offset stim_onset  \\\n",
       "0        ...                  0.15    9.805367     9.6578   \n",
       "1        ...                   NaN         NaN       2.81   \n",
       "2        ...                   NaN         NaN       6.57   \n",
       "3        ...                  0.15    7.575367     7.4279   \n",
       "4        ...                  0.15    1.276033    1.12857   \n",
       "\n",
       "           touch_stimulus  trial_num  trial_onset      trial_type  \\\n",
       "0  SineAmp1p000Freq20Cyc3      284.0  2789.360900  Stim_Som_NoCue   \n",
       "1  SineAmp1p000Freq20Cyc3       86.0   862.047033           catch   \n",
       "2  SineAmp1p000Freq20Cyc3       70.0   689.279567           catch   \n",
       "3  SineAmp1p000Freq20Cyc3      331.0  3233.930300  Stim_Som_NoCue   \n",
       "4  SineAmp1p000Freq20Cyc3      267.0  2628.673800  Stim_Som_NoCue   \n",
       "\n",
       "           uni_id    vis_stimulus  opto_stim_onsets  \n",
       "0  13107-07-185t1  Amp0p5Dur0p150          No_laser  \n",
       "1  13107-07-185t1  Amp0p5Dur0p150                 1  \n",
       "2  13107-07-185t1  Amp0p5Dur0p150                 1  \n",
       "3  13107-07-185t1  Amp0p5Dur0p150          No_laser  \n",
       "4  13107-07-185t1  Amp0p5Dur0p150          No_laser  \n",
       "\n",
       "[5 rows x 24 columns]"
      ]
     },
     "execution_count": 47,
     "metadata": {},
     "output_type": "execute_result"
    }
   ],
   "source": [
    "all_beh = log_df.drop_duplicates(['mouse_name', 'date','trial_num']).copy()\n",
    "all_beh.head()"
   ]
  },
  {
   "cell_type": "markdown",
   "metadata": {},
   "source": [
    "### List how many sessions were recorded for each mouse and session type"
   ]
  },
  {
   "cell_type": "code",
   "execution_count": 48,
   "metadata": {},
   "outputs": [
    {
     "data": {
      "text/plain": [
       "mouse_name  session_type\n",
       "EF0114      long            8\n",
       "            sham            3\n",
       "            short           7\n",
       "EF0131      long            7\n",
       "            sham            6\n",
       "            short           4\n",
       "EF0132      long            7\n",
       "            sham            3\n",
       "            short           4\n",
       "EF0144      long            4\n",
       "            sham            4\n",
       "            short           4\n",
       "YT045       long            6\n",
       "            sham            3\n",
       "            short           3\n",
       "dtype: int64"
      ]
     },
     "execution_count": 48,
     "metadata": {},
     "output_type": "execute_result"
    }
   ],
   "source": [
    "all_beh[['mouse_name', 'date', 'session_type']].drop_duplicates().groupby(['mouse_name', 'session_type']).size()"
   ]
  },
  {
   "cell_type": "code",
   "execution_count": 49,
   "metadata": {},
   "outputs": [],
   "source": [
    "def sum_lick_trials(df):\n",
    "    \n",
    "    grpby_trial_type = df.groupby(['block_type','trial_type'])\n",
    "    lick_trials = {tt:{'Lick':sum(rows['response'] !=0), 'No_Lick':sum(rows['response'] ==0)} for tt, rows in grpby_trial_type}\n",
    "    return pd.DataFrame(lick_trials)\n",
    "\n",
    "def lick_ratio(df):\n",
    "    \n",
    "    grpby_trial_type = df.groupby(['block_type','trial_type'])\n",
    "    lick_ratios = {tt:sum(rows['response'] !=0)/rows['response'].shape[0] for tt, rows in grpby_trial_type}\n",
    "    return pd.Series(lick_ratios)\n",
    "\n",
    "def plot_licks(lick_df, ax, session):\n",
    "\n",
    "    for block, xpos in zip(['Visual', 'Whisker'], [np.arange(5), np.arange(6,11)]):\n",
    "        sub_df = lick_df[block]\n",
    "        ax.bar(xpos[0:len(sub_df.loc['Lick', :])], sub_df.loc['Lick', :], color = 'g', alpha = 0.7)\n",
    "        ax.bar(xpos[0:len(sub_df.loc['No_Lick', :])], sub_df.loc['No_Lick', :],\n",
    "               bottom = sub_df.loc['Lick', :], color = [0.4,0.4,0.4], alpha =0.3)\n",
    "    \n",
    "    ax.add_patch(patches.Rectangle((-1, -10), 6, 10, color = 'C1', alpha = 0.7))\n",
    "    ax.add_patch(patches.Rectangle((5, -10), 6, 10, color = 'C0', alpha = 0.7))\n",
    "    ax.set_ylim(-5, 90)\n",
    "    xticks = ['Touch + laser', 'Touch', 'Visual + laser', 'Visual', 'laser']*2\n",
    "    ax.set_xticks([0,1,2,3,4,6,7,8,9,10])\n",
    "    ax.set_xticklabels(xticks, rotation = 65, ha = 'right')\n",
    "    ax.set_title(session)\n",
    "    ax.spines['right'].set_visible(False)\n",
    "    ax.spines['top'].set_visible(False)"
   ]
  },
  {
   "cell_type": "markdown",
   "metadata": {},
   "source": [
    "### Calculate mean and standard deviation of hit rate for each trial type across sessions using bootstrap resampling"
   ]
  },
  {
   "cell_type": "code",
   "execution_count": 50,
   "metadata": {},
   "outputs": [],
   "source": [
    "def bootstrap_means(df,random_state = 42, replace = True):\n",
    "    ## resamples with replacement all the trials within a session_type but across days (ie sham or long stim inhibition). \n",
    "    ## Then calculates mean lick rate for the trial type\n",
    "    \n",
    "    df = df.sample(frac = 1, replace = replace, random_state = random_state)\n",
    "    grps = df.groupby(['block_type','trial_type', 'opto_stim_onsets'])\n",
    "    inds = grps.groups\n",
    "    grp_names = list(inds.keys())\n",
    "    grp_responses = {grp:(df.loc[inds[grp],'response']!=0).values for grp in grp_names}\n",
    "\n",
    "    grp_means = {name:[np.mean(grp)] for name, grp in grp_responses.items()}\n",
    "#     grp_names = [edit_grp_names(grp) for grp in grp_names]\n",
    "#     import pdb; pdb.set_trace()\n",
    "\n",
    "    grp_means = {name:value for name, value in zip(grp_names, grp_means.values())}\n",
    "\n",
    "    return pd.DataFrame(grp_means)"
   ]
  },
  {
   "cell_type": "code",
   "execution_count": 51,
   "metadata": {},
   "outputs": [],
   "source": [
    "def calc_grp_means(df):\n",
    "    \n",
    "    samp_mean = bootstrap_means(df, replace = False).T\n",
    "    resamp_means = pd.concat([bootstrap_means(df, random_state = n) for n in range(1000)])\n",
    "    resamp_means = resamp_means.reset_index(drop = True)\n",
    "#     means = resamp_means\n",
    "    sem = resamp_means.apply(lambda x: np.std(x), axis = 0)\n",
    "    return samp_mean.loc[:, 0], sem"
   ]
  },
  {
   "cell_type": "code",
   "execution_count": 52,
   "metadata": {},
   "outputs": [],
   "source": [
    "all_beh.loc[:, 'inhibition_session'] = 'sham'\n",
    "all_beh.loc[all_beh['session_type'].isin(['long', 'short']), 'inhibition_session'] = 'inh'\n",
    "all_beh = all_beh.loc[all_beh['opto_stim_onsets'].isin([0.05, 0, 1, 'No_laser']), :] ## if stim was dropped due to premature lick opto onset gets labeled as longer than 0.05 - remove these\n",
    "all_beh.loc[all_beh['trial_type'].str.contains('Som'), 'trial_type'] = 'Stim_Som' ## No_laser condition always has Stim_Som_NoCue/Stim_Vis_NoCuein trial_type name - remove _NoCue\n",
    "all_beh.loc[all_beh['trial_type'].str.contains('Vis'), 'trial_type'] = 'Stim_Vis'\n",
    "\n",
    "beh_grouped = all_beh.groupby(['mouse_name','inhibition_session'])\n",
    "beh_grouped_split = all_beh.groupby(['mouse_name', 'session_type'])"
   ]
  },
  {
   "cell_type": "code",
   "execution_count": 53,
   "metadata": {},
   "outputs": [],
   "source": [
    "grpd = iter(beh_grouped)"
   ]
  },
  {
   "cell_type": "code",
   "execution_count": 54,
   "metadata": {},
   "outputs": [
    {
     "data": {
      "application/vnd.jupyter.widget-view+json": {
       "model_id": "68d3b6c0c53c4d098aff96092021d137",
       "version_major": 2,
       "version_minor": 0
      },
      "text/html": [
       "<p>Failed to display Jupyter Widget of type <code>HBox</code>.</p>\n",
       "<p>\n",
       "  If you're reading this message in the Jupyter Notebook or JupyterLab Notebook, it may mean\n",
       "  that the widgets JavaScript is still loading. If this message persists, it\n",
       "  likely means that the widgets JavaScript library is either not installed or\n",
       "  not enabled. See the <a href=\"https://ipywidgets.readthedocs.io/en/stable/user_install.html\">Jupyter\n",
       "  Widgets Documentation</a> for setup instructions.\n",
       "</p>\n",
       "<p>\n",
       "  If you're reading this message in another frontend (for example, a static\n",
       "  rendering on GitHub or <a href=\"https://nbviewer.jupyter.org/\">NBViewer</a>),\n",
       "  it may mean that your frontend doesn't currently support widgets.\n",
       "</p>\n"
      ],
      "text/plain": [
       "HBox(children=(IntProgress(value=0, max=10), HTML(value='')))"
      ]
     },
     "metadata": {},
     "output_type": "display_data"
    },
    {
     "name": "stdout",
     "output_type": "stream",
     "text": [
      "\n"
     ]
    }
   ],
   "source": [
    "beh_performance = {mouse:calc_grp_means(grp) for mouse,grp in tqdm_notebook(beh_grouped)}"
   ]
  },
  {
   "cell_type": "code",
   "execution_count": 55,
   "metadata": {},
   "outputs": [
    {
     "data": {
      "application/vnd.jupyter.widget-view+json": {
       "model_id": "acd2b9826ac34388b7b1bf2bb81d8a31",
       "version_major": 2,
       "version_minor": 0
      },
      "text/html": [
       "<p>Failed to display Jupyter Widget of type <code>HBox</code>.</p>\n",
       "<p>\n",
       "  If you're reading this message in the Jupyter Notebook or JupyterLab Notebook, it may mean\n",
       "  that the widgets JavaScript is still loading. If this message persists, it\n",
       "  likely means that the widgets JavaScript library is either not installed or\n",
       "  not enabled. See the <a href=\"https://ipywidgets.readthedocs.io/en/stable/user_install.html\">Jupyter\n",
       "  Widgets Documentation</a> for setup instructions.\n",
       "</p>\n",
       "<p>\n",
       "  If you're reading this message in another frontend (for example, a static\n",
       "  rendering on GitHub or <a href=\"https://nbviewer.jupyter.org/\">NBViewer</a>),\n",
       "  it may mean that your frontend doesn't currently support widgets.\n",
       "</p>\n"
      ],
      "text/plain": [
       "HBox(children=(IntProgress(value=0, max=15), HTML(value='')))"
      ]
     },
     "metadata": {},
     "output_type": "display_data"
    },
    {
     "name": "stdout",
     "output_type": "stream",
     "text": [
      "\n"
     ]
    }
   ],
   "source": [
    "beh_performance_split = {mouse:calc_grp_means(grp) for mouse,grp in tqdm_notebook(beh_grouped_split)}"
   ]
  },
  {
   "cell_type": "code",
   "execution_count": 56,
   "metadata": {},
   "outputs": [],
   "source": [
    "# bs_means, sem = calc_grp_means(all_beh_nosham)\n",
    "# bs_means_sham, sem_sham = calc_grp_means(all_beh_sham)"
   ]
  },
  {
   "cell_type": "code",
   "execution_count": 511,
   "metadata": {},
   "outputs": [],
   "source": [
    "def plot_perf(bs_means, sem, ax1, ax2):\n",
    "    \n",
    "#     ex_group = next(iter(bs_means)) # used to order trial_types\n",
    "    trial_types = pd.DataFrame(np.vstack(bs_means.keys()))\n",
    "    trial_types = trial_types.sort_values([0,1,2], ascending=False)\n",
    "    trial_types.replace('1', 1, inplace= True)\n",
    "    trial_types.replace('0.0', 0, inplace= True)\n",
    "    trial_types.replace('0.05', 0.05, inplace= True)\n",
    "    trial_type_order = [tuple(tt) for tt in trial_types.values]\n",
    "    \n",
    "    bs_means_dict = bs_means.to_dict()\n",
    "    sem_dict = sem.to_dict()\n",
    "    colors = ['k', 'C1', 'C1', 'C1', 'C0', 'C0', 'C0']*2\n",
    "    whisker_grps = {}; visual_grps = {}\n",
    "    for i, grp in enumerate(trial_type_order):\n",
    "\n",
    "        mean = bs_means_dict[grp]\n",
    "        sem_grp = sem_dict[grp]\n",
    "\n",
    "        grp = list(grp)\n",
    "        grp[2] = str(grp[2])\n",
    "        \n",
    "        if grp[1] == 'catch':\n",
    "            grp.pop(2)\n",
    "\n",
    "        if grp[0] == 'Whisker':\n",
    "            \n",
    "#             ax1.set_title('Whisker Block')\n",
    "            ax1.scatter(' - '.join(grp[1:]), mean, color = colors[i], s = 65, alpha = 0.7)\n",
    "            ax1.vlines(' - '.join(grp[1:]), mean-sem_grp, mean+sem_grp, color = colors[i])\n",
    "            ax1.set_ylim(0,1)\n",
    "            mpl.sca(ax1); mpl.xticks( rotation = '45', ha = 'right')\n",
    "            whisker_grps[' - '.join(grp[1:])] = mean \n",
    "        else:\n",
    "#             ax2.set_title('Visual Block')\n",
    "            ax2.scatter(' - '.join(grp[1:]), mean, color = colors[i], s = 65, alpha = 0.7)\n",
    "            ax2.vlines(' - '.join(grp[1:]), mean-sem_grp, mean+sem_grp, color = colors[i])\n",
    "            ax2.set_ylim(0,1)\n",
    "            visual_grps[' - '.join(grp[1:])] = mean \n",
    "            mpl.sca(ax2); mpl.xticks(rotation = 'vertical'); mpl.xticks(rotation = '45', ha = 'right')\n",
    "            \n",
    "    ax1.plot(whisker_grps.keys(), whisker_grps.values(), color = [0.4, 0.4, 0.4], ls = 'solid', alpha = 0.3)\n",
    "    ax2.plot(visual_grps.keys(), visual_grps.values(), color = [0.4, 0.4, 0.4], ls = 'solid', alpha = 0.3)\n",
    "    \n",
    "    ax1.set_ylabel('Lick rate')\n",
    "    \n",
    "    for ax in [ax1,ax2]:\n",
    "        ax.set_xticklabels(['No offset   ', 'No manipulation', '50 ms offset    ', '50 ms offset    ',\n",
    "                             'No offset    ', 'No manipulation', '50 ms offset     ', '50 ms offset    '])\n",
    "        ax.spines['right'].set_visible(False)\n",
    "        ax.spines['top'].set_visible(False)\n",
    "    mpl.subplots_adjust(bottom=0.35)"
   ]
  },
  {
   "cell_type": "code",
   "execution_count": 59,
   "metadata": {},
   "outputs": [],
   "source": [
    "def select_treatment_group(data, treatment, group):\n",
    "    inh_groups = {key[0]:data[key][0] for key in data.keys() if key[1] == treatment}\n",
    "    del(inh_groups['YT045'])\n",
    "#     del(inh_groups['EF0132'])\n",
    "    mouse_means = [inh_groups[mouse][group] for mouse in inh_groups.keys()]\n",
    "    return mouse_means"
   ]
  },
  {
   "cell_type": "code",
   "execution_count": 60,
   "metadata": {},
   "outputs": [
    {
     "name": "stdout",
     "output_type": "stream",
     "text": [
      "No laser/late inhibition t-test: 0.0052124985980008965\n",
      "No laser/full inhibition t-test: 0.007244219841655084\n",
      "\n"
     ]
    },
    {
     "data": {
      "image/png": "[encoded data removed]",
      "text/plain": [
       "<Figure size 1008x504 with 2 Axes>"
      ]
     },
     "metadata": {},
     "output_type": "display_data"
    }
   ],
   "source": [
    "fig, (ax1, ax2) = mpl.subplots(1,2, figsize = (14,7))\n",
    "plot_perf(beh_performance_split[('EF0114', 'long')][0],beh_performance_split[('EF0114', 'long')][1], ax1,ax2)\n",
    "plot_perf(beh_performance_split[('EF0131', 'long')][0],beh_performance_split[('EF0131', 'long')][1], ax1,ax2)\n",
    "plot_perf(beh_performance_split[('EF0132', 'long')][0],beh_performance_split[('EF0132', 'long')][1], ax1,ax2)\n",
    "plot_perf(beh_performance_split[('EF0144', 'long')][0],beh_performance_split[('EF0144', 'long')][1], ax1,ax2)\n",
    "\n",
    "# plot_perf(beh_performance[('YT045', 'long')][0],beh_performance[('YT045', 'long')][1], ax1,ax2)\n",
    "fig.suptitle('S1-Inhibition: 150ms stimuli')\n",
    "# fig.savefig('fig_inh_long.png', format='png', dpi=600)\n",
    "\n",
    "cond1 = select_treatment_group(beh_performance_split, 'long', ('Whisker', 'Stim_Som', 'No_laser'))\n",
    "cond2 = select_treatment_group(beh_performance_split, 'long', ('Whisker', 'Stim_Som', 0.05))\n",
    "cond3 = select_treatment_group(beh_performance_split, 'long', ('Whisker', 'Stim_Som', 0.0))\n",
    "no_laser_vs_late = stats.ttest_rel(cond1, cond2)\n",
    "no_laser_vs_full = stats.ttest_rel(cond1, cond3)\n",
    "\n",
    "print('No laser/late inhibition t-test: {}\\nNo laser/full inhibition t-test: {}\\n'.format(no_laser_vs_late.pvalue/2, no_laser_vs_full.pvalue/2))\n"
   ]
  },
  {
   "cell_type": "code",
   "execution_count": 61,
   "metadata": {},
   "outputs": [
    {
     "name": "stdout",
     "output_type": "stream",
     "text": [
      "No laser/late inhibition t-test: 0.10470597285892767\n",
      "No laser/full inhibition t-test: 0.0002495367925779327\n",
      "\n"
     ]
    },
    {
     "data": {
      "image/png": "[encoded data removed]",
      "text/plain": [
       "<Figure size 1008x504 with 2 Axes>"
      ]
     },
     "metadata": {},
     "output_type": "display_data"
    }
   ],
   "source": [
    "fig, (ax1, ax2) = mpl.subplots(1,2, figsize = (14,7))\n",
    "\n",
    "plot_perf(beh_performance_split[('EF0114', 'short')][0],beh_performance_split[('EF0114', 'short')][1], ax1,ax2)\n",
    "plot_perf(beh_performance_split[('EF0131', 'short')][0],beh_performance_split[('EF0131', 'short')][1], ax1,ax2)\n",
    "plot_perf(beh_performance_split[('EF0132', 'short')][0],beh_performance_split[('EF0132', 'short')][1], ax1,ax2)\n",
    "plot_perf(beh_performance_split[('EF0144', 'short')][0],beh_performance_split[('EF0144', 'short')][1], ax1,ax2)\n",
    "\n",
    "fig.suptitle('S1-Inhibition: 50ms stimuli')\n",
    "# fig.savefig('fig_inh_short.png', format='png', dpi=600)\n",
    "\n",
    "cond1 = select_treatment_group(beh_performance_split, 'short', ('Whisker', 'Stim_Som', 'No_laser'))\n",
    "cond2 = select_treatment_group(beh_performance_split, 'short', ('Whisker', 'Stim_Som', 0.05))\n",
    "cond3 = select_treatment_group(beh_performance_split, 'short', ('Whisker', 'Stim_Som', 0.0))\n",
    "no_laser_vs_late = stats.ttest_rel(cond1, cond2)\n",
    "no_laser_vs_full = stats.ttest_rel(cond1, cond3)\n",
    "\n",
    "print('No laser/late inhibition t-test: {}\\nNo laser/full inhibition t-test: {}\\n'.format(no_laser_vs_late.pvalue/2, no_laser_vs_full.pvalue/2))\n"
   ]
  },
  {
   "cell_type": "code",
   "execution_count": 166,
   "metadata": {},
   "outputs": [],
   "source": [
    "columns = ['mouse_name', 'block_type','trial_type','response', 'correct', 'opto_stim_onsets']\n",
    "columns.append('lick')\n"
   ]
  },
  {
   "cell_type": "code",
   "execution_count": 200,
   "metadata": {},
   "outputs": [
    {
     "data": {
      "text/plain": [
       "inh    16671\n",
       "Name: inhibition_session, dtype: int64"
      ]
     },
     "execution_count": 200,
     "metadata": {},
     "output_type": "execute_result"
    }
   ],
   "source": [
    "inh_session_outcomes['inhibition_session'].value_counts()"
   ]
  },
  {
   "cell_type": "code",
   "execution_count": 417,
   "metadata": {},
   "outputs": [],
   "source": [
    "columns = ['mouse_name', 'block_type','trial_type','response', 'correct', 'opto_stim_onsets', 'lick']\n",
    "inh_session_outcomes = all_beh.loc[all_beh['inhibition_session'] == 'inh',:].copy()\n",
    "inh_session_outcomes.loc[:,'lick'] = (inh_session_outcomes['response'] != 0)*1\n",
    "columns.append('lick')\n",
    "\n",
    "sham_session_outcomes = all_beh.loc[all_beh['inhibition_session'] == 'sham',:].copy()\n",
    "sham_session_outcomes.loc[:,'lick'] = (sham_session_outcomes['response'] != 0)*1\n",
    "\n",
    "\n",
    "grouped_correct_licks = inh_session_outcomes[columns].groupby(['mouse_name', 'block_type','trial_type','opto_stim_onsets'])\n",
    "grouped_correct_licks_sham = sham_session_outcomes[columns].groupby(['mouse_name', 'block_type','trial_type','opto_stim_onsets'])\n",
    "\n",
    "\n",
    "def multilevel_bootstrap(gr_df, gr1, gr2, num_iter):\n",
    "    \n",
    "    all_resampled_stats = []\n",
    "    for i in tnrange(num_iter):\n",
    "\n",
    "        across_mice_resample = []\n",
    "\n",
    "        ##### resample mice with replacement ###############\n",
    "        mice = ['EF0114', 'EF0132', 'EF0131', 'EF0144']\n",
    "        resamp_mice = np.random.choice(mice, size = len(mice), replace = True)\n",
    "\n",
    "        for mouse in resamp_mice:\n",
    "            ############# stratefied resampling of trials within mouse with replacement ###########\n",
    "            gr_2 = tuple([mouse]  + gr2)\n",
    "            gr_1 = tuple([mouse]  + gr1)\n",
    "            #queries gr_df for groups we want to compare\n",
    "            cond1 = gr_df.get_group(gr_1) \n",
    "            cond2 = gr_df.get_group(gr_2)\n",
    "\n",
    "            cond1_resample = cond1.sample(frac = 1, replace = True,)\n",
    "            cond2_resample = cond2.sample(frac = 1, replace = True,)\n",
    "\n",
    "            mouse_lick_prob_diff = cond2_resample['lick'].mean() - cond1_resample['lick'].mean()\n",
    "            across_mice_resample.append(mouse_lick_prob_diff)\n",
    "\n",
    "        all_resampled_stats.append(np.mean(across_mice_resample))\n",
    "        \n",
    "    sorted_stats = np.sort(all_resampled_stats)\n",
    "    return sorted_stats"
   ]
  },
  {
   "cell_type": "code",
   "execution_count": 418,
   "metadata": {},
   "outputs": [
    {
     "data": {
      "application/vnd.jupyter.widget-view+json": {
       "model_id": "0af267dd821f41e28d7d1d3b814afec8",
       "version_major": 2,
       "version_minor": 0
      },
      "text/html": [
       "<p>Failed to display Jupyter Widget of type <code>HBox</code>.</p>\n",
       "<p>\n",
       "  If you're reading this message in the Jupyter Notebook or JupyterLab Notebook, it may mean\n",
       "  that the widgets JavaScript is still loading. If this message persists, it\n",
       "  likely means that the widgets JavaScript library is either not installed or\n",
       "  not enabled. See the <a href=\"https://ipywidgets.readthedocs.io/en/stable/user_install.html\">Jupyter\n",
       "  Widgets Documentation</a> for setup instructions.\n",
       "</p>\n",
       "<p>\n",
       "  If you're reading this message in another frontend (for example, a static\n",
       "  rendering on GitHub or <a href=\"https://nbviewer.jupyter.org/\">NBViewer</a>),\n",
       "  it may mean that your frontend doesn't currently support widgets.\n",
       "</p>\n"
      ],
      "text/plain": [
       "HBox(children=(IntProgress(value=0, max=10000), HTML(value='')))"
      ]
     },
     "metadata": {},
     "output_type": "display_data"
    },
    {
     "name": "stdout",
     "output_type": "stream",
     "text": [
      "\n"
     ]
    },
    {
     "data": {
      "application/vnd.jupyter.widget-view+json": {
       "model_id": "173f581cf9e24328b7b456983bbccbe7",
       "version_major": 2,
       "version_minor": 0
      },
      "text/html": [
       "<p>Failed to display Jupyter Widget of type <code>HBox</code>.</p>\n",
       "<p>\n",
       "  If you're reading this message in the Jupyter Notebook or JupyterLab Notebook, it may mean\n",
       "  that the widgets JavaScript is still loading. If this message persists, it\n",
       "  likely means that the widgets JavaScript library is either not installed or\n",
       "  not enabled. See the <a href=\"https://ipywidgets.readthedocs.io/en/stable/user_install.html\">Jupyter\n",
       "  Widgets Documentation</a> for setup instructions.\n",
       "</p>\n",
       "<p>\n",
       "  If you're reading this message in another frontend (for example, a static\n",
       "  rendering on GitHub or <a href=\"https://nbviewer.jupyter.org/\">NBViewer</a>),\n",
       "  it may mean that your frontend doesn't currently support widgets.\n",
       "</p>\n"
      ],
      "text/plain": [
       "HBox(children=(IntProgress(value=0, max=10000), HTML(value='')))"
      ]
     },
     "metadata": {},
     "output_type": "display_data"
    },
    {
     "name": "stdout",
     "output_type": "stream",
     "text": [
      "\n"
     ]
    },
    {
     "data": {
      "application/vnd.jupyter.widget-view+json": {
       "model_id": "70a0d8cbe0cc43739c07beadc976b036",
       "version_major": 2,
       "version_minor": 0
      },
      "text/html": [
       "<p>Failed to display Jupyter Widget of type <code>HBox</code>.</p>\n",
       "<p>\n",
       "  If you're reading this message in the Jupyter Notebook or JupyterLab Notebook, it may mean\n",
       "  that the widgets JavaScript is still loading. If this message persists, it\n",
       "  likely means that the widgets JavaScript library is either not installed or\n",
       "  not enabled. See the <a href=\"https://ipywidgets.readthedocs.io/en/stable/user_install.html\">Jupyter\n",
       "  Widgets Documentation</a> for setup instructions.\n",
       "</p>\n",
       "<p>\n",
       "  If you're reading this message in another frontend (for example, a static\n",
       "  rendering on GitHub or <a href=\"https://nbviewer.jupyter.org/\">NBViewer</a>),\n",
       "  it may mean that your frontend doesn't currently support widgets.\n",
       "</p>\n"
      ],
      "text/plain": [
       "HBox(children=(IntProgress(value=0, max=10000), HTML(value='')))"
      ]
     },
     "metadata": {},
     "output_type": "display_data"
    },
    {
     "name": "stdout",
     "output_type": "stream",
     "text": [
      "\n"
     ]
    },
    {
     "data": {
      "application/vnd.jupyter.widget-view+json": {
       "model_id": "07a633bc2c0a45b697127ad7ec822dbb",
       "version_major": 2,
       "version_minor": 0
      },
      "text/html": [
       "<p>Failed to display Jupyter Widget of type <code>HBox</code>.</p>\n",
       "<p>\n",
       "  If you're reading this message in the Jupyter Notebook or JupyterLab Notebook, it may mean\n",
       "  that the widgets JavaScript is still loading. If this message persists, it\n",
       "  likely means that the widgets JavaScript library is either not installed or\n",
       "  not enabled. See the <a href=\"https://ipywidgets.readthedocs.io/en/stable/user_install.html\">Jupyter\n",
       "  Widgets Documentation</a> for setup instructions.\n",
       "</p>\n",
       "<p>\n",
       "  If you're reading this message in another frontend (for example, a static\n",
       "  rendering on GitHub or <a href=\"https://nbviewer.jupyter.org/\">NBViewer</a>),\n",
       "  it may mean that your frontend doesn't currently support widgets.\n",
       "</p>\n"
      ],
      "text/plain": [
       "HBox(children=(IntProgress(value=0, max=10000), HTML(value='')))"
      ]
     },
     "metadata": {},
     "output_type": "display_data"
    },
    {
     "name": "stdout",
     "output_type": "stream",
     "text": [
      "\n"
     ]
    }
   ],
   "source": [
    "num_iter = 10000\n",
    "inh_stats = {\n",
    "    'tac_nolaser_0':multilevel_bootstrap(grouped_correct_licks, ['Whisker', 'Stim_Som', 'No_laser'], ['Whisker', 'Stim_Som', 0], num_iter = num_iter),\n",
    "    'tac_nolaser_50':multilevel_bootstrap(grouped_correct_licks, ['Whisker', 'Stim_Som', 'No_laser'], ['Whisker', 'Stim_Som', 0.05], num_iter = num_iter),\n",
    "    'vis_nolaser_0':multilevel_bootstrap(grouped_correct_licks, ['Visual', 'Stim_Vis', 'No_laser'], ['Visual', 'Stim_Vis', 0], num_iter = num_iter),\n",
    "    'vis_nolaser_50':multilevel_bootstrap(grouped_correct_licks, ['Visual', 'Stim_Vis', 'No_laser'], ['Visual', 'Stim_Vis', 0.05], num_iter = num_iter),\n",
    "}\n"
   ]
  },
  {
   "cell_type": "code",
   "execution_count": 419,
   "metadata": {},
   "outputs": [
    {
     "data": {
      "application/vnd.jupyter.widget-view+json": {
       "model_id": "0287a3f2f7a54620a03b71cbb499dac3",
       "version_major": 2,
       "version_minor": 0
      },
      "text/html": [
       "<p>Failed to display Jupyter Widget of type <code>HBox</code>.</p>\n",
       "<p>\n",
       "  If you're reading this message in the Jupyter Notebook or JupyterLab Notebook, it may mean\n",
       "  that the widgets JavaScript is still loading. If this message persists, it\n",
       "  likely means that the widgets JavaScript library is either not installed or\n",
       "  not enabled. See the <a href=\"https://ipywidgets.readthedocs.io/en/stable/user_install.html\">Jupyter\n",
       "  Widgets Documentation</a> for setup instructions.\n",
       "</p>\n",
       "<p>\n",
       "  If you're reading this message in another frontend (for example, a static\n",
       "  rendering on GitHub or <a href=\"https://nbviewer.jupyter.org/\">NBViewer</a>),\n",
       "  it may mean that your frontend doesn't currently support widgets.\n",
       "</p>\n"
      ],
      "text/plain": [
       "HBox(children=(IntProgress(value=0, max=10000), HTML(value='')))"
      ]
     },
     "metadata": {},
     "output_type": "display_data"
    },
    {
     "name": "stdout",
     "output_type": "stream",
     "text": [
      "\n"
     ]
    },
    {
     "data": {
      "application/vnd.jupyter.widget-view+json": {
       "model_id": "ec745b56d58845b089dfc02d648c8f8b",
       "version_major": 2,
       "version_minor": 0
      },
      "text/html": [
       "<p>Failed to display Jupyter Widget of type <code>HBox</code>.</p>\n",
       "<p>\n",
       "  If you're reading this message in the Jupyter Notebook or JupyterLab Notebook, it may mean\n",
       "  that the widgets JavaScript is still loading. If this message persists, it\n",
       "  likely means that the widgets JavaScript library is either not installed or\n",
       "  not enabled. See the <a href=\"https://ipywidgets.readthedocs.io/en/stable/user_install.html\">Jupyter\n",
       "  Widgets Documentation</a> for setup instructions.\n",
       "</p>\n",
       "<p>\n",
       "  If you're reading this message in another frontend (for example, a static\n",
       "  rendering on GitHub or <a href=\"https://nbviewer.jupyter.org/\">NBViewer</a>),\n",
       "  it may mean that your frontend doesn't currently support widgets.\n",
       "</p>\n"
      ],
      "text/plain": [
       "HBox(children=(IntProgress(value=0, max=10000), HTML(value='')))"
      ]
     },
     "metadata": {},
     "output_type": "display_data"
    },
    {
     "name": "stdout",
     "output_type": "stream",
     "text": [
      "\n"
     ]
    },
    {
     "data": {
      "application/vnd.jupyter.widget-view+json": {
       "model_id": "7cb13c6a01564c98bbd95ac697e39bfe",
       "version_major": 2,
       "version_minor": 0
      },
      "text/html": [
       "<p>Failed to display Jupyter Widget of type <code>HBox</code>.</p>\n",
       "<p>\n",
       "  If you're reading this message in the Jupyter Notebook or JupyterLab Notebook, it may mean\n",
       "  that the widgets JavaScript is still loading. If this message persists, it\n",
       "  likely means that the widgets JavaScript library is either not installed or\n",
       "  not enabled. See the <a href=\"https://ipywidgets.readthedocs.io/en/stable/user_install.html\">Jupyter\n",
       "  Widgets Documentation</a> for setup instructions.\n",
       "</p>\n",
       "<p>\n",
       "  If you're reading this message in another frontend (for example, a static\n",
       "  rendering on GitHub or <a href=\"https://nbviewer.jupyter.org/\">NBViewer</a>),\n",
       "  it may mean that your frontend doesn't currently support widgets.\n",
       "</p>\n"
      ],
      "text/plain": [
       "HBox(children=(IntProgress(value=0, max=10000), HTML(value='')))"
      ]
     },
     "metadata": {},
     "output_type": "display_data"
    },
    {
     "name": "stdout",
     "output_type": "stream",
     "text": [
      "\n"
     ]
    },
    {
     "data": {
      "application/vnd.jupyter.widget-view+json": {
       "model_id": "216041e79167421082acaf25ab146016",
       "version_major": 2,
       "version_minor": 0
      },
      "text/html": [
       "<p>Failed to display Jupyter Widget of type <code>HBox</code>.</p>\n",
       "<p>\n",
       "  If you're reading this message in the Jupyter Notebook or JupyterLab Notebook, it may mean\n",
       "  that the widgets JavaScript is still loading. If this message persists, it\n",
       "  likely means that the widgets JavaScript library is either not installed or\n",
       "  not enabled. See the <a href=\"https://ipywidgets.readthedocs.io/en/stable/user_install.html\">Jupyter\n",
       "  Widgets Documentation</a> for setup instructions.\n",
       "</p>\n",
       "<p>\n",
       "  If you're reading this message in another frontend (for example, a static\n",
       "  rendering on GitHub or <a href=\"https://nbviewer.jupyter.org/\">NBViewer</a>),\n",
       "  it may mean that your frontend doesn't currently support widgets.\n",
       "</p>\n"
      ],
      "text/plain": [
       "HBox(children=(IntProgress(value=0, max=10000), HTML(value='')))"
      ]
     },
     "metadata": {},
     "output_type": "display_data"
    },
    {
     "name": "stdout",
     "output_type": "stream",
     "text": [
      "\n"
     ]
    }
   ],
   "source": [
    "sham_stats = {\n",
    "    'tac_nolaser_0':multilevel_bootstrap(grouped_correct_licks_sham, ['Whisker', 'Stim_Som', 'No_laser'], ['Whisker', 'Stim_Som', 0], num_iter = num_iter),\n",
    "    'tac_nolaser_50':multilevel_bootstrap(grouped_correct_licks_sham, ['Whisker', 'Stim_Som', 'No_laser'], ['Whisker', 'Stim_Som', 0.05], num_iter = num_iter),\n",
    "    'vis_nolaser_0':multilevel_bootstrap(grouped_correct_licks_sham, ['Visual', 'Stim_Vis', 'No_laser'], ['Visual', 'Stim_Vis', 0], num_iter = num_iter),\n",
    "    'vis_nolaser_50':multilevel_bootstrap(grouped_correct_licks_sham, ['Visual', 'Stim_Vis', 'No_laser'], ['Visual', 'Stim_Vis', 0.05], num_iter = num_iter),\n",
    "}"
   ]
  },
  {
   "cell_type": "code",
   "execution_count": 420,
   "metadata": {},
   "outputs": [],
   "source": [
    "def calc_mean_diff(label,mouse_session):\n",
    "    diff_stats = {\n",
    "        'mouse':[label[0]],\n",
    "        'session':[label[1]],\n",
    "        'tac_nolaser_0': mouse_session[0][('Whisker', 'Stim_Som', 0)]-mouse_session[0][('Whisker', 'Stim_Som', 'No_laser')],\n",
    "        'tac_nolaser_50':mouse_session[0][('Whisker', 'Stim_Som', 0.05)]-mouse_session[0][('Whisker', 'Stim_Som', 'No_laser')],\n",
    "        'vis_nolaser_0':mouse_session[0][('Visual', 'Stim_Vis', 0)]-mouse_session[0][('Visual', 'Stim_Vis', 'No_laser')],\n",
    "        'vis_nolaser_50':mouse_session[0][('Visual', 'Stim_Vis', 0.05)]-mouse_session[0][('Visual', 'Stim_Vis', 'No_laser')]\n",
    "    }\n",
    "    return pd.DataFrame.from_dict(diff_stats)\n",
    "    \n",
    "mean_diffs = pd.concat([calc_mean_diff(label, mouse_session) for label, mouse_session in beh_performance.items()]).reset_index(drop = True)"
   ]
  },
  {
   "cell_type": "code",
   "execution_count": 362,
   "metadata": {},
   "outputs": [
    {
     "data": {
      "text/html": [
       "<div>\n",
       "<style scoped>\n",
       "    .dataframe tbody tr th:only-of-type {\n",
       "        vertical-align: middle;\n",
       "    }\n",
       "\n",
       "    .dataframe tbody tr th {\n",
       "        vertical-align: top;\n",
       "    }\n",
       "\n",
       "    .dataframe thead th {\n",
       "        text-align: right;\n",
       "    }\n",
       "</style>\n",
       "<table border=\"1\" class=\"dataframe\">\n",
       "  <thead>\n",
       "    <tr style=\"text-align: right;\">\n",
       "      <th></th>\n",
       "      <th>mouse</th>\n",
       "      <th>session</th>\n",
       "      <th>tac_nolaser_0</th>\n",
       "      <th>tac_nolaser_0.05</th>\n",
       "      <th>vis_nolaser_0</th>\n",
       "      <th>vis_nolaser_0.05</th>\n",
       "    </tr>\n",
       "  </thead>\n",
       "  <tbody>\n",
       "    <tr>\n",
       "      <th>0</th>\n",
       "      <td>EF0114</td>\n",
       "      <td>inh</td>\n",
       "      <td>0.549126</td>\n",
       "      <td>0.263292</td>\n",
       "      <td>0.130820</td>\n",
       "      <td>0.005722</td>\n",
       "    </tr>\n",
       "    <tr>\n",
       "      <th>1</th>\n",
       "      <td>EF0114</td>\n",
       "      <td>sham</td>\n",
       "      <td>0.072549</td>\n",
       "      <td>0.088889</td>\n",
       "      <td>0.028125</td>\n",
       "      <td>0.032670</td>\n",
       "    </tr>\n",
       "    <tr>\n",
       "      <th>2</th>\n",
       "      <td>EF0131</td>\n",
       "      <td>inh</td>\n",
       "      <td>0.428630</td>\n",
       "      <td>0.268907</td>\n",
       "      <td>0.096491</td>\n",
       "      <td>0.026179</td>\n",
       "    </tr>\n",
       "    <tr>\n",
       "      <th>3</th>\n",
       "      <td>EF0131</td>\n",
       "      <td>sham</td>\n",
       "      <td>-0.093701</td>\n",
       "      <td>-0.074754</td>\n",
       "      <td>0.161026</td>\n",
       "      <td>0.107165</td>\n",
       "    </tr>\n",
       "    <tr>\n",
       "      <th>4</th>\n",
       "      <td>EF0132</td>\n",
       "      <td>inh</td>\n",
       "      <td>0.319149</td>\n",
       "      <td>0.073921</td>\n",
       "      <td>0.040593</td>\n",
       "      <td>0.079840</td>\n",
       "    </tr>\n",
       "    <tr>\n",
       "      <th>5</th>\n",
       "      <td>EF0132</td>\n",
       "      <td>sham</td>\n",
       "      <td>-0.043860</td>\n",
       "      <td>-0.062378</td>\n",
       "      <td>0.110897</td>\n",
       "      <td>0.059058</td>\n",
       "    </tr>\n",
       "    <tr>\n",
       "      <th>6</th>\n",
       "      <td>EF0144</td>\n",
       "      <td>inh</td>\n",
       "      <td>0.374198</td>\n",
       "      <td>0.134313</td>\n",
       "      <td>0.065963</td>\n",
       "      <td>-0.023305</td>\n",
       "    </tr>\n",
       "    <tr>\n",
       "      <th>7</th>\n",
       "      <td>EF0144</td>\n",
       "      <td>sham</td>\n",
       "      <td>-0.063571</td>\n",
       "      <td>0.084184</td>\n",
       "      <td>-0.006061</td>\n",
       "      <td>0.092979</td>\n",
       "    </tr>\n",
       "    <tr>\n",
       "      <th>8</th>\n",
       "      <td>YT045</td>\n",
       "      <td>inh</td>\n",
       "      <td>0.277509</td>\n",
       "      <td>0.109818</td>\n",
       "      <td>-0.013699</td>\n",
       "      <td>-0.025603</td>\n",
       "    </tr>\n",
       "    <tr>\n",
       "      <th>9</th>\n",
       "      <td>YT045</td>\n",
       "      <td>sham</td>\n",
       "      <td>0.031933</td>\n",
       "      <td>-0.168067</td>\n",
       "      <td>-0.086957</td>\n",
       "      <td>0.079710</td>\n",
       "    </tr>\n",
       "  </tbody>\n",
       "</table>\n",
       "</div>"
      ],
      "text/plain": [
       "    mouse session  tac_nolaser_0  tac_nolaser_0.05  vis_nolaser_0  \\\n",
       "0  EF0114     inh       0.549126          0.263292       0.130820   \n",
       "1  EF0114    sham       0.072549          0.088889       0.028125   \n",
       "2  EF0131     inh       0.428630          0.268907       0.096491   \n",
       "3  EF0131    sham      -0.093701         -0.074754       0.161026   \n",
       "4  EF0132     inh       0.319149          0.073921       0.040593   \n",
       "5  EF0132    sham      -0.043860         -0.062378       0.110897   \n",
       "6  EF0144     inh       0.374198          0.134313       0.065963   \n",
       "7  EF0144    sham      -0.063571          0.084184      -0.006061   \n",
       "8   YT045     inh       0.277509          0.109818      -0.013699   \n",
       "9   YT045    sham       0.031933         -0.168067      -0.086957   \n",
       "\n",
       "   vis_nolaser_0.05  \n",
       "0          0.005722  \n",
       "1          0.032670  \n",
       "2          0.026179  \n",
       "3          0.107165  \n",
       "4          0.079840  \n",
       "5          0.059058  \n",
       "6         -0.023305  \n",
       "7          0.092979  \n",
       "8         -0.025603  \n",
       "9          0.079710  "
      ]
     },
     "execution_count": 362,
     "metadata": {},
     "output_type": "execute_result"
    }
   ],
   "source": [
    "mean_diffs"
   ]
  },
  {
   "cell_type": "code",
   "execution_count": 363,
   "metadata": {},
   "outputs": [
    {
     "data": {
      "text/plain": [
       "{'tac_nolaser_0': array([0.27062664, 0.274209  , 0.28187175, ..., 0.57217806, 0.5745628 ,\n",
       "        0.58076312]),\n",
       " 'tac_nolaser_50': array([0.00459569, 0.02458064, 0.02594871, ..., 0.31464707, 0.31535029,\n",
       "        0.31681306]),\n",
       " 'vis_nolaser_0': array([-0.03601446, -0.02776709, -0.02461738, ...,  0.17411714,\n",
       "         0.17434484,  0.17612958]),\n",
       " 'vis_nolaser_50': array([-0.10187675, -0.09064426, -0.08547726, ...,  0.12775975,\n",
       "         0.13187782,  0.13370813])}"
      ]
     },
     "execution_count": 363,
     "metadata": {},
     "output_type": "execute_result"
    }
   ],
   "source": [
    "inh_stats"
   ]
  },
  {
   "cell_type": "code",
   "execution_count": 380,
   "metadata": {},
   "outputs": [
    {
     "data": {
      "text/plain": [
       "{'tac_nolaser_0': array([0.26507092, 0.26941008, 0.2748227 , ..., 0.57972973, 0.58410175,\n",
       "        0.59149444]),\n",
       " 'tac_nolaser_50': array([0.02400873, 0.02782852, 0.03433725, ..., 0.33588057, 0.33720831,\n",
       "        0.34820574]),\n",
       " 'vis_nolaser_0': array([-0.02792548, -0.02596962, -0.02320798, ...,  0.17464202,\n",
       "         0.1837079 ,  0.18541948]),\n",
       " 'vis_nolaser_50': array([-0.09286958, -0.08556966, -0.08422474, ...,  0.12899381,\n",
       "         0.13292697,  0.14347333])}"
      ]
     },
     "execution_count": 380,
     "metadata": {},
     "output_type": "execute_result"
    }
   ],
   "source": [
    "sham_stats"
   ]
  },
  {
   "cell_type": "code",
   "execution_count": 526,
   "metadata": {},
   "outputs": [
    {
     "data": {
      "image/png": "[encoded data removed]",
      "text/plain": [
       "<Figure size 504x324 with 2 Axes>"
      ]
     },
     "metadata": {},
     "output_type": "display_data"
    }
   ],
   "source": [
    "fig, (ax,ax1) = mpl.subplots(1,2, figsize = (7,4.5), sharey = True)\n",
    "mean_diffs = mean_diffs[mean_diffs['mouse'] != 'YT045']\n",
    "\n",
    "for a, mod, color in zip([ax,ax1], ['tac', 'vis'], ['m', 'C1']):\n",
    "    for i, group in enumerate([mod+'_nolaser_0', mod+'_nolaser_50']):\n",
    "        conf = [int(num_iter*0.025), int(num_iter*0.975)]\n",
    "        a.scatter(np.random.randn(4)*0.025+i, mean_diffs.loc[mean_diffs['session'] == 'inh', group], color = color, alpha = 0.5)\n",
    "        a.add_patch(patches.Rectangle((-0.1+i, inh_stats[group][conf[0]]), 0.2, inh_stats[group][conf[1]] - inh_stats[group][conf[0]], color = color, alpha = 0.2))\n",
    "\n",
    "        a.scatter([0.5+i]*4, mean_diffs.loc[mean_diffs['session'] == 'sham', group], color = [0.5,0.5,0.5])\n",
    "        a.add_patch(patches.Rectangle((0.4+i, sham_stats[group][conf[0]]), 0.2, sham_stats[group][conf[1]] - sham_stats[group][conf[0]], color = [0.4,0.4,0.4], alpha = 0.2))\n",
    "\n",
    "ax.text(0.3, 0.1, 'Tactile + sham', transform = ax.transAxes, color = [0.5,0.5,0.5])\n",
    "ax1.text(0.3, 0.1, 'Visual + sham', transform = ax1.transAxes, color = [0.5,0.5,0.5])\n",
    "\n",
    "ax.text(0.3, 0.2, 'Tactile +  inhibition', transform = ax.transAxes, color = 'm')\n",
    "ax1.text(0.3, 0.2, 'Visual +  inhibition', transform = ax1.transAxes, color = 'C1')\n",
    "ax.set_xticks([0,0.5,1,1.5])\n",
    "ax.set_xticklabels([])\n",
    "ax1.set_xticks([0,0.5,1,1.5])\n",
    "\n",
    "ax1.set_xticklabels(['No offset laser', '', '', '50ms offset laser'])\n",
    "\n",
    "for a in (ax, ax1):\n",
    "    utils.prettify_ax(a, x_label = '', y_label = '')\n",
    "    a.axhline(0, linestyle = '--', color = 'k')\n",
    "    a.set_xlim(-0.35,2)\n",
    "    a.set_ylim(-0.7,0.2)\n",
    "mpl.subplots_adjust(wspace = 0.15)    \n",
    "fig.savefig('Fig8_inh_diff.pdf',format='pdf', dpi=900, transparent = True)"
   ]
  },
  {
   "cell_type": "code",
   "execution_count": 512,
   "metadata": {},
   "outputs": [
    {
     "name": "stdout",
     "output_type": "stream",
     "text": [
      "No laser/late inhibition t-test: 0.19218628711624366\n",
      "No laser/full inhibition t-test: 0.01168997495201936\n",
      "\n"
     ]
    },
    {
     "data": {
      "image/png": "[encoded data removed]",
      "text/plain": [
       "<Figure size 720x432 with 2 Axes>"
      ]
     },
     "metadata": {},
     "output_type": "display_data"
    }
   ],
   "source": [
    "fig, (ax1, ax2) = mpl.subplots(1,2, figsize = (10,6), sharey = True)\n",
    "plot_perf(beh_performance[('EF0114', 'inh')][0],beh_performance[('EF0114', 'inh')][1], ax1,ax2)\n",
    "plot_perf(beh_performance[('EF0131', 'inh')][0],beh_performance[('EF0131', 'inh')][1], ax1,ax2)\n",
    "plot_perf(beh_performance[('EF0132', 'inh')][0],beh_performance[('EF0132', 'inh')][1], ax1,ax2)\n",
    "plot_perf(beh_performance[('EF0144', 'inh')][0],beh_performance[('EF0144', 'inh')][1], ax1,ax2)\n",
    "\n",
    "fig.suptitle('S1-Inhibition: Mixed 50ms and 150ms stimuli')\n",
    "# fig.savefig('fig_inh_both.png', format='png', dpi=600)\n",
    "\n",
    "block_type = 'Visual'\n",
    "stim_type = 'Stim_Vis'\n",
    "\n",
    "cond1 = select_treatment_group(beh_performance, 'inh', (block_type, stim_type, 'No_laser'))\n",
    "cond2 = select_treatment_group(beh_performance, 'inh', (block_type, stim_type, 0.05))\n",
    "cond3 = select_treatment_group(beh_performance, 'inh', (block_type, stim_type, 0.0))\n",
    "no_laser_vs_late = stats.ttest_rel(cond1, cond2)\n",
    "no_laser_vs_full = stats.ttest_rel(cond1, cond3)\n",
    "\n",
    "print('No laser/late inhibition t-test: {}\\nNo laser/full inhibition t-test: {}\\n'.format(no_laser_vs_late.pvalue/2, no_laser_vs_full.pvalue/2))\n",
    "mpl.subplots_adjust(wspace = 0.1)\n",
    "fig.savefig('S1-inh_mixed_long_short.pdf',format='pdf', dpi=900, transparent = True)"
   ]
  },
  {
   "cell_type": "code",
   "execution_count": null,
   "metadata": {},
   "outputs": [],
   "source": []
  }
 ],
 "metadata": {
  "kernelspec": {
   "display_name": "Python 3",
   "language": "python",
   "name": "python3"
  },
  "language_info": {
   "codemirror_mode": {
    "name": "ipython",
    "version": 3
   },
   "file_extension": ".py",
   "mimetype": "text/x-python",
   "name": "python",
   "nbconvert_exporter": "python",
   "pygments_lexer": "ipython3",
   "version": "3.6.4"
  }
 },
 "nbformat": 4,
 "nbformat_minor": 2
}
