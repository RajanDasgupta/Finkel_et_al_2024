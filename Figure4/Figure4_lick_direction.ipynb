{
 "cells": [
  {
   "cell_type": "code",
   "execution_count": 1,
   "metadata": {
    "ExecuteTime": {
     "end_time": "2018-02-13T10:03:26.969441Z",
     "start_time": "2018-02-13T10:03:19.009053"
    }
   },
   "outputs": [],
   "source": [
    "#!pip install ipywidgets\n",
    "#!jupyter nbextension enable --py widgetsnbextension\n",
    "import scipy as sp\n",
    "import scipy.io\n",
    "import scipy.stats\n",
    "import os\n",
    "import numpy as np\n",
    "import pandas as pd\n",
    "import glob\n",
    "import csv\n",
    "import random as rand\n",
    "from tqdm import tnrange, tqdm_notebook\n",
    "import sys\n",
    "sys.path.append(os.getcwd()+'\\\\..')\n",
    "\n",
    "import cmocean\n",
    "import matplotlib.patches as patches\n",
    "from matplotlib import gridspec\n",
    "from utils import utils\n",
    "from utils import plotting_utils as pu\n",
    "from utils import zscores## If exporting figures for adobe illustrator\n",
    "from utils import plotting_utils as pu\n",
    "from utils import auc_methods\n",
    "\n",
    "from collections import Iterable\n",
    "import matplotlib.pylab as mpl\n",
    "import random as rand\n",
    "import colorlover as cl\n",
    "\n",
    "# from sklearn.metrics import roc_curve, auc\n",
    "# from sklearn.model_selection import train_test_split\n",
    "# from sklearn.preprocessing import label_binarize\n",
    "\n",
    "%load_ext autoreload\n",
    "%autoreload 2\n",
    "mpl.rcParams['pdf.fonttype'] = 42\n",
    "mpl.rcParams['ps.fonttype'] = 42"
   ]
  },
  {
   "cell_type": "markdown",
   "metadata": {},
   "source": [
    "## If exporting figures for adobe illustrator"
   ]
  },
  {
   "cell_type": "code",
   "execution_count": 2,
   "metadata": {
    "ExecuteTime": {
     "end_time": "2018-02-13T09:33:19.542174Z",
     "start_time": "2018-02-13T14:33:15.612Z"
    }
   },
   "outputs": [],
   "source": [
    "mpl.close('all')\n",
    "\n",
    "font = {'family' : 'Arial',\n",
    "        'weight' : 'normal',\n",
    "        'size'   : 6}\n",
    "\n",
    "mpl.rc('font', **font)\n",
    "mpl.rc('xtick', labelsize=6) \n",
    "mpl.rc('ytick', labelsize=6)\n",
    "mpl.rc('axes', labelsize=6)\n",
    "\n",
    "mpl.rcParams['pdf.fonttype'] = 42\n",
    "\n",
    "mpl.rcParams['ps.fonttype'] = 42\n",
    "size_mult = 0.2"
   ]
  },
  {
   "cell_type": "markdown",
   "metadata": {},
   "source": [
    "## If plotting for inline visualization"
   ]
  },
  {
   "cell_type": "code",
   "execution_count": 3,
   "metadata": {
    "ExecuteTime": {
     "end_time": "2018-02-13T15:10:42.249093Z",
     "start_time": "2018-02-13T15:10:42.122484"
    }
   },
   "outputs": [],
   "source": [
    "mpl.close('all')\n",
    "\n",
    "font = {'family' : 'Arial',\n",
    "        'weight' : 'normal',\n",
    "        'size'   : 14}\n",
    "\n",
    "mpl.rc('font', **font)\n",
    "mpl.rc('xtick', labelsize=14) \n",
    "mpl.rc('ytick', labelsize=14)\n",
    "mpl.rc('axes', labelsize=14)\n",
    "\n",
    "mpl.rcParams['pdf.fonttype'] = 42\n",
    "mpl.rcParams['ps.fonttype'] = 42\n",
    "size_mult = 1"
   ]
  },
  {
   "cell_type": "code",
   "execution_count": 4,
   "metadata": {},
   "outputs": [
    {
     "data": {
      "text/plain": [
       "'C:\\\\Users\\\\efink\\\\Documents\\\\Github\\\\crossmodal\\\\Figure7'"
      ]
     },
     "execution_count": 4,
     "metadata": {},
     "output_type": "execute_result"
    }
   ],
   "source": [
    "data_directory = os.getcwd()\n",
    "data_directory"
   ]
  },
  {
   "cell_type": "code",
   "execution_count": 6,
   "metadata": {
    "ExecuteTime": {
     "end_time": "2018-02-13T09:33:19.542174Z",
     "start_time": "2018-02-13T14:33:16.594Z"
    }
   },
   "outputs": [],
   "source": [
    "mpl.close('all')\n",
    "\n",
    "font = {'family' : 'Arial',\n",
    "        'weight' : 'normal',\n",
    "        'size'   : 14}\n",
    "\n",
    "mpl.rc('font', **font)\n",
    "mpl.rc('xtick', labelsize=14) \n",
    "mpl.rc('ytick', labelsize=14)\n",
    "mpl.rc('axes', labelsize=14)\n",
    "\n",
    "mpl.rcParams['pdf.fonttype'] = 42\n",
    "mpl.rcParams['ps.fonttype'] = 42\n",
    "size_mult = 1"
   ]
  },
  {
   "cell_type": "code",
   "execution_count": 7,
   "metadata": {
    "ExecuteTime": {
     "end_time": "2018-02-13T09:33:29.327574Z",
     "start_time": "2018-02-13T09:33:29.316570"
    }
   },
   "outputs": [],
   "source": [
    "# data_directory = 'C:\\\\Users\\\\PC\\\\documents\\\\github\\\\Crossmodal-project\\\\Data'\n",
    "bin_size = 0.025\n",
    "window = [-1, 3]\n",
    "edges = np.arange(window[0], window[1], bin_size)"
   ]
  },
  {
   "cell_type": "code",
   "execution_count": 8,
   "metadata": {
    "ExecuteTime": {
     "end_time": "2018-02-13T14:34:51.147653Z",
     "start_time": "2018-02-13T14:34:13.602384"
    }
   },
   "outputs": [
    {
     "data": {
      "application/vnd.jupyter.widget-view+json": {
       "model_id": "2fa70e77662648a6929858fc50d7c643",
       "version_major": 2,
       "version_minor": 0
      },
      "text/html": [
       "<p>Failed to display Jupyter Widget of type <code>HBox</code>.</p>\n",
       "<p>\n",
       "  If you're reading this message in the Jupyter Notebook or JupyterLab Notebook, it may mean\n",
       "  that the widgets JavaScript is still loading. If this message persists, it\n",
       "  likely means that the widgets JavaScript library is either not installed or\n",
       "  not enabled. See the <a href=\"https://ipywidgets.readthedocs.io/en/stable/user_install.html\">Jupyter\n",
       "  Widgets Documentation</a> for setup instructions.\n",
       "</p>\n",
       "<p>\n",
       "  If you're reading this message in another frontend (for example, a static\n",
       "  rendering on GitHub or <a href=\"https://nbviewer.jupyter.org/\">NBViewer</a>),\n",
       "  it may mean that your frontend doesn't currently support widgets.\n",
       "</p>\n"
      ],
      "text/plain": [
       "HBox(children=(IntProgress(value=0, max=375), HTML(value='')))"
      ]
     },
     "metadata": {},
     "output_type": "display_data"
    },
    {
     "name": "stdout",
     "output_type": "stream",
     "text": [
      "\n"
     ]
    }
   ],
   "source": [
    "log_df, unit_key_df = utils.load_data(data_directory, switch=True)\n",
    "# log_df = utils.filt_motion_trials(log_df, data_directory, fn = 'trialsToExclude3')\n",
    "unit_key_df = utils.calc_unit_stats(unit_key_df, log_df, bin_size,)\n",
    "log_df['spike_counts(stim_aligned)'] = log_df[\n",
    "    'spike_times(stim_aligned)'].apply(lambda x: np.histogram(x,edges)[0]/bin_size)"
   ]
  },
  {
   "cell_type": "code",
   "execution_count": 9,
   "metadata": {
    "ExecuteTime": {
     "end_time": "2018-02-13T15:04:56.641403Z",
     "start_time": "2018-02-13T15:04:49.674314"
    }
   },
   "outputs": [
    {
     "data": {
      "application/vnd.jupyter.widget-view+json": {
       "model_id": "dd5cc65b07764a2db4647484c361af4b",
       "version_major": 2,
       "version_minor": 0
      },
      "text/html": [
       "<p>Failed to display Jupyter Widget of type <code>HBox</code>.</p>\n",
       "<p>\n",
       "  If you're reading this message in the Jupyter Notebook or JupyterLab Notebook, it may mean\n",
       "  that the widgets JavaScript is still loading. If this message persists, it\n",
       "  likely means that the widgets JavaScript library is either not installed or\n",
       "  not enabled. See the <a href=\"https://ipywidgets.readthedocs.io/en/stable/user_install.html\">Jupyter\n",
       "  Widgets Documentation</a> for setup instructions.\n",
       "</p>\n",
       "<p>\n",
       "  If you're reading this message in another frontend (for example, a static\n",
       "  rendering on GitHub or <a href=\"https://nbviewer.jupyter.org/\">NBViewer</a>),\n",
       "  it may mean that your frontend doesn't currently support widgets.\n",
       "</p>\n"
      ],
      "text/plain": [
       "HBox(children=(IntProgress(value=0, max=375), HTML(value='')))"
      ]
     },
     "metadata": {},
     "output_type": "display_data"
    },
    {
     "name": "stdout",
     "output_type": "stream",
     "text": [
      "\n"
     ]
    }
   ],
   "source": [
    "\n",
    "conds = ['Touch Stim Lick Right', 'Touch Stim Lick Left', 'Touch Stim No Lick', \n",
    "         'Visual Stim Lick Right','Visual Stim Lick Left', 'Visual Stim No Lick']\n",
    "unit_key_df = zscores.calc_z_scores(log_df, unit_key_df, bin_size, window, conds = conds)\n",
    "unit_key_df = unit_key_df.sort_values(['activation_resp_touch'], ascending = False)\n"
   ]
  },
  {
   "cell_type": "code",
   "execution_count": 10,
   "metadata": {
    "ExecuteTime": {
     "end_time": "2018-02-13T15:05:50.870784Z",
     "start_time": "2018-02-13T15:05:50.729166"
    }
   },
   "outputs": [
    {
     "data": {
      "text/plain": [
       "array([], dtype=int64)"
      ]
     },
     "execution_count": 10,
     "metadata": {},
     "output_type": "execute_result"
    }
   ],
   "source": [
    "columns = ['Touch Stim Lick Right(z_score)', 'Touch Stim Lick Left(z_score)', 'Touch Stim No Lick(z_score)', \n",
    "         'Visual Stim Lick Right(z_score)','Visual Stim Lick Left(z_score)', 'Visual Stim No Lick(z_score)']\n",
    "np.where(unit_key_df[columns].applymap(lambda x: any(np.isnan(x))))[0]"
   ]
  },
  {
   "cell_type": "code",
   "execution_count": 11,
   "metadata": {
    "ExecuteTime": {
     "end_time": "2017-10-20T09:26:53.701668Z",
     "start_time": "2017-10-20T09:26:53.644622"
    }
   },
   "outputs": [],
   "source": [
    "unit_key_df = unit_key_df.drop([70, 71, 72, 73, 74, 75, 76])"
   ]
  },
  {
   "cell_type": "code",
   "execution_count": 12,
   "metadata": {
    "ExecuteTime": {
     "end_time": "2018-02-13T15:10:50.018573Z",
     "start_time": "2018-02-13T15:10:49.407247"
    }
   },
   "outputs": [
    {
     "data": {
      "text/plain": [
       "(-0.3, 1)"
      ]
     },
     "execution_count": 12,
     "metadata": {},
     "output_type": "execute_result"
    },
    {
     "data": {
      "image/png": "[encoded data removed]",
      "text/plain": [
       "<Figure size 432x504 with 2 Axes>"
      ]
     },
     "metadata": {},
     "output_type": "display_data"
    }
   ],
   "source": [
    "mpl.close('all')\n",
    "\n",
    "window = [-0.3,1]\n",
    "sub_map = unit_key_df\n",
    "colors = cmocean.cm.thermal\n",
    "columns = ['Touch Stim Lick Right(z_score)', 'Touch Stim Lick Left(z_score)', 'Touch Stim No Lick(z_score)', \n",
    "         'Visual Stim Lick Right(z_score)','Visual Stim Lick Left(z_score)', 'Visual Stim No Lick(z_score)']\n",
    "\n",
    "colors = [ 'C0','#08306b', 'k', '#cc4c02', 'C1', 'C7' ]\n",
    "titles = ['Touch lick right', 'Touch lick left', 'Touch no lick', \n",
    "          'Visual lick right', 'Visual lick left', 'Visual no lick']\n",
    "data = {}\n",
    "xvals = np.arange(window[0], window[1],bin_size)\n",
    "xbins = ((xvals+1)/0.025).astype(int)\n",
    "for z_map in columns:\n",
    "    data[z_map] = pd.DataFrame(np.stack(sub_map[z_map].dropna().as_matrix()))\n",
    "    \n",
    "fig8a_1 = mpl.figure(figsize = (6*size_mult,7*size_mult))\n",
    "\n",
    "gs1 = gridspec.GridSpec(1,1)\n",
    "gs2 = gridspec.GridSpec(1,1)\n",
    "gs1.update(bottom=0.1, top=0.68, left = 0.15, right = 0.9)\n",
    "gs2.update(bottom = 0.69, top=0.87, left = 0.15, right = 0.9)\n",
    "\n",
    "ax1 = mpl.subplot(gs1[0, 0])\n",
    "ax2 = mpl.subplot(gs2[0, 0], sharex =ax1)\n",
    "ax2.axis('off')\n",
    "ax2.add_patch(patches.Rectangle((0,2.4), 0.15, 1, facecolor = 'C0', alpha = .5))\n",
    "ax2.add_patch(patches.Rectangle((0,1.2), 0.15, 1, facecolor = 'C1', alpha = .5))\n",
    "ax2.set_ylim(0,4.7)\n",
    "\n",
    "m_psth = []\n",
    "sem_psth = []\n",
    "\n",
    "for col in columns:\n",
    "    m_psth.append(data[col].mean(axis = 0)[xbins[:-1]])\n",
    "    sem_psth.append(scipy.stats.sem(data[col], axis = 0)[xbins[:-1]])\n",
    "\n",
    "for col in range(6):\n",
    "    ax1.plot(xvals[1:],m_psth[col], colors[col])\n",
    "    ax1.fill_between(xvals[1:], m_psth[col]-sem_psth[col], m_psth[col]+sem_psth[col],\n",
    "                     alpha=0.5,color = colors[col])\n",
    "    ax1.text(.6, .98-0.07*col, titles[col] , size=20, transform=ax1.transAxes, color = colors[col])\n",
    "\n",
    "ax1.set_xlabel('Time from stim onset (s)')\n",
    "ax1.set_ylabel('Mean Z-score')\n",
    "ax1.spines['right'].set_visible(False)\n",
    "ax1.spines['top'].set_visible(False)\n",
    "ax1.set_xlim(window)"
   ]
  },
  {
   "cell_type": "code",
   "execution_count": 13,
   "metadata": {
    "ExecuteTime": {
     "end_time": "2017-10-20T09:26:54.246105Z",
     "start_time": "2017-10-20T09:26:54.087977"
    }
   },
   "outputs": [],
   "source": [
    "fig8a_1.savefig('fig8a_1.pdf', format='pdf', dpi=900)"
   ]
  },
  {
   "cell_type": "markdown",
   "metadata": {},
   "source": [
    "# Calculate AUCs for both lick directions/both stims"
   ]
  },
  {
   "cell_type": "code",
   "execution_count": 14,
   "metadata": {
    "ExecuteTime": {
     "end_time": "2017-10-20T09:26:54.260116Z",
     "start_time": "2017-10-20T09:26:54.247105"
    }
   },
   "outputs": [],
   "source": [
    "# # all_auc_scores = []\n",
    "# # all_confidence_upper_scores = []\n",
    "# # all_confidence_lower_scores = []\n",
    "# # for unit_num in tnrange(unit_key_df.index.shape[0]):\n",
    "# #     all_auc_scores.append(auc_scores)\n",
    "# #     all_confidence_upper_scores.append(unit_conf_upper)\n",
    "# #     all_confidence_lower_scores.append(unit_conf_lower)\n",
    "\n",
    "# def trial_auc(data_log, unit_key, modality, contingency, unit_num):\n",
    "#     # for i in tnrange(len(unit_key_df.index)):\n",
    "#     edges = np.arange(-1,3, 0.025)\n",
    "\n",
    "#     unit_id_df = unit_key_df[['mouse_name', 'date', 'cluster_name']]\n",
    "#     unit = pd.DataFrame(unit_id_df.loc[unit_id_df.index[unit_num]]).T\n",
    "    \n",
    "#     unit_rows = log_df.merge(unit, on=['mouse_name', 'date', 'cluster_name'], how = 'inner')\n",
    "    \n",
    "#     if (modality == 'tactile') & (contingency == 'normal'):\n",
    "#         tt = 'Stim_Som_NoCue'\n",
    "#         side = 1\n",
    "#     elif (modality == 'tactile') & (contingency == 'switch'):\n",
    "#         tt = 'Stim_Som_NoCue'\n",
    "#         side = 2\n",
    "#     elif (modality == 'visual') & (contingency == 'normal'):\n",
    "#         tt = 'Stim_Vis_NoCue'\n",
    "#         side = 2\n",
    "#     elif (modality == 'visual') & (contingency == 'switch'):\n",
    "#         tt = 'Stim_Vis_NoCue'\n",
    "#         side = 1\n",
    "        \n",
    "          \n",
    "#     s_l = (unit_rows['trial_type'].str.contains(tt)) & (unit_rows['response'] == side)\n",
    "#     s_nl = (unit_rows['trial_type'].str.contains(tt)) & (unit_rows['response'] == 0)\n",
    "\n",
    "#     bin_means_all = []\n",
    "#     spike_counts_df = unit_rows[['mouse_name', 'date', 'cluster_name', 'trial_num', \n",
    "#                                  'spike_times(stim_aligned)', 'spike_counts(stim_aligned)']].copy()\n",
    "# #     spike_counts_df['spike_counts(stim_aligned)'] = spike_counts_df[\n",
    "# #         'spike_times(stim_aligned)'].apply(lambda y: np.histogram(y, edges)[0])\n",
    "\n",
    "#     spike_counts_df['labels'] = np.nan\n",
    "\n",
    "#     spike_counts_df.loc[s_l, 'labels'] = 'stim_lick'\n",
    "#     spike_counts_df.loc[s_nl, 'labels'] = 'stim_nolick'\n",
    "   \n",
    "#     comparison_ind = (s_l| s_nl)\n",
    "#     label1 = 'stim_lick'\n",
    "#     label2 = 'stim_no_lick'\n",
    "    \n",
    "        \n",
    "\n",
    "#     y = label_binarize(spike_counts_df.loc[comparison_ind, 'labels'], classes=[label2, label1])\n",
    "#     spike_counts_2d = np.stack(spike_counts_df.loc[comparison_ind, 'spike_counts(stim_aligned)'].as_matrix())\n",
    "    \n",
    "\n",
    "#     auc_scores = np.zeros([1,spike_counts_2d.shape[1]])\n",
    "#     unit_conf_upper = np.zeros([1,spike_counts_2d.shape[1]])\n",
    "#     unit_conf_lower = np.zeros([1,spike_counts_2d.shape[1]])\n",
    "#     for bin in range(spike_counts_2d.shape[1]):\n",
    "#         if len(np.unique(y)) < 2:\n",
    "#             auc_scores[0][bin] = np.nan\n",
    "#             unit_conf_lower[0][bin] =np.nan\n",
    "#             unit_conf_upper[0][bin] = np.nan\n",
    "#         else:\n",
    "#             auc_scores[0][bin] = roc_auc_score(y,spike_counts_2d[:, bin])\n",
    "\n",
    "#             rng_seed = 42  # control reproducibility\n",
    "#             rng = np.random.RandomState(rng_seed)\n",
    "\n",
    "#             bootstrapped_scores = []\n",
    "#             for boot_num in range(1000):\n",
    "#                 indices = rng.randint(0, len(y) - 1, len(y))\n",
    "#                 if len(np.unique(y[indices])) < 2:\n",
    "#                     # need at least one positive and one negative sample for ROC AUC\n",
    "#                     # to be defined: reject the sample\n",
    "#                     continue\n",
    "#                 bootstrapped_scores.append(roc_auc_score(y[indices],spike_counts_2d[indices, bin]))\n",
    "#             sorted_scores = np.array(bootstrapped_scores)\n",
    "#             sorted_scores.sort()\n",
    "#             unit_conf_lower[0][bin] = sorted_scores[int(0.025 * len(sorted_scores))]\n",
    "#             unit_conf_upper[0][bin] = sorted_scores[int(0.975 * len(sorted_scores))]\n",
    "        \n",
    "#     return auc_scores , unit_conf_lower, unit_conf_upper\n",
    "        \n"
   ]
  },
  {
   "cell_type": "code",
   "execution_count": 15,
   "metadata": {
    "ExecuteTime": {
     "end_time": "2017-10-20T09:26:54.338145Z",
     "start_time": "2017-10-20T09:26:54.262118"
    }
   },
   "outputs": [],
   "source": [
    "# tactile_right_aucs_CI = [trial_auc(log_df, unit_key_df, 'tactile', 'normal', x) for x in tnrange(0,unit_key_df.shape[0],1)]\n",
    "# tactile_right_aucs_CI = np.squeeze(np.array(tactile_right_aucs_CI))\n",
    "\n",
    "# tactile_right_aucs = pd.DataFrame(tactile_right_aucs_CI[:,0])\n",
    "# tactile_right_CI_lower = pd.DataFrame(tactile_right_aucs_CI[:,1])\n",
    "# tactile_right_CI_upper = pd.DataFrame(tactile_right_aucs_CI[:,2])\n",
    "\n",
    "# tactile_right_aucs.to_hdf('aucs_right_tactile.h5', 'table')\n",
    "# tactile_right_CI_lower.to_hdf('auc_confidence_upper_tactile_right.h5', 'table')\n",
    "# tactile_right_CI_upper.to_hdf('auc_confidence_lower_tactile_right.h5', 'table')\n",
    "\n",
    "\n",
    "# # #############\n",
    "# tactile_left_aucs_CI = [trial_auc(log_df, unit_key_df, 'tactile', 'switch', x) for x in tnrange(0,unit_key_df.shape[0],1)]\n",
    "# tactile_left_aucs_CI = np.squeeze(np.array(tactile_left_aucs_CI))\n",
    "\n",
    "# tactile_left_aucs = pd.DataFrame(tactile_left_aucs_CI[:,0])\n",
    "# tactile_left_CI_lower = pd.DataFrame(tactile_left_aucs_CI[:,1])\n",
    "# tactile_left_CI_upper = pd.DataFrame(tactile_left_aucs_CI[:,2])\n",
    "\n",
    "# tactile_left_aucs.to_hdf('aucs_left_tactile.h5', 'table')\n",
    "# tactile_left_CI_lower.to_hdf('auc_confidence_upper_tactile_left.h5', 'table')\n",
    "# tactile_left_CI_upper.to_hdf('auc_confidence_lower_tactile_left.h5', 'table')\n",
    "\n",
    "# ################\n",
    "# visual_right_aucs_CI = [trial_auc(log_df, unit_key_df, 'visual', 'switch', x) for x in tnrange(0,unit_key_df.shape[0],1)]\n",
    "# visual_right_aucs_CI = np.squeeze(np.array(visual_right_aucs_CI))\n",
    "\n",
    "# visual_right_aucs = pd.DataFrame(visual_right_aucs_CI[:,0])\n",
    "# visual_right_CI_lower = pd.DataFrame(visual_right_aucs_CI[:,1])\n",
    "# visual_right_CI_upper = pd.DataFrame(visual_right_aucs_CI[:,2])\n",
    "\n",
    "# visual_right_aucs.to_hdf('aucs_right_visual.h5', 'table')\n",
    "# visual_right_CI_lower.to_hdf('auc_confidence_upper_visual_right.h5', 'table')\n",
    "# visual_right_CI_upper.to_hdf('auc_confidence_lower_visual_right.h5', 'table')\n",
    "\n",
    "# #####################\n",
    "# visual_left_aucs_CI = [trial_auc(log_df, unit_key_df, 'visual', 'normal', x) for x in tnrange(0,unit_key_df.shape[0],1)]\n",
    "# visual_left_aucs_CI = np.squeeze(np.array(visual_left_aucs_CI))\n",
    "\n",
    "# visual_left_aucs = pd.DataFrame(visual_left_aucs_CI[:,0])\n",
    "# visual_left_CI_lower = pd.DataFrame(visual_left_aucs_CI[:,1])\n",
    "# visual_left_CI_upper = pd.DataFrame(visual_left_aucs_CI[:,2])\n",
    "\n",
    "# visual_left_aucs.to_hdf('aucs_left_visual.h5', 'table')\n",
    "# visual_left_CI_lower.to_hdf('auc_confidence_upper_visual_left.h5', 'table')\n",
    "# visual_left_CI_upper.to_hdf('auc_confidence_lower_visual_left.h5', 'table')"
   ]
  },
  {
   "cell_type": "markdown",
   "metadata": {},
   "source": [
    "# Load AUCs"
   ]
  },
  {
   "cell_type": "code",
   "execution_count": 16,
   "metadata": {
    "ExecuteTime": {
     "end_time": "2017-10-20T09:26:55.100650Z",
     "start_time": "2017-10-20T09:26:54.339146"
    }
   },
   "outputs": [
    {
     "ename": "FileNotFoundError",
     "evalue": "File aucs_right_tactile2.h5 does not exist",
     "output_type": "error",
     "traceback": [
      "\u001b[1;31m---------------------------------------------------------------------------\u001b[0m",
      "\u001b[1;31mFileNotFoundError\u001b[0m                         Traceback (most recent call last)",
      "\u001b[1;32m<ipython-input-16-b1eb3b54cdc2>\u001b[0m in \u001b[0;36m<module>\u001b[1;34m()\u001b[0m\n\u001b[1;32m----> 1\u001b[1;33m \u001b[0mtactile_LR_aucs\u001b[0m \u001b[1;33m=\u001b[0m \u001b[0mpd\u001b[0m\u001b[1;33m.\u001b[0m\u001b[0mread_hdf\u001b[0m\u001b[1;33m(\u001b[0m\u001b[1;34m'aucs_right_tactile2.h5'\u001b[0m\u001b[1;33m,\u001b[0m \u001b[1;34m'table'\u001b[0m\u001b[1;33m)\u001b[0m\u001b[1;33m.\u001b[0m\u001b[0mloc\u001b[0m\u001b[1;33m[\u001b[0m\u001b[0mnp\u001b[0m\u001b[1;33m.\u001b[0m\u001b[0marray\u001b[0m\u001b[1;33m(\u001b[0m\u001b[0munit_key_df\u001b[0m\u001b[1;33m.\u001b[0m\u001b[0mindex\u001b[0m\u001b[1;33m)\u001b[0m\u001b[1;33m]\u001b[0m\u001b[1;33m\u001b[0m\u001b[0m\n\u001b[0m\u001b[0;32m      2\u001b[0m \u001b[0mtactile_LR_upper\u001b[0m \u001b[1;33m=\u001b[0m \u001b[0mpd\u001b[0m\u001b[1;33m.\u001b[0m\u001b[0mread_hdf\u001b[0m\u001b[1;33m(\u001b[0m\u001b[1;34m'auc_confidence_upper_tactile_right2.h5'\u001b[0m\u001b[1;33m,\u001b[0m\u001b[1;34m'table'\u001b[0m\u001b[1;33m)\u001b[0m\u001b[1;33m.\u001b[0m\u001b[0mloc\u001b[0m\u001b[1;33m[\u001b[0m\u001b[0mnp\u001b[0m\u001b[1;33m.\u001b[0m\u001b[0marray\u001b[0m\u001b[1;33m(\u001b[0m\u001b[0munit_key_df\u001b[0m\u001b[1;33m.\u001b[0m\u001b[0mindex\u001b[0m\u001b[1;33m)\u001b[0m\u001b[1;33m]\u001b[0m\u001b[1;33m\u001b[0m\u001b[0m\n\u001b[0;32m      3\u001b[0m \u001b[0mtactile_LR_lower\u001b[0m \u001b[1;33m=\u001b[0m \u001b[0mpd\u001b[0m\u001b[1;33m.\u001b[0m\u001b[0mread_hdf\u001b[0m\u001b[1;33m(\u001b[0m\u001b[1;34m'auc_confidence_lower_tactile_right2.h5'\u001b[0m\u001b[1;33m,\u001b[0m\u001b[1;34m'table'\u001b[0m\u001b[1;33m)\u001b[0m\u001b[1;33m.\u001b[0m\u001b[0mloc\u001b[0m\u001b[1;33m[\u001b[0m\u001b[0mnp\u001b[0m\u001b[1;33m.\u001b[0m\u001b[0marray\u001b[0m\u001b[1;33m(\u001b[0m\u001b[0munit_key_df\u001b[0m\u001b[1;33m.\u001b[0m\u001b[0mindex\u001b[0m\u001b[1;33m)\u001b[0m\u001b[1;33m]\u001b[0m\u001b[1;33m\u001b[0m\u001b[0m\n\u001b[0;32m      4\u001b[0m \u001b[1;33m\u001b[0m\u001b[0m\n\u001b[0;32m      5\u001b[0m \u001b[0mvisual_LL_aucs\u001b[0m \u001b[1;33m=\u001b[0m \u001b[0mpd\u001b[0m\u001b[1;33m.\u001b[0m\u001b[0mread_hdf\u001b[0m\u001b[1;33m(\u001b[0m\u001b[1;34m'aucs_left_visual2.h5'\u001b[0m\u001b[1;33m,\u001b[0m\u001b[1;34m'table'\u001b[0m\u001b[1;33m)\u001b[0m\u001b[1;33m.\u001b[0m\u001b[0mloc\u001b[0m\u001b[1;33m[\u001b[0m\u001b[0mnp\u001b[0m\u001b[1;33m.\u001b[0m\u001b[0marray\u001b[0m\u001b[1;33m(\u001b[0m\u001b[0munit_key_df\u001b[0m\u001b[1;33m.\u001b[0m\u001b[0mindex\u001b[0m\u001b[1;33m)\u001b[0m\u001b[1;33m]\u001b[0m\u001b[1;33m\u001b[0m\u001b[0m\n",
      "\u001b[1;32m~\\Anaconda3\\lib\\site-packages\\pandas\\io\\pytables.py\u001b[0m in \u001b[0;36mread_hdf\u001b[1;34m(path_or_buf, key, mode, **kwargs)\u001b[0m\n\u001b[0;32m    345\u001b[0m         \u001b[1;32mif\u001b[0m \u001b[1;32mnot\u001b[0m \u001b[0mexists\u001b[0m\u001b[1;33m:\u001b[0m\u001b[1;33m\u001b[0m\u001b[0m\n\u001b[0;32m    346\u001b[0m             raise compat.FileNotFoundError(\n\u001b[1;32m--> 347\u001b[1;33m                 'File %s does not exist' % path_or_buf)\n\u001b[0m\u001b[0;32m    348\u001b[0m \u001b[1;33m\u001b[0m\u001b[0m\n\u001b[0;32m    349\u001b[0m         \u001b[0mstore\u001b[0m \u001b[1;33m=\u001b[0m \u001b[0mHDFStore\u001b[0m\u001b[1;33m(\u001b[0m\u001b[0mpath_or_buf\u001b[0m\u001b[1;33m,\u001b[0m \u001b[0mmode\u001b[0m\u001b[1;33m=\u001b[0m\u001b[0mmode\u001b[0m\u001b[1;33m,\u001b[0m \u001b[1;33m**\u001b[0m\u001b[0mkwargs\u001b[0m\u001b[1;33m)\u001b[0m\u001b[1;33m\u001b[0m\u001b[0m\n",
      "\u001b[1;31mFileNotFoundError\u001b[0m: File aucs_right_tactile2.h5 does not exist"
     ]
    }
   ],
   "source": [
    "tactile_LR_aucs = pd.read_hdf('aucs_right_tactile2.h5', 'table').loc[np.array(unit_key_df.index)]\n",
    "tactile_LR_upper = pd.read_hdf('auc_confidence_upper_tactile_right2.h5','table').loc[np.array(unit_key_df.index)]\n",
    "tactile_LR_lower = pd.read_hdf('auc_confidence_lower_tactile_right2.h5','table').loc[np.array(unit_key_df.index)]\n",
    "\n",
    "visual_LL_aucs = pd.read_hdf('aucs_left_visual2.h5','table').loc[np.array(unit_key_df.index)]\n",
    "visual_LL_upper = pd.read_hdf('auc_confidence_upper_visual_left2.h5','table').loc[np.array(unit_key_df.index)]\n",
    "visual_LL_lower = pd.read_hdf('auc_confidence_lower_visual_left2.h5','table').loc[np.array(unit_key_df.index)]\n",
    "\n",
    "tactile_LL_aucs = pd.read_hdf('aucs_left_tactile2.h5','table').loc[np.array(unit_key_df.index)]\n",
    "tactile_LL_upper = pd.read_hdf('auc_confidence_upper_tactile_left2.h5','table').loc[np.array(unit_key_df.index)]\n",
    "tactile_LL_lower = pd.read_hdf('auc_confidence_lower_tactile_left2.h5','table').loc[np.array(unit_key_df.index)]\n",
    "\n",
    "visual_LR_aucs = pd.read_hdf('aucs_right_visual2.h5','table').loc[np.array(unit_key_df.index)]\n",
    "visual_LR_upper = pd.read_hdf('auc_confidence_upper_visual_right2.h5', 'table').loc[np.array(unit_key_df.index)]\n",
    "visual_LR_lower = pd.read_hdf('auc_confidence_lower_visual_right2.h5','table').loc[np.array(unit_key_df.index)]\n"
   ]
  },
  {
   "cell_type": "code",
   "execution_count": 21,
   "metadata": {
    "ExecuteTime": {
     "end_time": "2017-10-20T09:26:55.144694Z",
     "start_time": "2017-10-20T09:26:55.100650"
    }
   },
   "outputs": [
    {
     "ename": "NameError",
     "evalue": "name 'tactile_LR_aucs' is not defined",
     "output_type": "error",
     "traceback": [
      "\u001b[1;31m---------------------------------------------------------------------------\u001b[0m",
      "\u001b[1;31mNameError\u001b[0m                                 Traceback (most recent call last)",
      "\u001b[1;32m<ipython-input-21-73d314577044>\u001b[0m in \u001b[0;36m<module>\u001b[1;34m()\u001b[0m\n\u001b[0;32m      1\u001b[0m \u001b[1;31m######## used in later figures\u001b[0m\u001b[1;33m\u001b[0m\u001b[1;33m\u001b[0m\u001b[0m\n\u001b[1;32m----> 2\u001b[1;33m \u001b[0mmean_auc\u001b[0m \u001b[1;33m=\u001b[0m \u001b[1;33m(\u001b[0m\u001b[0mtactile_LR_aucs\u001b[0m \u001b[1;33m+\u001b[0m \u001b[0mvisual_LL_aucs\u001b[0m \u001b[1;33m+\u001b[0m \u001b[0mtactile_LL_aucs\u001b[0m \u001b[1;33m+\u001b[0m\u001b[0mvisual_LR_aucs\u001b[0m\u001b[1;33m)\u001b[0m\u001b[1;33m/\u001b[0m\u001b[1;36m4\u001b[0m\u001b[1;33m\u001b[0m\u001b[0m\n\u001b[0m\u001b[0;32m      3\u001b[0m \u001b[0mwindow\u001b[0m \u001b[1;33m=\u001b[0m \u001b[0mnp\u001b[0m\u001b[1;33m.\u001b[0m\u001b[0marange\u001b[0m\u001b[1;33m(\u001b[0m\u001b[1;36m0\u001b[0m \u001b[1;33m+\u001b[0m \u001b[1;36m1\u001b[0m\u001b[1;33m/\u001b[0m\u001b[1;36m0.025\u001b[0m\u001b[1;33m,\u001b[0m \u001b[1;36m0.75\u001b[0m\u001b[1;33m/\u001b[0m\u001b[1;36m0.025\u001b[0m \u001b[1;33m+\u001b[0m \u001b[1;36m1\u001b[0m\u001b[1;33m/\u001b[0m\u001b[1;36m0.025\u001b[0m\u001b[1;33m,\u001b[0m \u001b[1;36m1\u001b[0m\u001b[1;33m)\u001b[0m\u001b[1;33m\u001b[0m\u001b[0m\n\u001b[0;32m      4\u001b[0m \u001b[0mmAUC_crop\u001b[0m \u001b[1;33m=\u001b[0m \u001b[0mmean_auc\u001b[0m\u001b[1;33m.\u001b[0m\u001b[0mloc\u001b[0m\u001b[1;33m[\u001b[0m\u001b[1;33m:\u001b[0m\u001b[1;33m,\u001b[0m \u001b[0mwindow\u001b[0m\u001b[1;33m]\u001b[0m\u001b[1;33m.\u001b[0m\u001b[0mmean\u001b[0m\u001b[1;33m(\u001b[0m\u001b[0maxis\u001b[0m\u001b[1;33m=\u001b[0m\u001b[1;36m1\u001b[0m\u001b[1;33m)\u001b[0m\u001b[1;33m\u001b[0m\u001b[0m\n\u001b[0;32m      5\u001b[0m \u001b[0munit_key_df\u001b[0m\u001b[1;33m[\u001b[0m\u001b[1;34m'm_resp_auc'\u001b[0m\u001b[1;33m]\u001b[0m \u001b[1;33m=\u001b[0m \u001b[0mmAUC_crop\u001b[0m\u001b[1;33m\u001b[0m\u001b[0m\n",
      "\u001b[1;31mNameError\u001b[0m: name 'tactile_LR_aucs' is not defined"
     ]
    }
   ],
   "source": [
    "######## used in later figures\n",
    "mean_auc = (tactile_LR_aucs + visual_LL_aucs + tactile_LL_aucs +visual_LR_aucs)/4\n",
    "window = np.arange(0 + 1/0.025, 0.75/0.025 + 1/0.025, 1)\n",
    "mAUC_crop = mean_auc.loc[:, window].mean(axis=1)\n",
    "unit_key_df['m_resp_auc'] = mAUC_crop"
   ]
  },
  {
   "cell_type": "code",
   "execution_count": null,
   "metadata": {
    "ExecuteTime": {
     "end_time": "2017-10-20T09:26:55.173717Z",
     "start_time": "2017-10-20T09:26:55.145694"
    },
    "collapsed": true
   },
   "outputs": [],
   "source": [
    "def find_liftoff(upper_CI, lower_CI, window):\n",
    "    \n",
    "    raw_AUC = ((upper_CI.fillna(0.5) <= 0.5) & \n",
    "                   (lower_CI.fillna(0.5) >= 0.5))*1 #multiplying by 1 changes from bool to 0s and 1s\n",
    "    smooth_AUC = raw_AUC.apply(lambda y: np.convolve(y, [1,1,1], 'same'), axis = 1)\n",
    "\n",
    "    all_sig = ((smooth_AUC == 0)*1).apply(lambda y: np.where(y), axis = 1)\n",
    "    all_sig = all_sig.apply(lambda y: (y[0]-2)*0.025-1 if len(y[0])>0 else [])\n",
    "    \n",
    "    all_first_sig = all_sig.apply(lambda y:  y[(y>window[0]) & (y<window[1])] if len(y)!=0 else [])\n",
    "    all_first_sig = all_first_sig.apply(lambda y:  np.nan if len(y)==0 else np.min(y))\n",
    "    \n",
    "    return all_first_sig"
   ]
  },
  {
   "cell_type": "code",
   "execution_count": null,
   "metadata": {
    "ExecuteTime": {
     "end_time": "2017-10-20T09:26:55.374879Z",
     "start_time": "2017-10-20T09:26:55.174718"
    }
   },
   "outputs": [],
   "source": [
    "act_resp_window = np.round(([0,.500/bin_size]) + window[0]) -1\n",
    "\n",
    "##need to do this in two parts otherwise python crashes\n",
    "act_resp = unit_key_df.loc[:,z_conds].applymap(lambda y: y[int(act_resp_window[0]):int(act_resp_window[1])])\n",
    "act_resp  = act_resp.applymap(lambda y: np.nanmean(y))\n",
    "unit_key_df['activation_resp'] = act_resp['Touch Stim Lick Right(z_score)'] + act_resp['Touch Stim Lick Left(z_score)']"
   ]
  },
  {
   "cell_type": "code",
   "execution_count": null,
   "metadata": {
    "ExecuteTime": {
     "end_time": "2017-10-20T09:26:55.734173Z",
     "start_time": "2017-10-20T09:26:55.431924"
    }
   },
   "outputs": [],
   "source": [
    "all_first_sig_tac_LR = find_liftoff(tactile_LR_upper, tactile_LR_lower, [0,1])\n",
    "all_first_sig_tac_LL = find_liftoff(tactile_LL_upper, tactile_LL_lower, [0,1])\n",
    "all_first_sig_vis_LR = find_liftoff(visual_LR_upper, visual_LR_lower, [0,1])\n",
    "all_first_sig_vis_LL = find_liftoff(visual_LL_upper, visual_LL_lower, [0,1])\n",
    "\n",
    "all_first_sig = pd.DataFrame([all_first_sig_tac_LR, all_first_sig_tac_LL, all_first_sig_vis_LR, all_first_sig_vis_LL], \n",
    "                            index = ['tac_LR', 'tac_LL', 'vis_LR','vis_LL']).T\n",
    "\n",
    "\n",
    "any_sig =  (~(all_first_sig.isnull())).any(axis=1).as_matrix()\n",
    "\n",
    "unit_key_df_onsets = pd.concat((unit_key_df.loc[any_sig,:], all_first_sig.loc[any_sig,:]), axis=1)\n",
    "\n",
    "# FP_TR = (unit_key_df_onsets['tac_LR']>unit_key_df_onsets['RT_median_TLR'])\n",
    "# FP_TL = (unit_key_df_onsets['tac_LL']>unit_key_df_onsets['RT_median_TLL'])\n",
    "# FP_VR = (unit_key_df_onsets['vis_LR']>unit_key_df_onsets['RT_median_VLR'])\n",
    "# FP_VL = (unit_key_df_onsets['vis_LL']>unit_key_df_onsets['RT_median_VLL'])\n",
    "\n",
    "# unit_key_df_onsets = unit_key_df_onsets[(~(FP_TR | FP_TL | FP_VR | FP_VL))]"
   ]
  },
  {
   "cell_type": "code",
   "execution_count": null,
   "metadata": {
    "ExecuteTime": {
     "end_time": "2017-10-20T09:26:57.321159Z",
     "start_time": "2017-10-20T09:26:55.735168"
    }
   },
   "outputs": [],
   "source": [
    "mpl.close('all')\n",
    "fig8b_1 = mpl.figure(figsize = (12,8))\n",
    "ax1 = fig8b_1.add_subplot(2,2,1)\n",
    "ax2 = fig8b_1.add_subplot(2,2,2)\n",
    "ax3 = fig8b_1.add_subplot(2,2,3)\n",
    "ax4 = fig8b_1.add_subplot(2,2,4)\n",
    "fig8b_1.subplots_adjust(left = 0.1, bottom = 0.15, wspace = 0.3, hspace = 0.4)\n",
    "\n",
    "\n",
    "axs= [ax1,ax2,ax3,ax4]\n",
    "colors = [ '#08306b', 'C0', 'C1', '#cc4c02' ]\n",
    "react_times = ['RT_median_TLL', 'RT_median_TLR','RT_median_VLL','RT_median_VLR']\n",
    "onset_times = ['tac_LL', 'tac_LR', 'vis_LL','vis_LR']\n",
    "titles = ['Touch lick left\\nlate activity onset', 'Touch lick right\\nlate activity onset',\n",
    "       'Visual lick left\\nlate activity onset', 'Visual lick right\\nlate activity onset']\n",
    "for col_num in range(4):\n",
    "    \n",
    "    rows = ~(unit_key_df_onsets.loc[:,onset_times[col_num]].isnull()).as_matrix()\n",
    "   \n",
    "    \n",
    "    RT = unit_key_df_onsets.loc[rows,react_times[col_num]].sort_values()\n",
    "    late_onset = unit_key_df_onsets.loc[rows,onset_times[col_num]][list(RT.index)]\n",
    "    norm_late_onset = late_onset-RT\n",
    "    \n",
    "    for unit in range(RT.shape[0]):\n",
    "        axs[col_num].add_patch(patches.Rectangle((0, unit), RT.iloc[unit], 1, edgecolor = 'k',\n",
    "                                                 facecolor =  'k', linewidth = 0.01, alpha=0.2))\n",
    "        axs[col_num].add_patch(patches.Rectangle((0, unit), late_onset.iloc[unit], 1, edgecolor =  colors[col_num],\n",
    "                                                 facecolor =  colors[col_num], linewidth = 0.2))\n",
    "        \n",
    "    axs[col_num].text(.5, .3, titles[col_num], size=18, transform=axs[col_num].transAxes, color = colors[col_num])\n",
    "    axs[col_num].text(.5, .15, 'Reaction time', size=18, transform=axs[col_num].transAxes, color = 'C7')\n",
    "        \n",
    "    axs[col_num].set_ylabel('Unit')\n",
    "    axs[col_num].set_xlabel('Time from stim onset (s)')\n",
    "\n",
    "    axs[col_num].set_ylim(0,unit)\n",
    "    axs[col_num].set_xlim(0,2.25)\n",
    "    axs[col_num].spines['right'].set_visible(False)\n",
    "    axs[col_num].spines['top'].set_visible(False)\n",
    "    axs[col_num].xaxis.set_ticks_position('bottom')\n",
    "    axs[col_num].yaxis.set_ticks_position('left')\n",
    "    \n",
    "fig8b_1"
   ]
  },
  {
   "cell_type": "code",
   "execution_count": null,
   "metadata": {
    "ExecuteTime": {
     "end_time": "2017-10-20T09:26:57.330161Z",
     "start_time": "2017-10-20T09:26:57.325158"
    },
    "collapsed": true
   },
   "outputs": [],
   "source": [
    "# fig8b_1.savefig('fig8b_1.png', format='png', dpi=900)"
   ]
  },
  {
   "cell_type": "code",
   "execution_count": null,
   "metadata": {
    "ExecuteTime": {
     "end_time": "2017-10-20T09:26:57.786531Z",
     "start_time": "2017-10-20T09:26:57.334165"
    }
   },
   "outputs": [],
   "source": [
    "\n",
    "mpl.close('all')\n",
    "fig8b_2 = mpl.figure(figsize = (16,6))\n",
    "ax1 = fig8b_2.add_subplot(1,2,1)\n",
    "ax2 = fig8b_2.add_subplot(1,2,2)\n",
    "\n",
    "titles = ['Touch lick right', 'Touch lick left',\n",
    "          'Visual lick right', 'Visual lick left']\n",
    "colors = [ 'C0','#08306b', '#cc4c02', 'C1' ]\n",
    "\n",
    "react_times = ['RT_median_TLR', 'RT_median_TLL','RT_median_VLR','RT_median_VLL']\n",
    "onset_times = ['tac_LR', 'tac_LL', 'vis_LR','vis_LL']\n",
    "\n",
    "num_units = []\n",
    "for col_num,col in enumerate(['tac_LR', 'tac_LL', 'vis_LR','vis_LL']):\n",
    "    rows = ~(unit_key_df_onsets.loc[:,col].isnull()).as_matrix()\n",
    "    values, base = np.histogram(unit_key_df_onsets.loc[rows, col], bins=100)\n",
    "    cumulative = np.cumsum(values)/len(unit_key_df_onsets.loc[rows, col])\n",
    "    ax1.plot(base[:-1], cumulative, linewidth = 2.5, color = colors [col_num])\n",
    "    ax1.set_xlim([0,1])\n",
    "    num_units.append(unit_key_df_onsets.loc[rows, col].shape[0])\n",
    "    ax1.text(.4, .3-col_num*.07, titles[col_num], size=20, transform=ax1.transAxes, color = colors[col_num])\n",
    "    \n",
    "ax1.spines['right'].set_visible(False)\n",
    "ax1.spines['top'].set_visible(False)\n",
    "ax1.xaxis.set_ticks_position('bottom')\n",
    "ax1.yaxis.set_ticks_position('left')\n",
    "ax1.set_ylabel('Cumulative fraction')\n",
    "ax1.set_xlabel('Onset of late activity (s)')\n",
    "\n",
    "for col_num,col in enumerate(['RT_median_TLR', 'RT_median_TLL','RT_median_VLR','RT_median_VLL']):\n",
    "\n",
    "    rows = (~(unit_key_df_onsets.loc[:,onset_times[col_num]].isnull())).as_matrix()\n",
    "    values, base = np.histogram(unit_key_df_onsets.loc[rows, col], bins=100)\n",
    "    cumulative = np.cumsum(values)/len(unit_key_df_onsets.loc[rows, col])\n",
    "    ax2.plot(base[:-1], cumulative, linewidth = 2.5, color = colors [col_num])\n",
    "    ax2.text(.4, .3-col_num*.07, titles[col_num], size=20, transform=ax2.transAxes, color = colors[col_num])\n",
    "\n",
    "    \n",
    "ax2.spines['right'].set_visible(False)\n",
    "ax2.spines['top'].set_visible(False)\n",
    "ax2.xaxis.set_ticks_position('bottom')\n",
    "ax2.yaxis.set_ticks_position('left')\n",
    "ax2.set_ylabel('Cumulative fraction')\n",
    "ax2.set_xlabel('Reaction time (s)')   \n",
    "fig8b_2"
   ]
  },
  {
   "cell_type": "code",
   "execution_count": null,
   "metadata": {
    "ExecuteTime": {
     "end_time": "2017-10-20T09:26:57.900881Z",
     "start_time": "2017-10-20T09:26:57.788528"
    },
    "collapsed": true
   },
   "outputs": [],
   "source": [
    "fig8b_2.savefig('fig8b_2.pdf', format='pdf', dpi=900)"
   ]
  },
  {
   "cell_type": "code",
   "execution_count": null,
   "metadata": {
    "ExecuteTime": {
     "end_time": "2017-10-20T09:26:58.082031Z",
     "start_time": "2017-10-20T09:26:57.901880"
    }
   },
   "outputs": [],
   "source": [
    "mpl.close('all')\n",
    "unique_sessions = unit_key_df.drop_duplicates(['mouse_name', 'date'])\n",
    "\n",
    "fig8c_1 = mpl.figure(figsize = (8,5))\n",
    "ax1 = fig8c_1.add_subplot(111)\n",
    "fig8c_1.subplots_adjust(left = 0.2, bottom = 0.15, wspace = 0.3, hspace = 0.4)\n",
    "\n",
    "colors = [ 'C0','#08306b', '#cc4c02', 'C1' ]\n",
    "titles = ['Touch\\nlick right', 'Touch\\nlick left', 'Visual\\nlick right', 'Visual\\nlick left']\n",
    "\n",
    "bplot = ax1.boxplot(unique_sessions.loc[:, ['RT_median_TLR', 'RT_median_TLL', 'RT_median_VLR', 'RT_median_VLL']].as_matrix(),\n",
    "            labels = titles, vert = False, patch_artist=True, notch = True)\n",
    "\n",
    "\n",
    "for patch, color in zip(bplot['boxes'], colors):\n",
    "        patch.set_facecolor(color)\n",
    "\n",
    "mpl.setp(bplot['medians'], color='k', linewidth = 3)\n",
    "ax1.spines['right'].set_visible(False)\n",
    "ax1.spines['top'].set_visible(False)\n",
    "ax1.set_xlabel('Reaction time (s)')   \n",
    "fig8c_1"
   ]
  },
  {
   "cell_type": "code",
   "execution_count": null,
   "metadata": {
    "ExecuteTime": {
     "end_time": "2017-10-20T09:26:58.166101Z",
     "start_time": "2017-10-20T09:26:58.083027"
    },
    "collapsed": true
   },
   "outputs": [],
   "source": [
    "fig8c_1.savefig('fig8c_1.pdf', format='pdf', dpi=900)"
   ]
  },
  {
   "cell_type": "code",
   "execution_count": null,
   "metadata": {
    "ExecuteTime": {
     "end_time": "2017-10-20T09:26:58.372259Z",
     "start_time": "2017-10-20T09:26:58.170100"
    }
   },
   "outputs": [],
   "source": [
    "subset_dict = {}\n",
    "size_dict = {}\n",
    "\n",
    "subset_dict['None'] = 0\n",
    "size_dict['None'] = 0\n",
    "\n",
    "categories = np.concatenate([log_df['mouse_name'].unique(), log_df['identified'].unique()])\n",
    "\n",
    "for cat in categories:\n",
    "        subset = log_df[log_df['mouse_name'] == cat]\n",
    "        if subset.size == 0:\n",
    "            subset = log_df[log_df['identified'] == cat]\n",
    "            print(cat)\n",
    "        subset_dict[cat] = subset\n",
    "        unique_units = subset[['mouse_name', 'date', 'cluster_name']].drop_duplicates()\n",
    "        size_dict[cat] = len(unique_units)\n",
    "        #print(unique_units.size)"
   ]
  },
  {
   "cell_type": "code",
   "execution_count": null,
   "metadata": {
    "ExecuteTime": {
     "end_time": "2017-10-20T09:26:58.545399Z",
     "start_time": "2017-10-20T09:26:58.373260"
    },
    "collapsed": true
   },
   "outputs": [],
   "source": [
    "import matplotlib.patches as patches\n",
    "from matplotlib import gridspec\n",
    "def plot_rasters(rasters, window, bin_size, modality = 'tactile', ylim=None):\n",
    "    mpl.close('all')\n",
    "    fig = mpl.figure(figsize=(10, 10))\n",
    "    first_raster = rasters[0]\n",
    "    fig.suptitle (rasters[0].iloc[0,0] +', '+ rasters[0].iloc[0, 1] +', '+ rasters[0].iloc[0, 13], size = 22)\n",
    "\n",
    "    gs1 = gridspec.GridSpec(1,1)\n",
    "    gs2 = gridspec.GridSpec(2,1)\n",
    "    gs3 = gridspec.GridSpec(2,1)\n",
    "    gs1.update(bottom = 0.81, top=0.87, left = 0.2, right = 0.82)\n",
    "    gs2.update(bottom=0.1, top=0.8, left = 0.2, right = 0.82)\n",
    "    gs3.update(bottom=0.1, top=0.8, left = 0.83, right = 0.9)\n",
    "    ax1 = mpl.subplot(gs1[0, 0])\n",
    "    ax2 = mpl.subplot(gs2[0, 0])\n",
    "    ax3 = mpl.subplot(gs2[1, 0])\n",
    "    patch_ax = mpl.subplot(gs3[0, 0], sharey = ax2)\n",
    "\n",
    "    ax1.axis('off')\n",
    "    hists = []\n",
    "    colors = ['C4','C3','C2']\n",
    "\n",
    "    mpl.sca(ax2)\n",
    "    trial_type = 0\n",
    "    trial_total = 0\n",
    "    for i in range(3):\n",
    "        ras = rasters[trial_type]\n",
    "        spike_counts = []\n",
    "        for trial, spike in enumerate(ras['spike_times(stim_aligned)']):\n",
    "            spike = spike[(spike>window[0]) & (spike<=window[1])]\n",
    "            mpl.vlines(spike, trial + trial_total + .5, trial + trial_total + 1.5)\n",
    "            mpl.vlines(ras.iloc[trial]['first_lick'], trial + trial_total + .5, trial +\n",
    "                       trial_total + 1.5, color = 'm', linewidth = 5)\n",
    "           \n",
    "            spike = spike[(spike>window[0]) & (spike<=window[1])]\n",
    "            edges = np.arange(window[0], window[1]+bin_size*2, bin_size)\n",
    "            count, _ = np.histogram(spike,edges)\n",
    "            spike_counts.append(count)\n",
    "            \n",
    "        c1 = 0 + 0.5*trial_type\n",
    "        c2 = 0.5 + 0.5*trial_type\n",
    "   \n",
    "        hists.append(np.array(spike_counts))\n",
    "        patch_ax.add_patch(patches.Rectangle((window[0],trial_total+c1), window[1]-window[0],\n",
    "                                       trial + c2, facecolor = colors[trial_type], alpha = 0.5)) \n",
    "        trial_total += trial\n",
    "        trial_type += 1\n",
    "        \n",
    "    ax2.set_xlabel('Time(s)', fontsize = 20)\n",
    "    ax2.set_ylabel('Trials', fontsize= 20)\n",
    "\n",
    "    from scipy import stats\n",
    "    average_hists = []\n",
    "    SE_hists =[]\n",
    "    colors = colors[::-1]\n",
    "    for i, hist in enumerate(hists[::-1]):\n",
    "        average_hists.append(np.mean(hist, axis=0)/bin_size)\n",
    "        SE_hists.append(stats.sem(hist)/bin_size)\n",
    "        \n",
    "        ax3.plot(edges[0:-1], average_hists[i], color = colors[i])\n",
    "        ax3.fill_between(edges[0:-1], average_hists[i]-SE_hists[i],\n",
    "                        average_hists[i]+SE_hists[i], alpha = 0.5, color = colors[i])\n",
    "    if modality == 'visual':\n",
    "        ax1.add_patch(patches.Rectangle((0,0), 0.15, 1, facecolor = 'C1', alpha = 0.5))\n",
    "        ax3.text(.1, .8, \"Visual-Lick\" , size=20, transform=ax3.transAxes, color = colors[0])\n",
    "        ax3.text(.1, .7, \"Visual-Miss\" , size=20, transform=ax3.transAxes, color = colors[1])\n",
    "        ax3.text(.1, .6, \"Visual-CR\" , size=20, transform=ax3.transAxes, color = colors[2])\n",
    "    else:\n",
    "        ax1.add_patch(patches.Rectangle((0,0), 0.15, 1, facecolor = 'C0', alpha = 0.5))\n",
    "        ax3.text(.05, .8, \"Touch-Lick\" , size=20, transform=ax3.transAxes, color = colors[0])\n",
    "        ax3.text(.05, .7, \"Touch-Miss\" , size=20, transform=ax3.transAxes, color = colors[1])\n",
    "        ax3.text(.05, .6, \"Touch-CR\" , size=20, transform=ax3.transAxes, color = colors[2])\n",
    "\n",
    "    ax3.spines['right'].set_visible(False)\n",
    "    ax3.spines['top'].set_visible(False)\n",
    "    ax3.xaxis.set_ticks_position('bottom')\n",
    "    ax3.yaxis.set_ticks_position('left')\n",
    "    ax3.set_xlabel('Time(s)', fontsize = 20)\n",
    "    ax3.set_ylabel('Firing Rate (Hz)', fontsize= 20)\n",
    "    \n",
    "    if ylim != None:\n",
    "        ax3.set_ylim(ylim)\n",
    "\n",
    "    ax2.spines['right'].set_visible(False)\n",
    "    ax2.spines['top'].set_visible(False)\n",
    "    ax2.spines['bottom'].set_visible(False)\n",
    "    ax2.axes.get_xaxis().set_visible(False)\n",
    "    gs2.update(hspace=0.05)\n",
    "    gs3.update(hspace=0.05)\n",
    "    ax2.yaxis.set_ticks_position('left')\n",
    "    ax2.set_ylim(0.5, trial_total+.5)    \n",
    "        \n",
    "    ax1.set_ylim(0,2)\n",
    "    patch_ax.axis('off')\n",
    "    for ax in [ax1,ax2,ax3]:\n",
    "        ax.set_xlim(window[0],window[1]-bin_size)\n",
    "        \n",
    "    return fig, average_hists, SE_hists"
   ]
  },
  {
   "cell_type": "code",
   "execution_count": null,
   "metadata": {
    "ExecuteTime": {
     "end_time": "2017-10-20T09:26:58.590433Z",
     "start_time": "2017-10-20T09:26:58.546399"
    },
    "collapsed": true
   },
   "outputs": [],
   "source": [
    "def plot_unit(df_dict, mouse, n, x_min, x_max, ylim=None, modality = 'tactile'):\n",
    "\n",
    "        df = df_dict[mouse]\n",
    "        #df = pd.DataFrame(df[0], index = [)\n",
    "        ind_units = df[['mouse_name', 'date', 'cluster_name']].drop_duplicates()\n",
    "\n",
    "\n",
    "        mouse = df['mouse_name'] == ind_units.iloc[n,0]\n",
    "        date =  df['date'] == ind_units.iloc[n,1]\n",
    "        cluster_name = df['cluster_name'] == ind_units.iloc[n,2]\n",
    "        current_cell = df[mouse & date & cluster_name]\n",
    "        \n",
    "        if modality == 'visual':\n",
    "            \n",
    "            cell_H = current_cell[(current_cell['block_type'] == 'Visual') &\n",
    "                                   (current_cell['trial_type'] == 'Stim_Vis_NoCue')&\n",
    "                                  (current_cell['correct'] == 1)]\n",
    "            cell_M = current_cell[(current_cell['block_type'] == 'Visual') &\n",
    "                                   (current_cell['trial_type'] == 'Stim_Vis_NoCue')&\n",
    "                                  (current_cell['correct'] == 0)]\n",
    "            cell_CR = current_cell[(current_cell['block_type'] == 'Whisker') &\n",
    "                                   (current_cell['trial_type'] == 'Stim_Vis_NoCue')&\n",
    "                                  (current_cell['response'] == 0)]\n",
    "        else:\n",
    "\n",
    "\n",
    "            cell_H = current_cell[(current_cell['block_type'] == 'Whisker') &\n",
    "                                   (current_cell['trial_type'] == 'Stim_Som_NoCue')&\n",
    "                                  (current_cell['correct'] == 1)]\n",
    "            cell_M = current_cell[(current_cell['block_type'] == 'Whisker') &\n",
    "                                   (current_cell['trial_type'] == 'Stim_Som_NoCue')&\n",
    "                                  (current_cell['correct'] == 0)]\n",
    "            cell_CR = current_cell[(current_cell['block_type'] == 'Visual') &\n",
    "                                   (current_cell['trial_type'] == 'Stim_Som_NoCue')&\n",
    "                                  (current_cell['response'] == 0)]\n",
    "    #         cell_VH = current_cell[(current_cell['block_type'] == 'Visual') &\\\n",
    "    #                                            (current_cell['trial_type'] == 'Stim_Vis_NoCue')]\n",
    "    #         cell_VM = current_cell[(current_cell['block_type'] == 'Visual') &\\\n",
    "    #                                            (current_cell['trial_type'] == 'Stim_Som_NoCue')]\n",
    "        rasters = [cell_CR, cell_M, cell_H]\n",
    "        fig = plot_rasters(rasters, [x_min, x_max], 0.02, ylim = ylim, modality = modality)[0]\n",
    "                \n",
    "\n",
    "\n",
    "        return fig"
   ]
  },
  {
   "cell_type": "code",
   "execution_count": null,
   "metadata": {
    "ExecuteTime": {
     "end_time": "2017-11-03T10:04:30.200576Z",
     "start_time": "2017-11-03T10:04:30.129518"
    }
   },
   "outputs": [],
   "source": [
    "import cmocean\n",
    "from cycler import cycler\n",
    "### note: 0 tick mark on x-axis actually marks the middle of \n",
    "def create_heatmap(dataframe, columns, sig_array, colors, titles, xlim, zlim, bin_size, fig_size = (16,16)):\n",
    "    \n",
    "    fig = mpl.figure(figsize = fig_size)\n",
    "    fig.suptitle(titles[0])\n",
    "\n",
    "    gs1 = gridspec.GridSpec(1,3)\n",
    "    gs2 = gridspec.GridSpec(1,1)\n",
    "\n",
    "    gs1.update(bottom=0.15, top=0.82, left = 0.1, right = 0.9, hspace=0.1, wspace=0.3)\n",
    "    gs2.update(bottom=0.15, top=0.82, left = 0.91, right = 0.94, hspace=0.1, wspace=0.3)\n",
    "\n",
    "    ax1 = mpl.subplot(gs1[0, 0])\n",
    "    ax2 = mpl.subplot(gs1[0, 1], sharex = ax1, sharey = ax1)\n",
    "    ax3 = mpl.subplot(gs1[0, 2], sharex = ax1, sharey = ax1)\n",
    "    \n",
    "    ax4 = mpl.subplot(gs2[0, 0])\n",
    " \n",
    "    z_max = zlim[1]\n",
    "    z_min= zlim[0]\n",
    "\n",
    "    window = xlim\n",
    "\n",
    "    edges = np.arange(window[0], window[1], bin_size)\n",
    "\n",
    "    Col1 = dataframe[columns[0]]\n",
    "    Col2 = dataframe[columns[1]]\n",
    "    Col3 = dataframe[columns[2]]\n",
    "    cols = [Col1, Col2, Col3]\n",
    "\n",
    "    axs = [ax1,ax2, ax3]\n",
    "    heatmaps = []\n",
    "    ticks = np.arange(0, Col1.shape[1], 1/bin_size)\n",
    "    labels = np.arange(-1,3, 1)\n",
    "    \n",
    "    auc_colors = ['C2', 'k']\n",
    "    \n",
    "    for col_num in range(3):\n",
    "        heatmaps.append(axs[col_num].imshow(cols[col_num], cmap = colors, vmax=zlim[1], vmin=zlim[0],\n",
    "                         interpolation = 'bicubic', aspect = 'auto'))\n",
    "        for i, sig_units in enumerate(sig_array):\n",
    "            sig_aucs = np.where(sig_units)[0]-0.5\n",
    "            axs[col_num].scatter([xlim[1]/bin_size + 1/bin_size-2]*sig_aucs.size,\n",
    "                                 sig_aucs, marker = 's', color = auc_colors[i])\n",
    "#             axs[col_num].scatter([xlim[1]/bin_size + 1/bin_size-3]*sig_aucs.size,\n",
    "#                                  sig_aucs, marker = 's', color = auc_colors[i])\n",
    "#             axs[col_num].scatter([xlim[1]/bin_size + 1/bin_size-5]*sig_aucs.size,\n",
    "#                                  sig_aucs, marker = 's', color = 'w')\n",
    "        axs[col_num].set_xticks(ticks)\n",
    "        axs[col_num].set_xticklabels(labels)\n",
    "        axs[col_num].set_title(titles[col_num+1])\n",
    "        \n",
    "        axs[col_num].set_xlabel('Time from stim onset (s)')\n",
    "        axs[col_num].set_ylabel('Unit')\n",
    "        axs[col_num].set_ylim(.5, cols[col_num].shape[0]-.5)\n",
    "        axs[col_num].set_xlim((xlim[0]/bin_size + 1/bin_size)+.5, (xlim[1]/bin_size + 1/bin_size)-1)\n",
    "        axs[col_num].plot([39.5,39.5], [0,axs[col_num].get_ylim()[1]], ':w', linewidth = 1)\n",
    "#         axs[col_num].plot([46,46], [0,axs[col_num].get_ylim()[1]], ':w', linewidth = 1)\n",
    "\n",
    "\n",
    "    mpl.colorbar(heatmaps[-1], cax = ax4)\n",
    "    ax4.set_ylabel('Z-score')\n",
    "    \n",
    "    \n",
    "    return fig"
   ]
  },
  {
   "cell_type": "code",
   "execution_count": null,
   "metadata": {
    "ExecuteTime": {
     "end_time": "2017-11-03T10:04:30.788522Z",
     "start_time": "2017-11-03T10:04:30.783519"
    }
   },
   "outputs": [],
   "source": [
    "unit_key_df_onsets.shape[0]"
   ]
  },
  {
   "cell_type": "code",
   "execution_count": null,
   "metadata": {
    "ExecuteTime": {
     "end_time": "2017-11-03T10:04:31.818036Z",
     "start_time": "2017-11-03T10:04:31.023711"
    }
   },
   "outputs": [],
   "source": [
    "mpl.close('all')\n",
    "\n",
    "\n",
    "sub_map = unit_key_df_onsets.sort_values('m_resp_auc')\n",
    "p_sigs = sub_map['m_resp_auc']>0.5\n",
    "n_sigs = sub_map['m_resp_auc']<0.5\n",
    "\n",
    "colors = cmocean.cm.thermal\n",
    "columns = ['Touch Stim Lick Right(z_score)', 'Touch Stim Lick Left(z_score)', 'Touch Stim No lick(z_score)']\n",
    "data = {}\n",
    "for z_map in columns:\n",
    "    data[z_map] = pd.DataFrame(np.stack(sub_map[z_map].as_matrix()))\n",
    "titles = ('Touch Stim z-scores','Touch Stim LR', 'Touch Stim LL', 'Touch Stim NL')\n",
    "fig8a_2 = create_heatmap(data, columns, [p_sigs, n_sigs], colors, titles, [-0.25,0.75], [-4,8], 0.025, fig_size = (18,6))\n",
    "# py.iplot(fig, filename= 'Hit_CR_Miss')\n",
    "fig8a_2"
   ]
  },
  {
   "cell_type": "code",
   "execution_count": null,
   "metadata": {
    "ExecuteTime": {
     "end_time": "2017-10-20T09:27:15.125912Z",
     "start_time": "2017-10-20T09:26:59.670180"
    }
   },
   "outputs": [],
   "source": [
    "fig8a_2.savefig('fig8a_2.pdf', format='pdf', dpi=900)"
   ]
  },
  {
   "cell_type": "code",
   "execution_count": null,
   "metadata": {
    "ExecuteTime": {
     "end_time": "2017-10-20T09:27:15.987174Z",
     "start_time": "2017-10-20T09:27:15.125912"
    }
   },
   "outputs": [],
   "source": [
    "mpl.close('all')\n",
    "\n",
    "sub_map = unit_key_df_onsets.sort_values('m_resp_auc')\n",
    "p_sigs = sub_map['m_resp_auc']>0.5\n",
    "n_sigs = sub_map['m_resp_auc']<0.5\n",
    "\n",
    "colors = cmocean.cm.thermal\n",
    "columns = ['Visual Stim Lick Right(z_score)', 'Visual Stim Lick Left(z_score)', 'Visual Stim No Lick(z_score)']\n",
    "data = {}\n",
    "for z_map in columns:\n",
    "    data[z_map] = pd.DataFrame(np.stack(sub_map[z_map].as_matrix()))\n",
    "titles = ('Visual Stim z-scores','Visual Stim LR', 'Visual Stim LL', 'Visual Stim NL')\n",
    "fig8a_3 =create_heatmap(data, columns, [p_sigs, n_sigs], colors, titles, [-0.5,1.5], [-4,8], 0.025, fig_size = (18,6))\n",
    "# py.iplot(fig, filename= 'Hit_CR_Miss')\n",
    "fig8a_3"
   ]
  },
  {
   "cell_type": "code",
   "execution_count": null,
   "metadata": {
    "ExecuteTime": {
     "end_time": "2017-10-20T09:27:31.378708Z",
     "start_time": "2017-10-20T09:27:15.987174"
    },
    "collapsed": true
   },
   "outputs": [],
   "source": [
    "fig8a_3.savefig('fig8a_3.pdf', format='pdf', dpi=900)"
   ]
  },
  {
   "cell_type": "code",
   "execution_count": null,
   "metadata": {
    "ExecuteTime": {
     "end_time": "2017-10-20T09:27:31.893373Z",
     "start_time": "2017-10-20T09:27:31.378708"
    }
   },
   "outputs": [],
   "source": [
    "mpl.close('all')\n",
    "sub_map = unit_key_df_onsets.sort_values('m_resp_auc')\n",
    "colors = cmocean.cm.thermal\n",
    "columns = ['Touch Stim Lick Right(z_score)', 'Touch Stim Lick Left(z_score)', 'Touch Stim No lick(z_score)', \n",
    "         'Visual Stim Lick Right(z_score)','Visual Stim Lick Left(z_score)', 'Visual Stim No Lick(z_score)']\n",
    "\n",
    "colors = [ 'C0','#08306b', 'k', '#cc4c02', 'C1', 'C7' ]\n",
    "titles = ['Touch lick right', 'Touch lick left', 'Touch no lick', \n",
    "          'Visual lick right', 'Visual lick left', 'Visual no lick']\n",
    "data = {}\n",
    "xvals = np.arange(-0.3,0.75,bin_size)\n",
    "xbins = ((xvals+1)/0.025).astype(int)\n",
    "for z_map in columns:\n",
    "    data[z_map] = pd.DataFrame(np.stack(sub_map[z_map].dropna().as_matrix()))\n",
    "\n",
    "\n",
    "fig8a_4 = mpl.figure(figsize = (8,7))\n",
    "\n",
    "gs1 = gridspec.GridSpec(1,1)\n",
    "gs2 = gridspec.GridSpec(1,1)\n",
    "\n",
    "gs1.update(bottom=0.1, top=0.68, left = 0.15, right = 0.9)\n",
    "gs2.update(bottom = 0.69, top=0.87, left = 0.15, right = 0.9)\n",
    "\n",
    "ax1 = mpl.subplot(gs1[0, 0])\n",
    "ax2 = mpl.subplot(gs2[0, 0], sharex =ax1)\n",
    "ax2.axis('off')\n",
    "ax2.add_patch(patches.Rectangle((0,2.4), 0.15, 1, facecolor = 'C0', alpha = .5))\n",
    "ax2.add_patch(patches.Rectangle((0,1.2), 0.15, 1, facecolor = 'C1', alpha = .5))\n",
    "ax2.set_ylim(0,4.7)\n",
    "\n",
    "m_psth = []\n",
    "sem_psth = []\n",
    "\n",
    "for col in columns:\n",
    "    m_psth.append(data[col].mean(axis = 0)[xbins[:-1]])\n",
    "    sem_psth.append(scipy.stats.sem(data[col], axis = 0)[xbins[:-1]])\n",
    "\n",
    "\n",
    "\n",
    "for col in range(6):\n",
    "    ax1.plot(xvals[:-1],m_psth[col], colors[col])\n",
    "    ax1.fill_between(xvals[0:-1], m_psth[col]-sem_psth[col], m_psth[col]+sem_psth[col],\n",
    "                     alpha=0.5,color = colors[col])\n",
    "#     ax1.text(.6, .98-0.07*col, titles[col] , size=20, transform=ax1.transAxes, color = colors[col])\n",
    "\n",
    "ax1.set_xlabel('Time from stim onset (s)')\n",
    "ax1.set_ylabel('Mean Z-score')\n",
    "ax1.spines['right'].set_visible(False)\n",
    "ax1.spines['top'].set_visible(False)\n",
    "ax1.set_xlim(-.3,.75)\n",
    "\n",
    "fig8a_4"
   ]
  },
  {
   "cell_type": "code",
   "execution_count": null,
   "metadata": {
    "ExecuteTime": {
     "end_time": "2017-10-20T09:27:31.990876Z",
     "start_time": "2017-10-20T09:27:31.893373"
    },
    "collapsed": true
   },
   "outputs": [],
   "source": [
    "fig8a_4.savefig('fig8a_4.pdf', format='pdf', dpi=900)"
   ]
  },
  {
   "cell_type": "code",
   "execution_count": null,
   "metadata": {
    "ExecuteTime": {
     "end_time": "2017-10-20T10:47:23.129197Z",
     "start_time": "2017-10-20T10:47:22.778385"
    }
   },
   "outputs": [],
   "source": [
    "mpl.close('all')\n",
    "sub_map = unit_key_df_onsets.sort_values('m_resp_auc').loc[p_sigs, :]\n",
    "colors = cmocean.cm.thermal\n",
    "columns = ['Touch Stim Lick Right(z_score)', 'Touch Stim Lick Left(z_score)', 'Touch Stim No lick(z_score)', \n",
    "         'Visual Stim Lick Right(z_score)','Visual Stim Lick Left(z_score)', 'Visual Stim No Lick(z_score)']\n",
    "\n",
    "colors = [ 'C0','#08306b', 'k', '#cc4c02', 'C1', 'C7' ]\n",
    "titles = ['Touch lick right', 'Touch lick left', 'Touch no lick', \n",
    "          'Visual lick right', 'Visual lick left', 'Visual no lick']\n",
    "data = {}\n",
    "xvals = np.arange(-0.3,0.75,bin_size)\n",
    "xbins = ((xvals+1)/0.025).astype(int)\n",
    "for z_map in columns:\n",
    "    data[z_map] = pd.DataFrame(np.stack(sub_map[z_map].dropna().as_matrix()))\n",
    "\n",
    "\n",
    "fig8a_5 = mpl.figure(figsize = (8,7))\n",
    "\n",
    "gs1 = gridspec.GridSpec(1,1)\n",
    "gs2 = gridspec.GridSpec(1,1)\n",
    "\n",
    "gs1.update(bottom=0.1, top=0.68, left = 0.15, right = 0.9)\n",
    "gs2.update(bottom = 0.69, top=0.87, left = 0.15, right = 0.9)\n",
    "\n",
    "ax1 = mpl.subplot(gs1[0, 0])\n",
    "ax2 = mpl.subplot(gs2[0, 0], sharex =ax1)\n",
    "ax2.axis('off')\n",
    "ax2.add_patch(patches.Rectangle((0,2.4), 0.15, 1, facecolor = 'C0', alpha = .5))\n",
    "ax2.add_patch(patches.Rectangle((0,1.2), 0.15, 1, facecolor = 'C1', alpha = .5))\n",
    "ax2.set_ylim(0,4.7)\n",
    "\n",
    "m_psth = []\n",
    "sem_psth = []\n",
    "\n",
    "for col in columns:\n",
    "    m_psth.append(data[col].mean(axis = 0)[xbins[:-1]])\n",
    "    sem_psth.append(scipy.stats.sem(data[col], axis = 0)[xbins[:-1]])\n",
    "\n",
    "\n",
    "\n",
    "for col in range(6):\n",
    "    ax1.plot(xvals[:-1],m_psth[col], colors[col])\n",
    "    ax1.fill_between(xvals[0:-1], m_psth[col]-sem_psth[col], m_psth[col]+sem_psth[col],\n",
    "                     alpha=0.5,color = colors[col])\n",
    "#     ax1.text(.6, .98-0.07*col, titles[col] , size=20, transform=ax1.transAxes, color = colors[col])\n",
    "\n",
    "ax1.set_xlabel('Time from stim onset (s)')\n",
    "ax1.set_ylabel('Mean Z-score')\n",
    "ax1.spines['right'].set_visible(False)\n",
    "ax1.spines['top'].set_visible(False)\n",
    "ax1.set_xlim(-.3,.75)\n",
    "\n",
    "fig8a_5"
   ]
  },
  {
   "cell_type": "code",
   "execution_count": null,
   "metadata": {
    "ExecuteTime": {
     "end_time": "2017-10-20T10:47:24.852308Z",
     "start_time": "2017-10-20T10:47:24.769242"
    },
    "collapsed": true
   },
   "outputs": [],
   "source": [
    "fig8a_5.savefig('fig8a_5.pdf', format='pdf', dpi=900)"
   ]
  },
  {
   "cell_type": "code",
   "execution_count": null,
   "metadata": {
    "ExecuteTime": {
     "end_time": "2017-10-20T10:47:31.661569Z",
     "start_time": "2017-10-20T10:47:31.305781"
    }
   },
   "outputs": [],
   "source": [
    "mpl.close('all')\n",
    "sub_map = unit_key_df_onsets.sort_values('m_resp_auc').loc[n_sigs, :]\n",
    "colors = cmocean.cm.thermal\n",
    "columns = ['Touch Stim Lick Right(z_score)', 'Touch Stim Lick Left(z_score)', 'Touch Stim No lick(z_score)', \n",
    "         'Visual Stim Lick Right(z_score)','Visual Stim Lick Left(z_score)', 'Visual Stim No Lick(z_score)']\n",
    "\n",
    "colors = [ 'C0','#08306b', 'k', '#cc4c02', 'C1', 'C7' ]\n",
    "titles = ['Touch lick right', 'Touch lick left', 'Touch no lick', \n",
    "          'Visual lick right', 'Visual lick left', 'Visual no lick']\n",
    "data = {}\n",
    "xvals = np.arange(-0.3,0.75,bin_size)\n",
    "xbins = ((xvals+1)/0.025).astype(int)\n",
    "for z_map in columns:\n",
    "    data[z_map] = pd.DataFrame(np.stack(sub_map[z_map].dropna().as_matrix()))\n",
    "\n",
    "\n",
    "fig8a_6 = mpl.figure(figsize = (8,7))\n",
    "\n",
    "gs1 = gridspec.GridSpec(1,1)\n",
    "gs2 = gridspec.GridSpec(1,1)\n",
    "\n",
    "gs1.update(bottom=0.1, top=0.68, left = 0.15, right = 0.9)\n",
    "gs2.update(bottom = 0.69, top=0.87, left = 0.15, right = 0.9)\n",
    "\n",
    "ax1 = mpl.subplot(gs1[0, 0])\n",
    "ax2 = mpl.subplot(gs2[0, 0], sharex =ax1)\n",
    "ax2.axis('off')\n",
    "ax2.add_patch(patches.Rectangle((0,2.4), 0.15, 1, facecolor = 'C0', alpha = .5))\n",
    "ax2.add_patch(patches.Rectangle((0,1.2), 0.15, 1, facecolor = 'C1', alpha = .5))\n",
    "ax2.set_ylim(0,4.7)\n",
    "\n",
    "m_psth = []\n",
    "sem_psth = []\n",
    "\n",
    "for col in columns:\n",
    "    m_psth.append(data[col].mean(axis = 0)[xbins[:-1]])\n",
    "    sem_psth.append(scipy.stats.sem(data[col], axis = 0)[xbins[:-1]])\n",
    "\n",
    "\n",
    "\n",
    "for col in range(6):\n",
    "    ax1.plot(xvals[:-1],m_psth[col], colors[col])\n",
    "    ax1.fill_between(xvals[0:-1], m_psth[col]-sem_psth[col], m_psth[col]+\n",
    "                     sem_psth[col],\n",
    "                     alpha=0.5,color = colors[col])\n",
    "#     ax1.text(.6, .98-0.07*col, titles[col] , size=20, transform=ax1.transAxes, color = colors[col])\n",
    "\n",
    "ax1.set_xlabel('Time from stim onset (s)')\n",
    "ax1.set_ylabel('Mean Z-score')\n",
    "ax1.spines['right'].set_visible(False)\n",
    "ax1.spines['top'].set_visible(False)\n",
    "ax1.set_xlim(-.3,.75)\n",
    "\n",
    "fig8a_6"
   ]
  },
  {
   "cell_type": "code",
   "execution_count": null,
   "metadata": {
    "ExecuteTime": {
     "end_time": "2017-10-20T10:47:32.447137Z",
     "start_time": "2017-10-20T10:47:32.362071"
    },
    "collapsed": true
   },
   "outputs": [],
   "source": [
    "# fig8a_6.savefig('fig8a_6.pdf', format='pdf', dpi=900)"
   ]
  },
  {
   "cell_type": "code",
   "execution_count": null,
   "metadata": {
    "ExecuteTime": {
     "end_time": "2017-10-20T09:27:32.897604Z",
     "start_time": "2017-10-20T09:27:32.825546"
    }
   },
   "outputs": [],
   "source": [
    "def FR_boxplots(sub_map, trial_types, times, colors, label_names):\n",
    "    converted_times = (np.array(times)/0.025 + 1/0.025).astype(int)\n",
    "\n",
    "    fig = mpl.figure(figsize = (16,8))\n",
    "    ax1 = fig.add_subplot(141)\n",
    "    ax2 = fig.add_subplot(142,sharey= ax1)\n",
    "    ax3 = fig.add_subplot(143,sharey= ax1)\n",
    "    ax4 = fig.add_subplot(144,sharey= ax1)\n",
    "    axs = [ax1,ax2,ax3,ax4]\n",
    "    mpl.subplots_adjust(left=0.1, bottom=0.25)\n",
    "\n",
    "\n",
    "\n",
    "    for t in range(len(converted_times[:-1])): \n",
    "\n",
    "        cropped_sub_map = sub_map.loc[:, columns].applymap(lambda y: np.nanmean(y[converted_times[t]: converted_times[t+1]]))\n",
    "\n",
    "        pVals = []\n",
    "        pVals.append(scipy.stats.wilcoxon(cropped_sub_map[columns[0]].as_matrix(),\n",
    "                                          cropped_sub_map[columns[1]].as_matrix())[1])\n",
    "        pVals.append(scipy.stats.wilcoxon(cropped_sub_map[columns[0]].as_matrix(),\n",
    "                                          cropped_sub_map[columns[2]].as_matrix())[1])\n",
    "        pVals.append(scipy.stats.wilcoxon(cropped_sub_map[columns[1]].as_matrix(),\n",
    "                                          cropped_sub_map[columns[2]].as_matrix())[1])\n",
    "\n",
    "        bp = axs[t].boxplot(cropped_sub_map.as_matrix(), showfliers= False, patch_artist = True)\n",
    "       \n",
    "\n",
    "        for patch, color in zip(bp['boxes'], colors):\n",
    "                patch.set_facecolor(color)\n",
    "\n",
    "        mpl.setp(bp['medians'], color='w', linewidth = 3)\n",
    "\n",
    "        max_val = max(np.array([cap.get_ydata() for cap in bp['caps']]).flatten())\n",
    "        if pVals[0] <= 0.05:\n",
    "            axs[t].plot([1,2], [max_val + 7]*2, 'k')\n",
    "            axs[t].plot([1.5]*2, [max_val + 10]*2, 'k*')\n",
    "        if pVals[1] <= 0.05:\n",
    "            axs[t].plot([1,3], [max_val + 15]*2, 'k')\n",
    "            axs[t].plot([2]*2, [max_val + 18]*2, 'k*')\n",
    "        if pVals[2] <= 0.05:\n",
    "            axs[t].plot([2,3], [max_val + 4]*2, 'k')\n",
    "            axs[t].plot([2.5]*2, [max_val + 7]*2, 'k*')\n",
    "        labels = axs[t].get_xticklabels()\n",
    "        mpl.setp(labels, rotation=70)\n",
    "        axs[t].set_xticklabels(label_names)\n",
    "\n",
    "        axs[t].spines['right'].set_visible(False)\n",
    "        axs[t].spines['top'].set_visible(False)\n",
    "        \n",
    "    axs[0].set_ylabel('Firing Rate (Hz)')\n",
    "\n",
    "    return fig"
   ]
  },
  {
   "cell_type": "code",
   "execution_count": null,
   "metadata": {
    "ExecuteTime": {
     "end_time": "2017-10-20T09:27:40.069786Z",
     "start_time": "2017-10-20T09:27:32.898604"
    }
   },
   "outputs": [],
   "source": [
    "mpl.close('all')\n",
    "sub_map = unit_key_df_onsets.sort_values('m_resp_auc').loc[p_sigs, :]\n",
    "times = [-.250, 0, .050, .300, .750]\n",
    "colors = [ 'C0','#08306b', 'k']\n",
    "columns = ['Touch Stim Lick Right','Touch Stim Lick Left', 'Touch Stim No lick']\n",
    "labels = ['Touch Stim\\nLick Right','Touch Stim\\n Lick Left', 'Touch Stim\\n No Lick']\n",
    "\n",
    "fig8d_1 = FR_boxplots(sub_map, columns, times, colors, labels)\n",
    "fig8d_1.savefig('fig8d_1.png', format='png', dpi=900)\n",
    "\n",
    "fig8d_1"
   ]
  },
  {
   "cell_type": "code",
   "execution_count": null,
   "metadata": {
    "ExecuteTime": {
     "end_time": "2017-10-20T09:27:46.992080Z",
     "start_time": "2017-10-20T09:27:40.071785"
    }
   },
   "outputs": [],
   "source": [
    "mpl.close('all')\n",
    "sub_map = unit_key_df_onsets.sort_values('m_resp_auc').loc[n_sigs, :]\n",
    "colors = [ 'C0','#08306b', 'k']\n",
    "columns = ['Touch Stim Lick Right','Touch Stim Lick Left', 'Touch Stim No lick']\n",
    "labels = ['Touch Stim\\nLick Right','Touch Stim\\n Lick Left', 'Touch Stim\\n No Lick']\n",
    "\n",
    "fig8d_2 = FR_boxplots(sub_map, columns, times, colors, labels)\n",
    "fig8d_2.savefig('fig8d_2.png', format='png', dpi=900)\n",
    "fig8d_2"
   ]
  },
  {
   "cell_type": "code",
   "execution_count": null,
   "metadata": {
    "ExecuteTime": {
     "end_time": "2017-10-20T09:27:54.182927Z",
     "start_time": "2017-10-20T09:27:46.992080"
    }
   },
   "outputs": [],
   "source": [
    "mpl.close('all')\n",
    "sub_map = unit_key_df_onsets.sort_values('m_resp_auc').loc[p_sigs, :]\n",
    "colors = ['#cc4c02', 'C1', 'C7' ]\n",
    "columns = ['Visual Stim Lick Right','Visual Stim Lick Left', 'Visual Stim No Lick']\n",
    "labels = ['Visual Stim\\nLick Right','Visual Stim\\nLick Left', 'Visual Stim\\nNo Lick']\n",
    "\n",
    "\n",
    "FR_boxplots(sub_map, columns, times, colors, labels)\n",
    "fig8d_3 = FR_boxplots(sub_map, columns, times, colors, labels)\n",
    "fig8d_3.savefig('fig8d_3.png', format='png', dpi=900)\n",
    "fig8d_3"
   ]
  },
  {
   "cell_type": "code",
   "execution_count": null,
   "metadata": {
    "ExecuteTime": {
     "end_time": "2017-10-20T09:28:01.358958Z",
     "start_time": "2017-10-20T09:27:54.187930"
    }
   },
   "outputs": [],
   "source": [
    "mpl.close('all')\n",
    "sub_map = unit_key_df_onsets.sort_values('m_resp_auc').loc[n_sigs, :]\n",
    "colors = ['#cc4c02', 'C1', 'C7' ]\n",
    "columns = ['Visual Stim Lick Right','Visual Stim Lick Left', 'Visual Stim No Lick']\n",
    "labels = ['Visual Stim\\nLick Right','Visual Stim\\nLick Left', 'Visual Stim\\nNo Lick']\n",
    "\n",
    "fig8d_4 = FR_boxplots(sub_map, columns, times, colors, labels)\n",
    "fig8d_4.savefig('fig8d_4.png', format='png', dpi=900)\n",
    "fig8d_4"
   ]
  },
  {
   "cell_type": "code",
   "execution_count": 17,
   "metadata": {
    "ExecuteTime": {
     "end_time": "2017-10-20T09:28:06.514992Z",
     "start_time": "2017-10-20T09:28:01.362352"
    },
    "scrolled": false
   },
   "outputs": [],
   "source": [
    "aligned_licks = pd.concat((log_df['licks_left'] - log_df['stim_onset'], log_df['licks_right'] - log_df['stim_onset']), axis = 1)\n",
    "\n",
    "aligned_licks = aligned_licks.applymap(lambda y: list(y[(y>0.1) & (y<2)]))\n",
    "log_df['aligned_licks'] = aligned_licks.apply(lambda y: y[0]+y[1], axis = 1)\n",
    "log_df['num_licks'] = log_df['aligned_licks'].apply(len)\n",
    "log_df['m_freq_licks'] = log_df['aligned_licks'].apply(lambda y: len(y)/(y[-1] - y[0]) if len(y)>1 else 0)\n",
    "\n",
    "log_df['resp1'] = (log_df['response'] == 1)*1\n",
    "log_df['resp2'] = (log_df['response'] == 2)*1\n"
   ]
  },
  {
   "cell_type": "code",
   "execution_count": 18,
   "metadata": {
    "ExecuteTime": {
     "end_time": "2017-10-20T09:28:07.848006Z",
     "start_time": "2017-10-20T09:28:06.514992"
    },
    "code_folding": [
     48
    ],
    "scrolled": false
   },
   "outputs": [
    {
     "ename": "NameError",
     "evalue": "name 'unit_key_df_onsets' is not defined",
     "output_type": "error",
     "traceback": [
      "\u001b[1;31m---------------------------------------------------------------------------\u001b[0m",
      "\u001b[1;31mNameError\u001b[0m                                 Traceback (most recent call last)",
      "\u001b[1;32m<ipython-input-18-8a1e1c8809f3>\u001b[0m in \u001b[0;36m<module>\u001b[1;34m()\u001b[0m\n\u001b[0;32m      9\u001b[0m \u001b[0mfig8e_3\u001b[0m\u001b[1;33m.\u001b[0m\u001b[0msubplots_adjust\u001b[0m\u001b[1;33m(\u001b[0m\u001b[0mleft\u001b[0m \u001b[1;33m=\u001b[0m \u001b[1;36m0.15\u001b[0m\u001b[1;33m,\u001b[0m \u001b[0mright\u001b[0m \u001b[1;33m=\u001b[0m \u001b[1;36m0.85\u001b[0m\u001b[1;33m,\u001b[0m \u001b[0mbottom\u001b[0m \u001b[1;33m=\u001b[0m \u001b[1;36m0.15\u001b[0m\u001b[1;33m,\u001b[0m \u001b[0mtop\u001b[0m \u001b[1;33m=\u001b[0m \u001b[1;36m0.85\u001b[0m\u001b[1;33m,\u001b[0m \u001b[0mwspace\u001b[0m \u001b[1;33m=\u001b[0m \u001b[1;36m0.5\u001b[0m\u001b[1;33m,\u001b[0m \u001b[0mhspace\u001b[0m\u001b[1;33m=\u001b[0m \u001b[1;36m0.5\u001b[0m\u001b[1;33m)\u001b[0m\u001b[1;33m\u001b[0m\u001b[0m\n\u001b[0;32m     10\u001b[0m \u001b[1;33m\u001b[0m\u001b[0m\n\u001b[1;32m---> 11\u001b[1;33m \u001b[0mtarget_units\u001b[0m \u001b[1;33m=\u001b[0m \u001b[0munit_key_df_onsets\u001b[0m\u001b[1;33m.\u001b[0m\u001b[0mloc\u001b[0m\u001b[1;33m[\u001b[0m\u001b[1;33m:\u001b[0m\u001b[1;33m,\u001b[0m\u001b[1;33m[\u001b[0m\u001b[1;34m'tac_LL'\u001b[0m\u001b[1;33m,\u001b[0m \u001b[1;34m'tac_LR'\u001b[0m\u001b[1;33m]\u001b[0m\u001b[1;33m]\u001b[0m\u001b[1;33m.\u001b[0m\u001b[0mdropna\u001b[0m\u001b[1;33m(\u001b[0m\u001b[1;33m)\u001b[0m\u001b[1;33m\u001b[0m\u001b[0m\n\u001b[0m\u001b[0;32m     12\u001b[0m \u001b[0mtarget_units2\u001b[0m \u001b[1;33m=\u001b[0m \u001b[0munit_key_df_onsets\u001b[0m\u001b[1;33m.\u001b[0m\u001b[0mloc\u001b[0m\u001b[1;33m[\u001b[0m\u001b[1;33m:\u001b[0m\u001b[1;33m,\u001b[0m\u001b[1;33m[\u001b[0m\u001b[1;34m'vis_LL'\u001b[0m\u001b[1;33m,\u001b[0m \u001b[1;34m'vis_LR'\u001b[0m\u001b[1;33m]\u001b[0m\u001b[1;33m]\u001b[0m\u001b[1;33m.\u001b[0m\u001b[0mdropna\u001b[0m\u001b[1;33m(\u001b[0m\u001b[1;33m)\u001b[0m\u001b[1;33m\u001b[0m\u001b[0m\n\u001b[0;32m     13\u001b[0m \u001b[1;33m\u001b[0m\u001b[0m\n",
      "\u001b[1;31mNameError\u001b[0m: name 'unit_key_df_onsets' is not defined"
     ]
    },
    {
     "data": {
      "image/png": "[encoded data removed]",
      "text/plain": [
       "<Figure size 864x864 with 4 Axes>"
      ]
     },
     "metadata": {},
     "output_type": "display_data"
    }
   ],
   "source": [
    "mpl.close('all')\n",
    "\n",
    "fig8e_3 = mpl.figure(figsize=(12,12))\n",
    "\n",
    "ax1 = fig8e_3.add_subplot(221)\n",
    "ax2 = fig8e_3.add_subplot(222, sharex = ax1, sharey = ax1)\n",
    "ax3 = fig8e_3.add_subplot(223)\n",
    "ax4 = fig8e_3.add_subplot(224, sharex = ax3, sharey = ax3)\n",
    "fig8e_3.subplots_adjust(left = 0.15, right = 0.85, bottom = 0.15, top = 0.85, wspace = 0.5, hspace= 0.5)\n",
    "\n",
    "target_units = unit_key_df_onsets.loc[:,['tac_LL', 'tac_LR']].dropna()\n",
    "target_units2 = unit_key_df_onsets.loc[:,['vis_LL', 'vis_LR']].dropna()\n",
    "\n",
    "avg_onset_tLR, sem_onset_tLR = target_units['tac_LR'].mean(), target_units['tac_LR'].sem()\n",
    "avg_onset_tLL, sem_onset_tLL = target_units['tac_LL'].mean(), target_units['tac_LL'].sem()\n",
    "avg_onset_vLR, sem_onset_vLR = target_units2['vis_LR'].mean(), target_units2['vis_LR'].sem()\n",
    "avg_onset_vLL, sem_onset_vLL = target_units2['vis_LL'].mean(), target_units2['vis_LL'].sem()\n",
    "\n",
    "p_onset_touch = str(np.around(scipy.stats.ttest_rel(target_units['tac_LR'],\n",
    "                                   target_units['tac_LL'])[1],decimals = 2))\n",
    "p_onset_vis = str(np.around(scipy.stats.ttest_rel(target_units2['vis_LR'],\n",
    "                                   target_units2['vis_LL'])[1],decimals = 2))\n",
    "\n",
    "ax1.scatter(target_units['tac_LL'], target_units['tac_LR'], alpha = 0.7)\n",
    "ax1.scatter(avg_onset_tLL, avg_onset_tLR, color = 'r')\n",
    "ax1.plot([avg_onset_tLL, avg_onset_tLL],  [avg_onset_tLR -sem_onset_tLR ,avg_onset_tLR+sem_onset_tLR], 'r')\n",
    "ax1.plot([avg_onset_tLL -sem_onset_tLL ,avg_onset_tLL+sem_onset_tLL], [avg_onset_tLR, avg_onset_tLR], 'r')\n",
    "ax1.text(.05, .85, \"p = \" + p_onset_touch,transform=ax1.transAxes)\n",
    "\n",
    "ax2.scatter(target_units2['vis_LL'], target_units2['vis_LR'], alpha = 0.7, color = 'C1')\n",
    "ax2.scatter(avg_onset_vLL, avg_onset_vLR, color = 'r')\n",
    "ax2.plot([avg_onset_vLL, avg_onset_vLL],  [avg_onset_vLR -sem_onset_vLR ,avg_onset_vLR+sem_onset_vLR], 'r')\n",
    "ax2.plot([avg_onset_vLL -sem_onset_vLL ,avg_onset_vLL+sem_onset_vLL], [avg_onset_vLR, avg_onset_vLR], 'r')\n",
    "ax2.text(.05, .85, \"p = \" + p_onset_vis,transform=ax2.transAxes)\n",
    "\n",
    "\n",
    "tac_LR_smooth_aucs = tactile_LR_aucs.apply(lambda y: np.convolve(abs(y-.5)+.5, [1/3]*3, 'same'), axis = 1)\n",
    "tac_LL_smooth_aucs = tactile_LL_aucs.apply(lambda y: np.convolve(abs(y-.5)+.5, [1/3]*3, 'same'), axis = 1)\n",
    "vis_LR_smooth_aucs = visual_LR_aucs.apply(lambda y: np.convolve(abs(y-.5)+.5, [1/3]*3, 'same'), axis = 1)\n",
    "vis_LL_smooth_aucs = visual_LL_aucs.apply(lambda y: np.convolve(abs(y-.5)+.5, [1/3]*3, 'same'), axis = 1)\n",
    "\n",
    "max_tLR = tac_LR_smooth_aucs.loc[target_units.index, 40: 70].max(axis=1)\n",
    "max_tLL = tac_LL_smooth_aucs.loc[target_units.index, 40: 70].max(axis=1)\n",
    "max_vLR = vis_LR_smooth_aucs.loc[target_units2.index, 40: 70].max(axis=1)\n",
    "max_vLL = vis_LL_smooth_aucs.loc[target_units2.index, 40: 70].max(axis=1)\n",
    "\n",
    "avg_max_tLR, sem_max_tLR = max_tLR.mean(),max_tLR.sem()\n",
    "avg_max_tLL, sem_max_tLL = max_tLL.mean(),max_tLL.sem()\n",
    "avg_max_vLR, sem_max_vLR = max_vLR.mean(),max_vLR.sem()\n",
    "avg_max_vLL, sem_max_vLL = max_vLL.mean(),max_vLL.sem()\n",
    "\n",
    "p_max_touch = str(np.around(scipy.stats.ttest_rel(max_tLR,max_tLL)[1],decimals = 2))\n",
    "p_max_vis = str(np.around(scipy.stats.ttest_rel(max_vLR, max_vLL)[1],decimals = 2))\n",
    "\n",
    "\n",
    "ax3.scatter(max_tLL, max_tLR, alpha = 0.7)\n",
    "ax3.scatter(avg_max_tLL, avg_max_tLR, color = 'r')\n",
    "ax3.plot([avg_max_tLL, avg_max_tLL],[avg_max_tLR-sem_max_tLR, avg_max_tLR+sem_max_tLR], color = 'r')\n",
    "ax3.plot([avg_max_tLL-sem_max_tLL, avg_max_tLL+sem_max_tLL], [avg_max_tLR, avg_max_tLR], color = 'r')\n",
    "ax3.text(.05, .85, \"p = \" + p_max_touch,transform=ax3.transAxes, color = 'r')\n",
    "\n",
    "\n",
    "ax4.scatter(max_vLL, max_vLR, alpha = 0.7, color = 'C1')\n",
    "ax4.scatter(avg_max_vLL, avg_max_vLR, color = 'r')\n",
    "ax4.plot([avg_max_vLL, avg_max_vLL],[avg_max_vLR-sem_max_vLR, avg_max_vLR+sem_max_vLR], color = 'r')\n",
    "ax4.plot([avg_max_vLL-sem_max_vLL, avg_max_vLL+sem_max_vLL], [avg_max_vLR, avg_max_vLR], color = 'r')\n",
    "ax4.text(.05, .85, \"p = \" + p_max_vis,transform=ax4.transAxes)\n",
    "\n",
    "for i, ax in enumerate([ax1,ax2,ax3,ax4]):\n",
    "    \n",
    "\n",
    "    ax.set_xticks(ax.get_yticks())\n",
    "    if ax.get_ylim()[1] > ax.get_xlim()[1]:\n",
    "        lim = ax.get_ylim()\n",
    "        ax.plot(lim, lim, '--k')\n",
    "        ax.set_xlim(lim), ax.set_xlim(lim) \n",
    "    else:\n",
    "        lim = ax.get_xlim()\n",
    "        ax.plot(lim, lim, '--k')\n",
    "        ax.set_ylim(lim), ax.set_xlim(lim)\n",
    "    ax.spines['right'].set_visible(False)\n",
    "    ax.spines['top'].set_visible(False)\n",
    "    if i in [0,1]:\n",
    "        mpl.sca(ax)\n",
    "        mpl.xticks(np.arange(-0.25, 1.5, 0.5), np.arange(-0.25, 1.5, 0.5))\n",
    "        mpl.yticks(np.arange(-0.25, 1.5, 0.5), np.arange(-0.25, 1.5, 0.5))\n",
    "\n",
    "ax1.set_ylabel('Onset of late activity\\n touch lick right trials (s)')\n",
    "ax1.set_xlabel('Onset of late activity\\n touch lick left trials (s)')\n",
    "\n",
    "ax2.set_ylabel('Onset of late activity\\n visual lick right trials (s)')\n",
    "ax2.set_xlabel('Onset of late activity\\n visual lick left trials (s)')\n",
    "\n",
    "ax3.set_ylabel('Peak CP\\n touch lick right trials')\n",
    "ax3.set_xlabel('Peak CP\\n touch lick left trials')\n",
    "\n",
    "ax4.set_ylabel('Peak CP\\n visual lick right trials')\n",
    "ax4.set_xlabel('Peak CP\\n visual lick left trials')\n",
    "fig8e_3"
   ]
  },
  {
   "cell_type": "code",
   "execution_count": null,
   "metadata": {
    "ExecuteTime": {
     "end_time": "2017-10-20T09:28:08.016458Z",
     "start_time": "2017-10-20T09:28:07.848006"
    }
   },
   "outputs": [],
   "source": [
    "fig8e_3.savefig('fig8e_3.pdf', format='pdf', dpi=900)\n"
   ]
  },
  {
   "cell_type": "markdown",
   "metadata": {},
   "source": [
    "## Multivariate linear regression (including no lick trials)"
   ]
  },
  {
   "cell_type": "code",
   "execution_count": 19,
   "metadata": {
    "ExecuteTime": {
     "end_time": "2017-10-20T09:28:08.353729Z",
     "start_time": "2017-10-20T09:28:08.017459"
    },
    "scrolled": false
   },
   "outputs": [
    {
     "name": "stderr",
     "output_type": "stream",
     "text": [
      "C:\\Users\\efink\\Anaconda3\\lib\\site-packages\\statsmodels\\compat\\pandas.py:56: FutureWarning: The pandas.core.datetools module is deprecated and will be removed in a future version. Please use the pandas.tseries module instead.\n",
      "  from pandas.core import datetools\n"
     ]
    }
   ],
   "source": [
    "import statsmodels.api as sm\n",
    "import statsmodels.formula.api as smf\n",
    "\n",
    "def multi_regress(target_unit, y, factors,  formula, categorical = [], exclude_nl = False):\n",
    "    \n",
    "    all_variables = factors+y\n",
    "    categoricals = np.array(factors)[categorical]\n",
    "\n",
    "    unit_rows = log_df.merge(target_unit, on=['mouse_name', 'date', 'cluster_name'], how = 'inner')\n",
    "    \n",
    "    if exclude_nl:\n",
    "        unit_rows = unit_rows[unit_rows['response'] != 0]\n",
    "    \n",
    "    test_unit_factors = unit_rows.loc[:,all_variables]\n",
    "\n",
    "    if 'trial_type' in test_unit_factors:\n",
    "        test_unit_factors['trial_type'] = test_unit_factors['trial_type'].str.contains('Stim_Som')*1\n",
    "    \n",
    "    for cat in categoricals:\n",
    "        test_unit_factors[cat] = pd.Categorical(test_unit_factors[cat])\n",
    "    \n",
    "    for t in range(0,155,1):\n",
    "        test_unit_factors['FR_t'+str(t)] = test_unit_factors[y[0]].apply(lambda x: np.mean(x[t:t+5]))\n",
    "\n",
    "    test_unit_factors = sm.add_constant(test_unit_factors)\n",
    "\n",
    "    coef = pd.DataFrame()\n",
    "    pVals = pd.DataFrame()\n",
    "    tVals = pd.DataFrame()\n",
    "    models = []\n",
    "    for t in range(155):\n",
    "        model = smf.ols(formula = 'FR_t'+str(t)+formula, data = test_unit_factors).fit()\n",
    "        coef['t_'+str(t)] = model.params\n",
    "        pVals['t_'+str(t)] = model.pvalues\n",
    "        tVals['t_'+str(t)] = model.tvalues\n",
    "#         from IPython.core.debugger import Tracer; Tracer()()\n",
    "\n",
    "        models.append(model)\n",
    "        \n",
    "    return coef, pVals, tVals, models"
   ]
  },
  {
   "cell_type": "code",
   "execution_count": null,
   "metadata": {
    "collapsed": true
   },
   "outputs": [],
   "source": []
  },
  {
   "cell_type": "code",
   "execution_count": 20,
   "metadata": {
    "ExecuteTime": {
     "end_time": "2017-10-20T09:34:39.909456Z",
     "start_time": "2017-10-20T09:34:35.003383"
    },
    "scrolled": false
   },
   "outputs": [
    {
     "ename": "NameError",
     "evalue": "name 'unit_key_df_onsets' is not defined",
     "output_type": "error",
     "traceback": [
      "\u001b[1;31m---------------------------------------------------------------------------\u001b[0m",
      "\u001b[1;31mNameError\u001b[0m                                 Traceback (most recent call last)",
      "\u001b[1;32m<ipython-input-20-5e2ae2a9bfc3>\u001b[0m in \u001b[0;36m<module>\u001b[1;34m()\u001b[0m\n\u001b[0;32m      1\u001b[0m \u001b[0mmpl\u001b[0m\u001b[1;33m.\u001b[0m\u001b[0mclose\u001b[0m\u001b[1;33m(\u001b[0m\u001b[1;34m'all'\u001b[0m\u001b[1;33m)\u001b[0m\u001b[1;33m\u001b[0m\u001b[0m\n\u001b[0;32m      2\u001b[0m \u001b[1;33m\u001b[0m\u001b[0m\n\u001b[1;32m----> 3\u001b[1;33m \u001b[0mtarget_units\u001b[0m \u001b[1;33m=\u001b[0m \u001b[0munit_key_df_onsets\u001b[0m\u001b[1;33m.\u001b[0m\u001b[0msort_values\u001b[0m\u001b[1;33m(\u001b[0m\u001b[1;34m'm_resp_auc'\u001b[0m\u001b[1;33m)\u001b[0m\u001b[1;33m.\u001b[0m\u001b[0mloc\u001b[0m\u001b[1;33m[\u001b[0m\u001b[0mp_sigs\u001b[0m\u001b[1;33m,\u001b[0m \u001b[1;33m:\u001b[0m\u001b[1;33m]\u001b[0m\u001b[1;33m\u001b[0m\u001b[0m\n\u001b[0m\u001b[0;32m      4\u001b[0m \u001b[0munit\u001b[0m \u001b[1;33m=\u001b[0m \u001b[0mtarget_units\u001b[0m\u001b[1;33m.\u001b[0m\u001b[0mindex\u001b[0m\u001b[1;33m[\u001b[0m\u001b[1;36m78\u001b[0m\u001b[1;33m]\u001b[0m\u001b[1;33m\u001b[0m\u001b[0m\n\u001b[0;32m      5\u001b[0m \u001b[0munit_df\u001b[0m \u001b[1;33m=\u001b[0m \u001b[0mpd\u001b[0m\u001b[1;33m.\u001b[0m\u001b[0mDataFrame\u001b[0m\u001b[1;33m(\u001b[0m\u001b[0mtarget_units\u001b[0m\u001b[1;33m.\u001b[0m\u001b[0mloc\u001b[0m\u001b[1;33m[\u001b[0m\u001b[0munit\u001b[0m\u001b[1;33m]\u001b[0m\u001b[1;33m)\u001b[0m\u001b[1;33m.\u001b[0m\u001b[0mT\u001b[0m\u001b[1;33m\u001b[0m\u001b[0m\n",
      "\u001b[1;31mNameError\u001b[0m: name 'unit_key_df_onsets' is not defined"
     ]
    }
   ],
   "source": [
    "mpl.close('all')\n",
    "\n",
    "target_units = unit_key_df_onsets.sort_values('m_resp_auc').loc[p_sigs, :]\n",
    "unit = target_units.index[78]\n",
    "unit_df = pd.DataFrame(target_units.loc[unit]).T\n",
    "\n",
    "unit_rows = log_df.merge(unit_df, on=['mouse_name', 'date', 'cluster_name'], how = 'inner')\n",
    "\n",
    "t_NL = unit_rows.loc[unit_rows['trial_type'].str.contains('Som') & (unit_rows['response'] ==0),:]\n",
    "t_LR = unit_rows.loc[unit_rows['trial_type'].str.contains('Som') & (unit_rows['response'] ==1),:]\n",
    "t_LL = unit_rows.loc[unit_rows['trial_type'].str.contains('Som') & (unit_rows['response'] ==2),:]\n",
    "v_NL = unit_rows.loc[unit_rows['trial_type'].str.contains('Vis') & (unit_rows['response'] ==0),:]\n",
    "v_LR = unit_rows.loc[unit_rows['trial_type'].str.contains('Vis') & (unit_rows['response'] ==1),:]\n",
    "v_LL = unit_rows.loc[unit_rows['trial_type'].str.contains('Vis') & (unit_rows['response'] ==2),:]\n",
    "\n",
    "tt = [t_NL, t_LR, t_LL, v_NL, v_LR, v_LL]\n",
    "\n",
    "fig8e_1 = mpl.figure(figsize = (16,16))\n",
    "\n",
    "gs1 = gridspec.GridSpec(1,1)\n",
    "gs2 = gridspec.GridSpec(1,1)\n",
    "gs3 = gridspec.GridSpec(5,1)\n",
    "\n",
    "gs1.update(bottom=0.5, top=0.95, left = 0.2, right = 0.86)\n",
    "gs2.update(bottom=0.5, top=0.95, left = 0.87, right = 0.9)\n",
    "gs3.update(bottom=0.15, top=0.47, left = 0.2, right = 0.86)\n",
    "\n",
    "titles = ['β$1$: touch stimulus', 'β$2$: lick right','β$3$: lick left',\n",
    "          'β$4$: touch stimulus x lick right','β$5$: touch stimulus x lick left']\n",
    "\n",
    "\n",
    "ax = mpl.subplot(gs1[0, 0])\n",
    "patch_ax = mpl.subplot(gs2[0, 0], sharey = ax)\n",
    "\n",
    "colors = [ 'k','C0','#08306b', 'C7', '#cc4c02', 'C1',  ]\n",
    "\n",
    "trial_type = 0\n",
    "trial_total = 0\n",
    "hists = []\n",
    "for i in range(len(tt)):\n",
    "\n",
    "    ras = tt[trial_type]\n",
    "    spike_counts = []\n",
    "    for trial, spike in enumerate(ras['spike_times(stim_aligned)']):\n",
    "        spike = spike[(spike>-1) & (spike<=3)]\n",
    "        ax.vlines(spike, trial + trial_total + .5, trial + trial_total + 1.5)\n",
    "        \n",
    "\n",
    "        spike = spike[(spike>window[0]) & (spike<=window[1])]\n",
    "        edges = np.arange(window[0], window[1]+bin_size*2, bin_size)\n",
    "        count, _ = np.histogram(spike,edges)\n",
    "        spike_counts.append(count)\n",
    "\n",
    "    c1 = 0.5\n",
    "    c2 = 0\n",
    "\n",
    "    hists.append(np.array(spike_counts))\n",
    "    patch_ax.add_patch(patches.Rectangle((0,trial_total+c1), 1,\n",
    "                                   trial + c2, facecolor = colors[trial_type], alpha = 0.7))\n",
    "    trial_total += trial\n",
    "    trial_type += 1\n",
    "\n",
    "ax.get_xaxis().set_visible(False)\n",
    "ax.set_xlim(-1,3)\n",
    "ax.spines['right'].set_visible(False)\n",
    "ax.spines['top'].set_visible(False)\n",
    "ax.spines['bottom'].set_visible(False)\n",
    "ax.set_ylabel('trial')\n",
    "\n",
    "\n",
    "patch_ax.set_xlim(0,1)\n",
    "patch_ax.axis('off')\n",
    "\n",
    "#######################################\n",
    "target_units = unit_key_df_onsets.sort_values('m_resp_auc').loc[p_sigs, :]\n",
    "\n",
    "unit_df = pd.DataFrame(target_units.loc[unit]).T\n",
    "form = '~ C(trial_type) + C(resp1) + C(resp2) + C(trial_type):C(resp1) + C(trial_type):C(resp2)'\n",
    "coef, pVals, tVals, models = multi_regress(unit_df, ['spike_counts(stim_aligned)'], factors = ['trial_type', 'resp1', 'resp2'],\n",
    "                                           categorical = [0,1,2], formula = form)\n",
    "coef = coef.iloc[1:,:]\n",
    "pVals = pVals.iloc[1:,:]\n",
    "pos_sig_pVals = (pVals<0.05) & (coef>0)\n",
    "neg_sig_pVals = (pVals<0.05) & (coef<0)\n",
    "\n",
    "xvals = np.arange(0+.1,coef.shape[1]*0.025+.1, 0.025)-1\n",
    "\n",
    "for c in range(coef.shape[0]):\n",
    "    \n",
    "    ax1 = mpl.subplot(gs3[c,0])\n",
    "    ax1.plot(xvals, coef.iloc[c,:].as_matrix(), 'k')\n",
    "    ax1.plot(xvals, [0] * len(xvals), 'C7--')\n",
    "    ax1.plot(xvals[pos_sig_pVals.iloc[c,:].as_matrix()], [0]*sum(pos_sig_pVals.iloc[c,:].as_matrix()*1), 'sC2', alpha = 0.5)\n",
    "    ax1.plot(xvals[neg_sig_pVals.iloc[c,:].as_matrix()], [0]*sum(neg_sig_pVals.iloc[c,:].as_matrix()*1), 'sC3', alpha = 0.5)\n",
    "\n",
    "    ax1.text(.6, .65, titles[c] , size=20, transform=ax1.transAxes, color = 'k')\n",
    "\n",
    "    ax1.spines['right'].set_visible(False)\n",
    "    ax1.spines['top'].set_visible(False)\n",
    "    ax1.set_xlabel('time from stim onset (s)')\n",
    "    ax1.set_xlim(-1, 3)\n",
    "    ax1.set_ylim(-20,50)\n",
    "\n",
    "\n",
    "    if c != coef.shape[0]-1:\n",
    "        ax1.spines['bottom'].set_visible(False)\n",
    "        ax1.get_xaxis().set_visible(False)\n",
    "\n",
    "fig8e_1"
   ]
  },
  {
   "cell_type": "code",
   "execution_count": null,
   "metadata": {
    "ExecuteTime": {
     "end_time": "2017-10-20T09:35:15.093258Z",
     "start_time": "2017-10-20T09:35:13.313067"
    },
    "collapsed": true
   },
   "outputs": [],
   "source": [
    "fig8e_1.savefig('fig8e_1.pdf', format='pdf', dpi=900)\n"
   ]
  },
  {
   "cell_type": "code",
   "execution_count": null,
   "metadata": {
    "ExecuteTime": {
     "end_time": "2017-10-20T11:16:16.018981Z",
     "start_time": "2017-10-20T11:15:09.630126"
    },
    "scrolled": true
   },
   "outputs": [],
   "source": [
    "import itertools\n",
    "\n",
    "target_units = unit_key_df_onsets.sort_values('m_resp_auc').loc[p_sigs, :]\n",
    "unit = target_units.index[69]\n",
    "unit_df = pd.DataFrame(target_units.loc[unit]).T\n",
    "\n",
    "unit_rows = log_df.merge(unit_df, on=['mouse_name', 'date', 'cluster_name'], how = 'inner')\n",
    "\n",
    "\n",
    "beta_dict = {'b1':'C(trial_type)', 'b2':'C(resp1)','b3':'C(resp2)','b4':'C(trial_type):C(resp1)','b5':'C(trial_type):C(resp2)'}\n",
    "##### with touch+resp1+resp2+ touch x resp1 + touch x resp+2\n",
    "form = '~ C(trial_type) * C(resp1) + C(resp2) + C(trial_type):C(resp2) + C(trial_type):C(resp2)'\n",
    "coef, pVals, tVals, models = multi_regress(unit_df, ['spike_counts(stim_aligned)'], factors = ['trial_type', 'resp1', 'resp2'],\n",
    "                                           categorical = [0,1,2], formula = form)\n",
    "\n",
    "factors = ['b1', 'b2', 'b3', 'b4', 'b5']\n",
    "all_subsets = []\n",
    "for L in range(0, len(factors)+1):\n",
    "    for subset in itertools.combinations(factors, L):\n",
    "        all_subsets.append(subset)\n",
    "forms = []\n",
    "for sub in all_subsets[1:]:\n",
    "    forms.append(\"+\".join([beta_dict[i] for i in sub]))\n",
    "    \n",
    "forms_df = pd.DataFrame(forms, columns = ['formulas'])\n",
    "\n",
    "all_comparison_subsets = pd.concat((forms_df,pd.DataFrame(all_subsets[1:],columns = np.arange(1,len(factors)+1))), axis = 1)\n",
    "\n",
    "col_names= ['t_'+str(i) for i in range(155)]\n",
    "# for col in col_names:\n",
    "#     all_comparison_subsets[col] = \n",
    "    \n",
    "all_models = all_comparison_subsets.loc[:,'formulas'].apply(\n",
    "            lambda x: multi_regress(unit_df, ['spike_counts(stim_aligned)'],\n",
    "            factors = ['trial_type', 'resp1', 'resp2'],\n",
    "            categorical = [0,1,2], formula = '~' + x)[-1])\n",
    "\n",
    "levels = all_comparison_subsets.iloc[:,1:].apply(lambda y: ~pd.isnull(y)*1, axis = 0).sum(axis=1)\n",
    "all_rs = pd.DataFrame(all_models.as_matrix().flatten().tolist(), columns = col_names).applymap(lambda y: y.rsquared)\n",
    "r_table = pd.concat((all_comparison_subsets,pd.DataFrame(levels, columns = ['level']), all_rs), axis = 1)"
   ]
  },
  {
   "cell_type": "code",
   "execution_count": null,
   "metadata": {
    "ExecuteTime": {
     "end_time": "2017-10-20T09:28:09.934041Z",
     "start_time": "2017-10-20T13:24:36.093Z"
    }
   },
   "outputs": [],
   "source": [
    "r_table.head()"
   ]
  },
  {
   "cell_type": "code",
   "execution_count": null,
   "metadata": {
    "ExecuteTime": {
     "end_time": "2017-10-20T11:18:18.776151Z",
     "start_time": "2017-10-20T11:18:18.261860"
    }
   },
   "outputs": [],
   "source": [
    "all_dom_scores = pd.concat((pd.DataFrame({'added_beta' : factors, 'simpler_model': [[]]*5}), \n",
    "                            r_table[r_table['level'] == 1].iloc[:,7:]), axis = 1)\n",
    "for lev in range(1,r_table['level'].iloc[-1]):\n",
    "\n",
    "    for row_num in range(r_table[r_table['level'] == lev].shape[0]):\n",
    "        row = r_table[r_table['level'] == lev].iloc[row_num]\n",
    "        simpler_mod = row[1:6].dropna()\n",
    "\n",
    "        complex_mod_rows = r_table[r_table['level'] == lev+1]\n",
    "        complex_mods = complex_mod_rows.iloc[:, 1:6].dropna(axis = 1)\n",
    "\n",
    "        next_lev_mod_rows = complex_mod_rows[(complex_mods.isin(simpler_mod.as_matrix())*1).sum(axis = 1) ==lev]\n",
    "        next_lev_mods = next_lev_mod_rows.iloc[:, 1:6].dropna(axis = 1).reset_index(drop = True)\n",
    "        added_beta = pd.DataFrame(next_lev_mods.as_matrix()[~next_lev_mods.isin(simpler_mod.as_matrix()).as_matrix()], \n",
    "                                  columns = ['added_beta'])\n",
    "        \n",
    "        dom_scores = pd.DataFrame({'simpler_model': [list(simpler_mod.as_matrix())]*len(added_beta),\n",
    "                                  'added_beta': next_lev_mods.as_matrix()[~next_lev_mods.isin(simpler_mod.as_matrix()).as_matrix()]})\n",
    "        dom_scores = pd.concat((dom_scores, (next_lev_mod_rows.iloc[:,7:] - row[7:]).reset_index(drop = True)), axis = 1)\n",
    "        all_dom_scores = pd.concat((all_dom_scores, dom_scores), axis = 0).reset_index(drop = True)\n",
    "        \n",
    "fig = mpl.figure(figsize = (16,5))\n",
    "ax = fig.add_subplot(111)\n",
    "y = all_dom_scores[all_dom_scores['added_beta'] == 'b1'].iloc[:, 2:].mean(axis=0)\n",
    "y2 = all_dom_scores[all_dom_scores['added_beta'] == 'b2'].iloc[:, 2:].mean(axis=0)\n",
    "y3 = all_dom_scores[all_dom_scores['added_beta'] == 'b3'].iloc[:, 2:].mean(axis=0)\n",
    "y4 = all_dom_scores[all_dom_scores['added_beta'] == 'b4'].iloc[:, 2:].mean(axis=0)\n",
    "y5 = all_dom_scores[all_dom_scores['added_beta'] == 'b5'].iloc[:, 2:].mean(axis=0)\n",
    "y6 = y+y2\n",
    "y7 = y4-(y+y2)\n",
    "\n",
    "ax.plot(np.arange(0,155), y)\n",
    "ax.plot(np.arange(0,155), y2)\n",
    "# ax.plot(np.arange(0,155), y3)\n",
    "ax.plot(np.arange(0,155), y4)\n",
    "# ax.plot(np.arange(0,155), y5)\n",
    "# ax.plot(np.arange(0,155), y6)\n",
    "ax.plot(np.arange(0,155), y7)\n",
    "\n",
    "fig"
   ]
  },
  {
   "cell_type": "code",
   "execution_count": null,
   "metadata": {
    "ExecuteTime": {
     "end_time": "2017-10-20T11:23:08.607892Z",
     "start_time": "2017-10-20T11:18:28.357851"
    },
    "scrolled": false
   },
   "outputs": [],
   "source": [
    "target_units = unit_key_df_onsets.sort_values('m_resp_auc')\n",
    "\n",
    "row_names = ['t_'+str(t) for t in range(155)]\n",
    "all_trial_type_coef = []\n",
    "all_resp1_coef = []\n",
    "all_resp2_coef = []\n",
    "all_txResp1_coef = []\n",
    "all_txResp2_coef = []\n",
    "\n",
    "all_trial_type_pval = []\n",
    "all_resp1_pval = []\n",
    "all_resp2_pval =[]\n",
    "all_txResp1_pval =[]\n",
    "all_txResp2_pval = []\n",
    "\n",
    "for unit_num in range(target_units.shape[0]):\n",
    "    unit = target_units.index[unit_num]\n",
    "    unit_df = pd.DataFrame(target_units.loc[unit]).T\n",
    "    form = '~ C(trial_type) + C(resp1) + C(resp2) + C(trial_type):C(resp1) + C(trial_type):C(resp2)'\n",
    "    coef, pVals, tvals, models = multi_regress(unit_df, ['spike_counts(stim_aligned)'], \n",
    "                                               factors = ['trial_type', 'resp1', 'resp2'],\n",
    "                                               categorical = [0,1,2], formula = form)\n",
    "    all_trial_type_coef.append(coef.iloc[1,:])\n",
    "    all_resp1_coef.append(coef.iloc[2,:])\n",
    "    all_resp2_coef.append(coef.iloc[3,:]),\n",
    "    all_txResp1_coef.append(coef.iloc[4,:])\n",
    "    all_txResp2_coef.append(coef.iloc[5,:])\n",
    "    \n",
    "    all_trial_type_pval.append(pVals.iloc[1,:])\n",
    "    all_resp1_pval.append(pVals.iloc[2,:])\n",
    "    all_resp2_pval.append(pVals.iloc[3,:])\n",
    "    all_txResp1_pval.append(pVals.iloc[4,:])\n",
    "    all_txResp2_pval.append(pVals.iloc[5,:])\n",
    "\n",
    "all_trial_type_coef = pd.concat(all_trial_type_coef, axis = 1).T.set_index(target_units.index)\n",
    "all_resp1_coef = pd.concat(all_resp1_coef, axis = 1).T.set_index(target_units.index)\n",
    "all_resp2_coef = pd.concat(all_resp2_coef, axis = 1).T.set_index(target_units.index)\n",
    "all_txResp1_coef = pd.concat(all_txResp1_coef, axis = 1).T.set_index(target_units.index)\n",
    "all_txResp2_coef = pd.concat(all_txResp2_coef, axis = 1).T.set_index(target_units.index)\n",
    "\n",
    "all_trial_type_pval = pd.concat(all_trial_type_pval, axis = 1).T.set_index(target_units.index)\n",
    "all_resp1_pval = pd.concat(all_resp1_pval, axis = 1).T.set_index(target_units.index)\n",
    "all_resp2_pval = pd.concat(all_resp2_pval, axis = 1).T.set_index(target_units.index)\n",
    "all_txResp1_pval = pd.concat(all_txResp1_pval, axis = 1).T.set_index(target_units.index)\n",
    "all_txResp2_pval = pd.concat(all_txResp2_pval, axis = 1).T.set_index(target_units.index)"
   ]
  },
  {
   "cell_type": "code",
   "execution_count": null,
   "metadata": {
    "ExecuteTime": {
     "end_time": "2017-10-20T11:28:17.503872Z",
     "start_time": "2017-10-20T11:28:17.498869"
    }
   },
   "outputs": [],
   "source": [
    "(sig_pos_coef).sum(axis = 0).shape"
   ]
  },
  {
   "cell_type": "code",
   "execution_count": null,
   "metadata": {
    "ExecuteTime": {
     "end_time": "2017-10-20T11:30:28.754739Z",
     "start_time": "2017-10-20T11:30:24.570796"
    },
    "scrolled": false
   },
   "outputs": [],
   "source": [
    "mpl.close('all')\n",
    "fig8e_2 = mpl.figure(figsize = (16,10))\n",
    "\n",
    "pvals = [all_trial_type_pval, all_resp1_pval,all_resp2_pval,all_txResp1_pval,all_txResp2_pval]\n",
    "coefs = [all_trial_type_coef, all_resp1_coef,all_resp2_coef,all_txResp1_coef,all_txResp2_coef]\n",
    "titles = ['β$1$: touch stimulus', 'β$2$: lick right','β$3$: lick left',\n",
    "          'β$4$: touch stimulus x lick right','β$5$: touch stimulus x lick left']\n",
    "xvals = np.arange(0+.1,coef.shape[1]*0.025+.1, 0.025)-1\n",
    "\n",
    "for i in range(len(pvals)):\n",
    "    ax = fig8e_2.add_subplot(5,1,i+1)\n",
    "    p_coefs = coefs[i]>0\n",
    "    sig_pos_coef =  (pvals[i] < 0.05) & (coefs[i] > 0)\n",
    "    sig_neg_coef =  (pvals[i] < 0.05) & (coefs[i] < 0)\n",
    "\n",
    "    ax.bar(xvals, (sig_pos_coef).sum(axis = 0).as_matrix(), color = 'C2', width = 0.025, alpha = 0.5)\n",
    "    ax.bar(xvals, (sig_neg_coef).sum(axis = 0), color = 'r', width = 0.025, alpha = 0.5)\n",
    "    ax.set_ylim(-10, 50)\n",
    "    ax.set_xlim(-1,3)\n",
    "    ax.text(.6, .8, titles[i] , size=20, transform=ax.transAxes, color = 'k')\n",
    "    ax.set_ylabel('frequency')\n",
    "\n",
    "    \n",
    "    ax.spines['right'].set_visible(False)\n",
    "    ax.spines['top'].set_visible(False)\n",
    "    ax.set_xlabel('time from stim onset (s)')\n",
    "    if i != len(pvals)-1:\n",
    "        ax.spines['bottom'].set_visible(False)\n",
    "        ax.get_xaxis().set_visible(False)\n",
    "\n",
    "fig8e_2"
   ]
  },
  {
   "cell_type": "code",
   "execution_count": null,
   "metadata": {
    "ExecuteTime": {
     "end_time": "2017-10-20T11:31:13.027024Z",
     "start_time": "2017-10-20T11:31:11.683111"
    }
   },
   "outputs": [],
   "source": [
    "fig8e_2.savefig('fig8e_2.pdf', format='pdf', dpi=900)\n"
   ]
  },
  {
   "cell_type": "markdown",
   "metadata": {},
   "source": [
    "## Multivariate linear regression (without no lick trials)"
   ]
  },
  {
   "cell_type": "code",
   "execution_count": null,
   "metadata": {
    "ExecuteTime": {
     "end_time": "2017-10-20T09:28:09.936042Z",
     "start_time": "2017-10-20T13:24:36.108Z"
    },
    "scrolled": false
   },
   "outputs": [],
   "source": [
    "mpl.close('all')\n",
    "\n",
    "target_units = unit_key_df_onsets.sort_values('m_resp_auc').loc[p_sigs, :]\n",
    "unit = target_units.index[69]\n",
    "unit_df = pd.DataFrame(target_units.loc[unit]).T\n",
    "\n",
    "unit_rows = log_df.merge(unit_df, on=['mouse_name', 'date', 'cluster_name'], how = 'inner')\n",
    "\n",
    "t_LR = unit_rows.loc[unit_rows['trial_type'].str.contains('Som') & (unit_rows['response'] ==1),:]\n",
    "t_LL = unit_rows.loc[unit_rows['trial_type'].str.contains('Som') & (unit_rows['response'] ==2),:]\n",
    "v_LR = unit_rows.loc[unit_rows['trial_type'].str.contains('Vis') & (unit_rows['response'] ==1),:]\n",
    "v_LL = unit_rows.loc[unit_rows['trial_type'].str.contains('Vis') & (unit_rows['response'] ==2),:]\n",
    "\n",
    "tt = [t_LR, t_LL, v_LR, v_LL]\n",
    "\n",
    "fig8e_1 = mpl.figure(figsize = (16,16))\n",
    "\n",
    "gs1 = gridspec.GridSpec(1,1)\n",
    "gs2 = gridspec.GridSpec(1,1)\n",
    "gs3 = gridspec.GridSpec(5,1)\n",
    "\n",
    "gs1.update(bottom=0.5, top=0.95, left = 0.2, right = 0.86)\n",
    "gs2.update(bottom=0.5, top=0.95, left = 0.87, right = 0.9)\n",
    "gs3.update(bottom=0.15, top=0.47, left = 0.2, right = 0.86)\n",
    "\n",
    "titles = ['β$1$: touch stimulus', 'β$2$: lick right',\n",
    "          'β$4$: touch stimulus x lick right']\n",
    "\n",
    "\n",
    "ax = mpl.subplot(gs1[0, 0])\n",
    "patch_ax = mpl.subplot(gs2[0, 0], sharey = ax)\n",
    "\n",
    "colors = ['C0','#08306b', '#cc4c02', 'C1',  ]\n",
    "\n",
    "trial_type = 0\n",
    "trial_total = 0\n",
    "hists = []\n",
    "for i in range(len(tt)):\n",
    "\n",
    "    ras = tt[trial_type]\n",
    "    spike_counts = []\n",
    "    for trial, spike in enumerate(ras['spike_times(stim_aligned)']):\n",
    "        spike = spike[(spike>-1) & (spike<=3)]\n",
    "        ax.vlines(spike, trial + trial_total + .5, trial + trial_total + 1.5)\n",
    "        \n",
    "\n",
    "        spike = spike[(spike>window[0]) & (spike<=window[1])]\n",
    "        edges = np.arange(window[0], window[1]+bin_size*2, bin_size)\n",
    "        count, _ = np.histogram(spike,edges)\n",
    "        spike_counts.append(count)\n",
    "\n",
    "    c1 = 0.5\n",
    "    c2 = 0\n",
    "\n",
    "    hists.append(np.array(spike_counts))\n",
    "    patch_ax.add_patch(patches.Rectangle((0,trial_total+c1), 1,\n",
    "                                   trial + c2, facecolor = colors[trial_type], alpha = 0.7))\n",
    "    trial_total += trial\n",
    "    trial_type += 1\n",
    "\n",
    "ax.get_xaxis().set_visible(False)\n",
    "ax.set_xlim(-1,3)\n",
    "ax.spines['right'].set_visible(False)\n",
    "ax.spines['top'].set_visible(False)\n",
    "ax.spines['bottom'].set_visible(False)\n",
    "ax.set_ylabel('trial')\n",
    "\n",
    "\n",
    "patch_ax.set_xlim(0,1)\n",
    "patch_ax.axis('off')\n",
    "\n",
    "#######################################\n",
    "target_units = unit_key_df_onsets.sort_values('m_resp_auc').loc[p_sigs, :]\n",
    "unit = target_units.index[69]\n",
    "\n",
    "unit_df = pd.DataFrame(target_units.loc[unit]).T\n",
    "form = '~ C(trial_type) + C(resp1) + C(trial_type):C(resp1)'\n",
    "coef, pVals, tVals, models = multi_regress(unit_df, ['spike_counts(stim_aligned)'], factors = ['trial_type', 'resp1'],\n",
    "                                           categorical = [0,1], formula = form, exclude_nl = True)\n",
    "coef = coef.iloc[1:,:]\n",
    "pVals = pVals.iloc[1:,:]\n",
    "pos_sig_pVals = (pVals<0.05) & (coef>0)\n",
    "neg_sig_pVals = (pVals<0.05) & (coef<0)\n",
    "\n",
    "xvals = np.arange(0+.1,coef.shape[1]*0.025+.1, 0.025)-1\n",
    "\n",
    "for c in range(coef.shape[0]):\n",
    "    \n",
    "    ax1 = mpl.subplot(gs3[c,0])\n",
    "    ax1.plot(xvals, coef.iloc[c,:].as_matrix(), 'k')\n",
    "    ax1.plot(xvals, [0] * len(xvals), 'C7--')\n",
    "    ax1.plot(xvals[pos_sig_pVals.iloc[c,:].as_matrix()], [0]*sum(pos_sig_pVals.iloc[c,:].as_matrix()*1), 'sC2', alpha = 0.5)\n",
    "    ax1.plot(xvals[neg_sig_pVals.iloc[c,:].as_matrix()], [0]*sum(neg_sig_pVals.iloc[c,:].as_matrix()*1), 'sC3', alpha = 0.5)\n",
    "\n",
    "    ax1.text(.6, .65, titles[c] , size=20, transform=ax1.transAxes, color = 'k')\n",
    "\n",
    "    ax1.spines['right'].set_visible(False)\n",
    "    ax1.spines['top'].set_visible(False)\n",
    "    ax1.set_xlabel('time from stim onset (s)')\n",
    "    ax1.set_xlim(-1, 3)\n",
    "    ax1.set_ylim(-20,50)\n",
    "\n",
    "\n",
    "    if c != coef.shape[0]-1:\n",
    "        ax1.spines['bottom'].set_visible(False)\n",
    "        ax1.get_xaxis().set_visible(False)\n",
    "\n",
    "fig8e_1"
   ]
  },
  {
   "cell_type": "code",
   "execution_count": null,
   "metadata": {
    "ExecuteTime": {
     "end_time": "2017-10-20T09:28:09.937043Z",
     "start_time": "2017-10-20T13:24:36.111Z"
    }
   },
   "outputs": [],
   "source": [
    "unit_df"
   ]
  },
  {
   "cell_type": "code",
   "execution_count": null,
   "metadata": {
    "ExecuteTime": {
     "end_time": "2017-10-20T09:28:09.937043Z",
     "start_time": "2017-10-20T13:24:36.114Z"
    }
   },
   "outputs": [],
   "source": [
    "target_units = unit_key_df_onsets.sort_values('m_resp_auc')\n",
    "\n",
    "row_names = ['t_'+str(t) for t in range(155)]\n",
    "all_trial_type_coef = []\n",
    "all_resp1_coef = []\n",
    "all_resp2_coef = []\n",
    "all_txResp1_coef = []\n",
    "all_txResp2_coef = []\n",
    "\n",
    "all_trial_type_pval = []\n",
    "all_resp1_pval = []\n",
    "all_resp2_pval =[]\n",
    "all_txResp1_pval =[]\n",
    "all_txResp2_pval = []\n",
    "\n",
    "for unit_num in range(target_units.shape[0]):\n",
    "    unit = target_units.index[unit_num]\n",
    "    unit_df = pd.DataFrame(target_units.loc[unit]).T\n",
    "    form = '~ C(trial_type) + C(resp1) + C(trial_type):C(resp1)'\n",
    "    coef, pVals, tvals, models = multi_regress(unit_df, ['spike_counts(stim_aligned)'], \n",
    "                                               factors = ['trial_type', 'resp1'],\n",
    "                                               categorical = [0,1], formula = form, exclude_nl = True)\n",
    "    all_trial_type_coef.append(coef.iloc[1,:])\n",
    "    all_resp1_coef.append(coef.iloc[2,:])\n",
    "#     all_resp2_coef.append(coef.iloc[3,:]),\n",
    "    all_txResp1_coef.append(coef.iloc[3,:])\n",
    "#     all_txResp2_coef.append(coef.iloc[5,:])\n",
    "    \n",
    "    all_trial_type_pval.append(pVals.iloc[1,:])\n",
    "    all_resp1_pval.append(pVals.iloc[2,:])\n",
    "#     all_resp2_pval.append(pVals.iloc[3,:])\n",
    "    all_txResp1_pval.append(pVals.iloc[3,:])\n",
    "#     all_txResp2_pval.append(pVals.iloc[5,:])\n",
    "\n",
    "all_trial_type_coef = pd.concat(all_trial_type_coef, axis = 1).T.set_index(target_units.index)\n",
    "all_resp1_coef = pd.concat(all_resp1_coef, axis = 1).T.set_index(target_units.index)\n",
    "# all_resp2_coef = pd.concat(all_resp2_coef, axis = 1).T.set_index(target_units.index)\n",
    "all_txResp1_coef = pd.concat(all_txResp1_coef, axis = 1).T.set_index(target_units.index)\n",
    "# all_txResp2_coef = pd.concat(all_txResp2_coef, axis = 1).T.set_index(target_units.index)\n",
    "\n",
    "all_trial_type_pval = pd.concat(all_trial_type_pval, axis = 1).T.set_index(target_units.index)\n",
    "all_resp1_pval = pd.concat(all_resp1_pval, axis = 1).T.set_index(target_units.index)\n",
    "# all_resp2_pval = pd.concat(all_resp2_pval, axis = 1).T.set_index(target_units.index)\n",
    "all_txResp1_pval = pd.concat(all_txResp1_pval, axis = 1).T.set_index(target_units.index)\n",
    "# all_txResp2_pval = pd.concat(all_txResp2_pval, axis = 1).T.set_index(target_units.index)"
   ]
  },
  {
   "cell_type": "code",
   "execution_count": null,
   "metadata": {
    "ExecuteTime": {
     "end_time": "2017-10-20T09:28:09.937043Z",
     "start_time": "2017-10-20T13:24:36.118Z"
    }
   },
   "outputs": [],
   "source": [
    "coef"
   ]
  },
  {
   "cell_type": "code",
   "execution_count": null,
   "metadata": {
    "ExecuteTime": {
     "end_time": "2017-10-20T09:28:09.938044Z",
     "start_time": "2017-10-20T13:24:36.121Z"
    }
   },
   "outputs": [],
   "source": [
    "mpl.close('all')\n",
    "fig8e_2 = mpl.figure(figsize = (16,10))\n",
    "\n",
    "pvals = [all_trial_type_pval, all_resp1_pval,all_txResp1_pval]\n",
    "coefs = [all_trial_type_coef, all_resp1_coef,all_txResp1_coef]\n",
    "titles = ['β$1$: touch stimulus', 'β$2$: lick right',\n",
    "          'β$4$: touch stimulus x lick right']\n",
    "for i in range(len(pvals)):\n",
    "    ax = fig8e_2.add_subplot(5,1,i+1)\n",
    "    p_coefs = coefs[i]>0\n",
    "    sig_pos_coef =  (pvals[i] < 0.05) & (coefs[i] > 0)\n",
    "    sig_neg_coef =  (pvals[i] < 0.05) & (coefs[i] < 0)\n",
    "\n",
    "    ax.bar(xvals, (sig_pos_coef).sum(axis = 0), color = 'C2', width = 0.02, alpha = 0.5)\n",
    "    ax.bar(xvals, (sig_neg_coef).sum(axis = 0), color = 'r', width = 0.02, alpha = 0.5)\n",
    "    ax.set_ylim(-10, 50)\n",
    "    ax.set_xlim(-1,3)\n",
    "    ax.text(.6, .8, titles[i] , size=20, transform=ax.transAxes, color = 'k')\n",
    "    ax.set_ylabel('frequency')\n",
    "\n",
    "    \n",
    "    ax.spines['right'].set_visible(False)\n",
    "    ax.spines['top'].set_visible(False)\n",
    "    ax.set_xlabel('time from stim onset (s)')\n",
    "    if i != len(pvals)-1:\n",
    "        ax.spines['bottom'].set_visible(False)\n",
    "        ax.get_xaxis().set_visible(False)\n",
    "\n",
    "fig8e_2"
   ]
  },
  {
   "cell_type": "code",
   "execution_count": null,
   "metadata": {
    "ExecuteTime": {
     "end_time": "2017-10-20T09:28:09.938044Z",
     "start_time": "2017-10-20T13:24:36.124Z"
    }
   },
   "outputs": [],
   "source": [
    "coefs[i]"
   ]
  },
  {
   "cell_type": "code",
   "execution_count": null,
   "metadata": {
    "collapsed": true
   },
   "outputs": [],
   "source": []
  }
 ],
 "metadata": {
  "kernelspec": {
   "display_name": "Python 3",
   "language": "python",
   "name": "python3"
  },
  "language_info": {
   "codemirror_mode": {
    "name": "ipython",
    "version": 3
   },
   "file_extension": ".py",
   "mimetype": "text/x-python",
   "name": "python",
   "nbconvert_exporter": "python",
   "pygments_lexer": "ipython3",
   "version": "3.6.4"
  }
 },
 "nbformat": 4,
 "nbformat_minor": 2
}
