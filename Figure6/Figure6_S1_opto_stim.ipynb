{
 "cells": [
  {
   "cell_type": "code",
   "execution_count": 1,
   "metadata": {},
   "outputs": [],
   "source": [
    "import scipy as sp\n",
    "import scipy.io\n",
    "import os\n",
    "import numpy as np\n",
    "import pandas as pd\n",
    "import glob\n",
    "import csv\n",
    "import random as rand\n",
    "from tqdm import tnrange, tqdm_notebook\n",
    "from collections import Iterable\n",
    "import matplotlib.pylab as mpl\n",
    "import random as rand\n",
    "from ipywidgets import *\n",
    "import colorlover as cl\n",
    "from scipy import stats\n",
    "import importlib\n",
    "import sys\n",
    "\n",
    "font = {'family' : 'Arial',\n",
    "        'weight' : 'normal',\n",
    "        'size'   : 12}\n",
    "\n",
    "mpl.rc('font', **font)\n",
    "mpl.rc('xtick', labelsize=12) \n",
    "mpl.rc('ytick', labelsize=12)\n",
    "mpl.rc('axes', labelsize=12)\n",
    "\n",
    "mpl.rcParams['pdf.fonttype'] = 42\n",
    "mpl.rcParams['ps.fonttype'] = 42"
   ]
  },
  {
   "cell_type": "code",
   "execution_count": 2,
   "metadata": {},
   "outputs": [
    {
     "data": {
      "text/plain": [
       "'C:\\\\Users\\\\efink\\\\Documents\\\\Github\\\\crossmodal\\\\Figure7'"
      ]
     },
     "execution_count": 2,
     "metadata": {},
     "output_type": "execute_result"
    }
   ],
   "source": [
    "os.getcwd()"
   ]
  },
  {
   "cell_type": "code",
   "execution_count": 3,
   "metadata": {},
   "outputs": [],
   "source": [
    "os.chdir(r'C:\\Users\\efink\\Documents\\Data\\crossmodal_only')"
   ]
  },
  {
   "cell_type": "code",
   "execution_count": 4,
   "metadata": {},
   "outputs": [
    {
     "data": {
      "text/plain": [
       "['S1_microstim_log.mat', 'S1_stim_behvior.pdf', 'S1_stim_behvior.png']"
      ]
     },
     "execution_count": 4,
     "metadata": {},
     "output_type": "execute_result"
    }
   ],
   "source": [
    "glob.glob('S1*')"
   ]
  },
  {
   "cell_type": "code",
   "execution_count": 5,
   "metadata": {},
   "outputs": [],
   "source": [
    "log = sp.io.loadmat('S1_microstim_log.mat')"
   ]
  },
  {
   "cell_type": "code",
   "execution_count": 6,
   "metadata": {},
   "outputs": [
    {
     "data": {
      "text/html": [
       "<div>\n",
       "<style scoped>\n",
       "    .dataframe tbody tr th:only-of-type {\n",
       "        vertical-align: middle;\n",
       "    }\n",
       "\n",
       "    .dataframe tbody tr th {\n",
       "        vertical-align: top;\n",
       "    }\n",
       "\n",
       "    .dataframe thead th {\n",
       "        text-align: right;\n",
       "    }\n",
       "</style>\n",
       "<table border=\"1\" class=\"dataframe\">\n",
       "  <thead>\n",
       "    <tr style=\"text-align: right;\">\n",
       "      <th></th>\n",
       "      <th>mouse_name</th>\n",
       "      <th>date</th>\n",
       "      <th>block_type</th>\n",
       "      <th>stim_type</th>\n",
       "      <th>trial_num</th>\n",
       "      <th>touch_stim</th>\n",
       "      <th>vis_stim</th>\n",
       "      <th>resp</th>\n",
       "    </tr>\n",
       "  </thead>\n",
       "  <tbody>\n",
       "    <tr>\n",
       "      <th>0</th>\n",
       "      <td>EF0147</td>\n",
       "      <td>12-04-18</td>\n",
       "      <td>Visual</td>\n",
       "      <td>Stim_Vis_NoCue</td>\n",
       "      <td>1</td>\n",
       "      <td>SineAmp0p875Freq20Cyc3</td>\n",
       "      <td>Amp0p5Dur0p150</td>\n",
       "      <td>1</td>\n",
       "    </tr>\n",
       "    <tr>\n",
       "      <th>1</th>\n",
       "      <td>EF0147</td>\n",
       "      <td>12-04-18</td>\n",
       "      <td>Visual</td>\n",
       "      <td>Stim_Som_NoCue</td>\n",
       "      <td>2</td>\n",
       "      <td>SineAmp0p875Freq20Cyc3</td>\n",
       "      <td>Amp0p5Dur0p150</td>\n",
       "      <td>1</td>\n",
       "    </tr>\n",
       "    <tr>\n",
       "      <th>2</th>\n",
       "      <td>EF0147</td>\n",
       "      <td>12-04-18</td>\n",
       "      <td>Visual</td>\n",
       "      <td>Stim_Som_NoCue</td>\n",
       "      <td>3</td>\n",
       "      <td>SineAmp0p875Freq20Cyc3</td>\n",
       "      <td>Amp0p5Dur0p150</td>\n",
       "      <td>2</td>\n",
       "    </tr>\n",
       "    <tr>\n",
       "      <th>3</th>\n",
       "      <td>EF0147</td>\n",
       "      <td>12-04-18</td>\n",
       "      <td>Visual</td>\n",
       "      <td>Stim_Vis_NoCue</td>\n",
       "      <td>4</td>\n",
       "      <td>SineAmp0p875Freq20Cyc3</td>\n",
       "      <td>Amp0p5Dur0p150</td>\n",
       "      <td>3</td>\n",
       "    </tr>\n",
       "    <tr>\n",
       "      <th>4</th>\n",
       "      <td>EF0147</td>\n",
       "      <td>12-04-18</td>\n",
       "      <td>Visual</td>\n",
       "      <td>Stim_Vis_NoCue</td>\n",
       "      <td>5</td>\n",
       "      <td>SineAmp0p875Freq20Cyc3</td>\n",
       "      <td>Amp0p5Dur0p150</td>\n",
       "      <td>2</td>\n",
       "    </tr>\n",
       "  </tbody>\n",
       "</table>\n",
       "</div>"
      ],
      "text/plain": [
       "  mouse_name      date block_type       stim_type  trial_num  \\\n",
       "0     EF0147  12-04-18     Visual  Stim_Vis_NoCue          1   \n",
       "1     EF0147  12-04-18     Visual  Stim_Som_NoCue          2   \n",
       "2     EF0147  12-04-18     Visual  Stim_Som_NoCue          3   \n",
       "3     EF0147  12-04-18     Visual  Stim_Vis_NoCue          4   \n",
       "4     EF0147  12-04-18     Visual  Stim_Vis_NoCue          5   \n",
       "\n",
       "               touch_stim        vis_stim  resp  \n",
       "0  SineAmp0p875Freq20Cyc3  Amp0p5Dur0p150     1  \n",
       "1  SineAmp0p875Freq20Cyc3  Amp0p5Dur0p150     1  \n",
       "2  SineAmp0p875Freq20Cyc3  Amp0p5Dur0p150     2  \n",
       "3  SineAmp0p875Freq20Cyc3  Amp0p5Dur0p150     3  \n",
       "4  SineAmp0p875Freq20Cyc3  Amp0p5Dur0p150     2  "
      ]
     },
     "execution_count": 6,
     "metadata": {},
     "output_type": "execute_result"
    }
   ],
   "source": [
    "cols = ['mouse_name', 'date', 'block_type', 'stim_type', 'trial_num','touch_stim', 'vis_stim', 'resp']\n",
    "beh_log = pd.DataFrame(log['all_session_beh'], columns = cols).applymap(lambda x: x[0])\n",
    "beh_log[['trial_num','resp']] = beh_log[['trial_num','resp']].applymap(lambda x: x[0])\n",
    "\n",
    "beh_log['mouse_name'] = beh_log['mouse_name'].apply(lambda x: x[-6:])\n",
    "beh_log = beh_log[~(beh_log['block_type'] == 'Change')]\n",
    "beh_log.head()"
   ]
  },
  {
   "cell_type": "code",
   "execution_count": 7,
   "metadata": {},
   "outputs": [
    {
     "data": {
      "text/plain": [
       "array(['EF0147', 'EF0148', 'EF0149', 'EF0150'], dtype=object)"
      ]
     },
     "execution_count": 7,
     "metadata": {},
     "output_type": "execute_result"
    }
   ],
   "source": [
    "beh_log['mouse_name'].unique()"
   ]
  },
  {
   "cell_type": "code",
   "execution_count": 8,
   "metadata": {},
   "outputs": [],
   "source": [
    "beh_log['correct'] = 0\n",
    "match = (((beh_log['block_type'] == 'Whisker') & (beh_log['stim_type'].str.contains('Som|catch', regex = True))) | \n",
    "         ((beh_log['block_type'] == 'Visual') & (beh_log['stim_type'].str.contains('Vis'))))\n",
    "\n",
    "correct = (match & beh_log['resp'].isin([1,2])) | (~match & (beh_log['resp'] == 0))\n",
    "\n",
    "beh_log.loc[correct, 'correct'] = 1"
   ]
  },
  {
   "cell_type": "code",
   "execution_count": 9,
   "metadata": {},
   "outputs": [],
   "source": [
    "def bootstrap_means(df,random_state = 42, replace = True):\n",
    "    ## resamples with replacement all the trials within a session_type but across days (ie sham or long stim inhibition). \n",
    "    ## Then calculates mean lick rate for the trial type\n",
    "    \n",
    "    df = df.sample(frac = 1, replace = replace, random_state = random_state)\n",
    "    \n",
    "    grps = df.groupby(['block_type','stim_type'])\n",
    "    inds = grps.groups\n",
    "    grp_names = list(grps.groups.keys())[::-1]\n",
    "    grp_responses = {grp:(df.loc[inds[grp],'resp'].isin([1,2])).as_matrix() for grp in grp_names}\n",
    "#     import pdb; pdb.set_trace()\n",
    "\n",
    "    grp_means = {name:[np.mean(grp)] for name, grp in grp_responses.items()}\n",
    "    grp_means = {name:value for name, value in zip(grp_names, grp_means.values())}\n",
    "    \n",
    "#     trials_to_remove = [key for key in grp_means.keys() if (key[2] not in [0.05, 0, 1, 'No_laser'])]\n",
    "#     for key in trials_to_remove: grp_means.pop(key)\n",
    "    \n",
    "    return pd.DataFrame(grp_means)"
   ]
  },
  {
   "cell_type": "code",
   "execution_count": 10,
   "metadata": {},
   "outputs": [
    {
     "name": "stdout",
     "output_type": "stream",
     "text": [
      "Automatic pdb calling has been turned ON\n"
     ]
    }
   ],
   "source": [
    "%pdb"
   ]
  },
  {
   "cell_type": "code",
   "execution_count": 11,
   "metadata": {},
   "outputs": [],
   "source": [
    "def calc_grp_means(df):\n",
    "    \n",
    "    samp_mean = bootstrap_means(df, replace = False)\n",
    "    resamp_means = pd.concat([bootstrap_means(df, random_state = n) for n in range(1000)])\n",
    "    resamp_means = resamp_means.reset_index(drop = True)\n",
    "#     test_stats = samp_mean - means\n",
    "    means = resamp_means.apply(np.mean, axis = 0)\n",
    "    sem = resamp_means.apply(np.std, axis = 0)\n",
    "    return means, sem"
   ]
  },
  {
   "cell_type": "code",
   "execution_count": 12,
   "metadata": {},
   "outputs": [],
   "source": [
    "sham = {'EF0147': ['12-14-18', '12-15-18', '12-17-18'], \n",
    "        'EF0148':['12-10-18', '12-15-18', '12-17-18'], \n",
    "        'EF0149': ['12-11-18', '12-14-18', '12-16-18'],\n",
    "        'EF0150': ['12-17-18', '12-19-18', '12-20-18', '12-21-18']}\n",
    "\n",
    "stim = {'EF0147': ['12-08-18', '12-11-18', '12-13-18', '12-16-18'], \n",
    "        'EF0148':['12-11-18', '12-14-18', '12-16-18'], \n",
    "        'EF0149': ['12-13-18', '12-15-18', '12-17-18'],\n",
    "        'EF0150': ['12-13-18', '12-14-18', '12-18-18', '12-28-18']}\n"
   ]
  },
  {
   "cell_type": "code",
   "execution_count": 13,
   "metadata": {},
   "outputs": [],
   "source": [
    "sham_days = pd.concat([pd.DataFrame({mouse:dates}).stack() for mouse, dates in sham.items()])\n",
    "stim_days = pd.concat([pd.DataFrame({mouse:dates}).stack() for mouse, dates in stim.items()])\n",
    "sham_days = sham_days.reset_index().drop('level_0', axis = 1)\n",
    "stim_days = stim_days.reset_index().drop('level_0', axis = 1)\n",
    "\n",
    "sham_days['session_type'] = 'sham'\n",
    "stim_days['session_type'] = 'stim'\n",
    "\n",
    "test_days = pd.concat([stim_days,sham_days])\n",
    "test_days = test_days.rename(columns = {'level_1': 'mouse_name', 0:'date'})\n",
    "beh_log_test = beh_log.merge(test_days, on = ['mouse_name', 'date'])"
   ]
  },
  {
   "cell_type": "code",
   "execution_count": 14,
   "metadata": {},
   "outputs": [],
   "source": [
    "beh_grouped = beh_log_test.groupby(['mouse_name', 'session_type'])"
   ]
  },
  {
   "cell_type": "code",
   "execution_count": 15,
   "metadata": {},
   "outputs": [
    {
     "data": {
      "application/vnd.jupyter.widget-view+json": {
       "model_id": "c2d1f7d9f7594a069bad248016ef662a",
       "version_major": 2,
       "version_minor": 0
      },
      "text/html": [
       "<p>Failed to display Jupyter Widget of type <code>HBox</code>.</p>\n",
       "<p>\n",
       "  If you're reading this message in the Jupyter Notebook or JupyterLab Notebook, it may mean\n",
       "  that the widgets JavaScript is still loading. If this message persists, it\n",
       "  likely means that the widgets JavaScript library is either not installed or\n",
       "  not enabled. See the <a href=\"https://ipywidgets.readthedocs.io/en/stable/user_install.html\">Jupyter\n",
       "  Widgets Documentation</a> for setup instructions.\n",
       "</p>\n",
       "<p>\n",
       "  If you're reading this message in another frontend (for example, a static\n",
       "  rendering on GitHub or <a href=\"https://nbviewer.jupyter.org/\">NBViewer</a>),\n",
       "  it may mean that your frontend doesn't currently support widgets.\n",
       "</p>\n"
      ],
      "text/plain": [
       "HBox(children=(IntProgress(value=0, max=8), HTML(value='')))"
      ]
     },
     "metadata": {},
     "output_type": "display_data"
    },
    {
     "name": "stdout",
     "output_type": "stream",
     "text": [
      "\n"
     ]
    }
   ],
   "source": [
    "beh_performance = {mouse:calc_grp_means(grp) for mouse,grp in tqdm_notebook(beh_grouped)}"
   ]
  },
  {
   "cell_type": "code",
   "execution_count": 16,
   "metadata": {},
   "outputs": [],
   "source": [
    "# # day_gen = (beh_performance.loc)\n",
    "# for i in range(3):\n",
    "#     fig, axes = mpl.subplots(4,4, figsize = (16,16), sharey = True, sharex = True)\n",
    "#     fig.subplots_adjust(hspace = .2)\n",
    "#     for ax in np.ravel(axes):\n",
    "#         session, day_df = next(day_gen)\n",
    "#         lick_df = sum_lick_trials(day_df)\n",
    "#         plot_licks(lick_df, ax, session)"
   ]
  },
  {
   "cell_type": "code",
   "execution_count": 17,
   "metadata": {},
   "outputs": [],
   "source": [
    "def plot_perf(bs_means, sem, ax1, ax2, subp_title):\n",
    "    bs_means_dict = bs_means.to_dict()\n",
    "    sem_dict = sem.to_dict()\n",
    "    colors = ['k', 'C1', '#29ABE2']*2\n",
    "    whisker_grps = {}; visual_grps = {}\n",
    "    for i, grp in enumerate(bs_means.keys()):\n",
    "\n",
    "        mean = bs_means_dict[grp]\n",
    "        sem_grp = sem_dict[grp]\n",
    "\n",
    "#         grp = list(grp)\n",
    "#         grp[2] = str(grp[2])\n",
    "#         if grp[1] == 'catch':\n",
    "#             grp.pop(2)\n",
    "\n",
    "        if grp[0] == 'Whisker':\n",
    "            \n",
    "            ax1.set_title(subp_title[0])\n",
    "            ax1.scatter(' - '.join(grp[1:]), mean, color = colors[i], s = 80)\n",
    "            ax1.vlines(' - '.join(grp[1:]), mean-sem_grp, mean+sem_grp, color = colors[i])\n",
    "            ax1.set_ylim(0,1)\n",
    "            mpl.sca(ax1); mpl.xticks( rotation = '60', ha = 'right')\n",
    "            whisker_grps[' - '.join(grp[1:])] = mean \n",
    "        else:\n",
    "            ax2.set_title(subp_title[1])\n",
    "            ax2.scatter(' - '.join(grp[1:]), mean, color = colors[i], s = 80)\n",
    "            ax2.vlines(' - '.join(grp[1:]), mean-sem_grp, mean+sem_grp, color = colors[i])\n",
    "            ax2.set_ylim(0,1)\n",
    "            visual_grps[' - '.join(grp[1:])] = mean \n",
    "            mpl.sca(ax2); mpl.xticks(rotation = 'vertical'); mpl.xticks(rotation = '60', ha = 'right')\n",
    "            \n",
    "    ax1.plot(whisker_grps.keys(), whisker_grps.values(), color = [0.4, 0.4, 0.4], ls = 'solid', alpha = 0.3)\n",
    "    ax2.plot(visual_grps.keys(), visual_grps.values(), color = [0.4, 0.4, 0.4], ls = 'solid', alpha = 0.3)\n",
    "    \n",
    "    ax1.set_ylabel('Lick rate')\n",
    "    \n",
    "    for ax in [ax1,ax2]:\n",
    "        ax.set_xticklabels(['Touch stim', 'Visual stim', 'S1 laser stim'])\n",
    "        ax.spines['right'].set_visible(False)\n",
    "        ax.spines['top'].set_visible(False)\n",
    "    mpl.subplots_adjust(hspace = 0.3)\n",
    "#     fig.tight_layout"
   ]
  },
  {
   "cell_type": "code",
   "execution_count": null,
   "metadata": {},
   "outputs": [],
   "source": []
  },
  {
   "cell_type": "code",
   "execution_count": 18,
   "metadata": {},
   "outputs": [
    {
     "data": {
      "text/plain": [
       "(Visual   Stim_Som_NoCue    0.075078\n",
       "          Stim_Vis_NoCue    0.487298\n",
       "          catch             0.280636\n",
       " Whisker  Stim_Som_NoCue    0.561357\n",
       "          Stim_Vis_NoCue    0.077418\n",
       "          catch             0.637911\n",
       " dtype: float64, Visual   Stim_Som_NoCue    0.037394\n",
       "          Stim_Vis_NoCue    0.061181\n",
       "          catch             0.092454\n",
       " Whisker  Stim_Som_NoCue    0.069385\n",
       "          Stim_Vis_NoCue    0.034338\n",
       "          catch             0.092843\n",
       " dtype: float64)"
      ]
     },
     "execution_count": 18,
     "metadata": {},
     "output_type": "execute_result"
    }
   ],
   "source": [
    "beh_performance[('EF0148', 'stim')]"
   ]
  },
  {
   "cell_type": "code",
   "execution_count": 19,
   "metadata": {},
   "outputs": [
    {
     "data": {
      "text/plain": [
       "Text(0.5,0.98,'S1-stimulation')"
      ]
     },
     "execution_count": 19,
     "metadata": {},
     "output_type": "execute_result"
    },
    {
     "data": {
      "image/png": "[encoded data removed]",
      "text/plain": [
       "<Figure size 576x720 with 4 Axes>"
      ]
     },
     "metadata": {},
     "output_type": "display_data"
    }
   ],
   "source": [
    "fig, axes = mpl.subplots(2,2, figsize = (8,10), sharex = True)\n",
    "axes = axes.ravel()\n",
    "mice = np.unique(np.array([mouse[0] for mouse in beh_performance.keys()]))\n",
    "for mouse in mice:\n",
    "    plot_perf(beh_performance[(mouse, 'stim')][0],beh_performance[(mouse, 'stim')][1], axes[0],axes[1], subp_title = ['Whisker block', 'Visual block'])\n",
    "    plot_perf(beh_performance[(mouse, 'sham')][0],beh_performance[(mouse, 'sham')][1], axes[2],axes[3], subp_title = ['Whisker block sham', 'Visual block sham'])\n",
    "\n",
    "\n",
    "\n",
    "# plot_perf(beh_performance[('YT045', 'long')][0],beh_performance[('YT045', 'long')][1], ax1,ax2)\n",
    "fig.suptitle('S1-stimulation')"
   ]
  },
  {
   "cell_type": "code",
   "execution_count": 20,
   "metadata": {},
   "outputs": [],
   "source": [
    "stim_session_outcomes = beh_log_test.loc[beh_log_test['session_type'] == 'stim',['mouse_name', 'block_type','stim_type','resp', 'correct']]\n",
    "stim_session_outcomes['lick'] = (stim_session_outcomes['resp'] != 0)*1\n",
    "grouped_correct_licks = stim_session_outcomes[['mouse_name', \n",
    "                                              'block_type', \n",
    "                                              'lick',\n",
    "                                              'stim_type',]].groupby(['mouse_name', 'block_type','stim_type'])\n",
    "\n",
    "sham_session_outcomes = beh_log_test.loc[beh_log_test['session_type'] == 'sham',['mouse_name', 'block_type','stim_type','resp', 'correct']]\n",
    "sham_session_outcomes['lick'] = (sham_session_outcomes['resp'] != 0)*1\n",
    "sham_grouped_correct_licks = sham_session_outcomes[['mouse_name', \n",
    "                                              'block_type', \n",
    "                                              'lick',\n",
    "                                              'stim_type',]].groupby(['mouse_name', 'block_type','stim_type'])\n",
    "\n",
    "\n",
    "def multilevel_bootstrap(gr_df, gr1, gr2, num_iter):\n",
    "    \n",
    "    all_resampled_stats = []\n",
    "    for i in tnrange(num_iter):\n",
    "\n",
    "        across_mice_resample = []\n",
    "\n",
    "        ##### resample mice with replacement ###############\n",
    "        mice = ['EF0147', 'EF0148', 'EF0149', 'EF0150']\n",
    "        resamp_mice = np.random.choice(mice, size = len(mice), replace = True)\n",
    "\n",
    "        for mouse in resamp_mice:\n",
    "            ############# stratefied resampling of trials within mouse with replacement ###########\n",
    "            gr_2 = tuple([mouse]  + gr2)\n",
    "            gr_1 = tuple([mouse]  + gr1)\n",
    "            #queries gr_df for groups we want to compare\n",
    "            cond1 = gr_df.get_group(gr_1) \n",
    "            cond2 = gr_df.get_group(gr_2)\n",
    "\n",
    "            cond1_resample = cond1.sample(frac = 1, replace = True)\n",
    "            cond2_resample = cond2.sample(frac = 1, replace = True)\n",
    "\n",
    "            mouse_lick_prob_diff = cond1_resample['lick'].mean() - cond2_resample['lick'].mean()\n",
    "            across_mice_resample.append(mouse_lick_prob_diff)\n",
    "\n",
    "        all_resampled_stats.append(np.mean(across_mice_resample))\n",
    "        \n",
    "    sorted_stats = np.sort(all_resampled_stats)\n",
    "    return sorted_stats"
   ]
  },
  {
   "cell_type": "code",
   "execution_count": 21,
   "metadata": {},
   "outputs": [
    {
     "data": {
      "text/html": [
       "<div>\n",
       "<style scoped>\n",
       "    .dataframe tbody tr th:only-of-type {\n",
       "        vertical-align: middle;\n",
       "    }\n",
       "\n",
       "    .dataframe tbody tr th {\n",
       "        vertical-align: top;\n",
       "    }\n",
       "\n",
       "    .dataframe thead th {\n",
       "        text-align: right;\n",
       "    }\n",
       "</style>\n",
       "<table border=\"1\" class=\"dataframe\">\n",
       "  <thead>\n",
       "    <tr style=\"text-align: right;\">\n",
       "      <th></th>\n",
       "      <th>mouse_name</th>\n",
       "      <th>date</th>\n",
       "    </tr>\n",
       "  </thead>\n",
       "  <tbody>\n",
       "    <tr>\n",
       "      <th>578</th>\n",
       "      <td>EF0147</td>\n",
       "      <td>12-14-18</td>\n",
       "    </tr>\n",
       "    <tr>\n",
       "      <th>884</th>\n",
       "      <td>EF0147</td>\n",
       "      <td>12-15-18</td>\n",
       "    </tr>\n",
       "    <tr>\n",
       "      <th>1556</th>\n",
       "      <td>EF0147</td>\n",
       "      <td>12-17-18</td>\n",
       "    </tr>\n",
       "    <tr>\n",
       "      <th>1881</th>\n",
       "      <td>EF0148</td>\n",
       "      <td>12-10-18</td>\n",
       "    </tr>\n",
       "    <tr>\n",
       "      <th>2982</th>\n",
       "      <td>EF0148</td>\n",
       "      <td>12-17-18</td>\n",
       "    </tr>\n",
       "    <tr>\n",
       "      <th>3288</th>\n",
       "      <td>EF0149</td>\n",
       "      <td>12-11-18</td>\n",
       "    </tr>\n",
       "    <tr>\n",
       "      <th>3837</th>\n",
       "      <td>EF0149</td>\n",
       "      <td>12-14-18</td>\n",
       "    </tr>\n",
       "    <tr>\n",
       "      <th>4516</th>\n",
       "      <td>EF0149</td>\n",
       "      <td>12-16-18</td>\n",
       "    </tr>\n",
       "    <tr>\n",
       "      <th>5525</th>\n",
       "      <td>EF0150</td>\n",
       "      <td>12-17-18</td>\n",
       "    </tr>\n",
       "    <tr>\n",
       "      <th>6186</th>\n",
       "      <td>EF0150</td>\n",
       "      <td>12-19-18</td>\n",
       "    </tr>\n",
       "    <tr>\n",
       "      <th>6506</th>\n",
       "      <td>EF0150</td>\n",
       "      <td>12-20-18</td>\n",
       "    </tr>\n",
       "    <tr>\n",
       "      <th>6840</th>\n",
       "      <td>EF0150</td>\n",
       "      <td>12-21-18</td>\n",
       "    </tr>\n",
       "  </tbody>\n",
       "</table>\n",
       "</div>"
      ],
      "text/plain": [
       "     mouse_name      date\n",
       "578      EF0147  12-14-18\n",
       "884      EF0147  12-15-18\n",
       "1556     EF0147  12-17-18\n",
       "1881     EF0148  12-10-18\n",
       "2982     EF0148  12-17-18\n",
       "3288     EF0149  12-11-18\n",
       "3837     EF0149  12-14-18\n",
       "4516     EF0149  12-16-18\n",
       "5525     EF0150  12-17-18\n",
       "6186     EF0150  12-19-18\n",
       "6506     EF0150  12-20-18\n",
       "6840     EF0150  12-21-18"
      ]
     },
     "execution_count": 21,
     "metadata": {},
     "output_type": "execute_result"
    }
   ],
   "source": [
    "beh_log_test.loc[beh_log_test['session_type'] == 'sham', ['mouse_name', 'date']].drop_duplicates()"
   ]
  },
  {
   "cell_type": "code",
   "execution_count": 22,
   "metadata": {},
   "outputs": [
    {
     "data": {
      "application/vnd.jupyter.widget-view+json": {
       "model_id": "400cf31596484f398fe5c84de1d4bbf5",
       "version_major": 2,
       "version_minor": 0
      },
      "text/html": [
       "<p>Failed to display Jupyter Widget of type <code>HBox</code>.</p>\n",
       "<p>\n",
       "  If you're reading this message in the Jupyter Notebook or JupyterLab Notebook, it may mean\n",
       "  that the widgets JavaScript is still loading. If this message persists, it\n",
       "  likely means that the widgets JavaScript library is either not installed or\n",
       "  not enabled. See the <a href=\"https://ipywidgets.readthedocs.io/en/stable/user_install.html\">Jupyter\n",
       "  Widgets Documentation</a> for setup instructions.\n",
       "</p>\n",
       "<p>\n",
       "  If you're reading this message in another frontend (for example, a static\n",
       "  rendering on GitHub or <a href=\"https://nbviewer.jupyter.org/\">NBViewer</a>),\n",
       "  it may mean that your frontend doesn't currently support widgets.\n",
       "</p>\n"
      ],
      "text/plain": [
       "HBox(children=(IntProgress(value=0, max=10000), HTML(value='')))"
      ]
     },
     "metadata": {},
     "output_type": "display_data"
    },
    {
     "name": "stdout",
     "output_type": "stream",
     "text": [
      "\n"
     ]
    },
    {
     "data": {
      "application/vnd.jupyter.widget-view+json": {
       "model_id": "368501ec06634c2282a01e56394a51e9",
       "version_major": 2,
       "version_minor": 0
      },
      "text/html": [
       "<p>Failed to display Jupyter Widget of type <code>HBox</code>.</p>\n",
       "<p>\n",
       "  If you're reading this message in the Jupyter Notebook or JupyterLab Notebook, it may mean\n",
       "  that the widgets JavaScript is still loading. If this message persists, it\n",
       "  likely means that the widgets JavaScript library is either not installed or\n",
       "  not enabled. See the <a href=\"https://ipywidgets.readthedocs.io/en/stable/user_install.html\">Jupyter\n",
       "  Widgets Documentation</a> for setup instructions.\n",
       "</p>\n",
       "<p>\n",
       "  If you're reading this message in another frontend (for example, a static\n",
       "  rendering on GitHub or <a href=\"https://nbviewer.jupyter.org/\">NBViewer</a>),\n",
       "  it may mean that your frontend doesn't currently support widgets.\n",
       "</p>\n"
      ],
      "text/plain": [
       "HBox(children=(IntProgress(value=0, max=10000), HTML(value='')))"
      ]
     },
     "metadata": {},
     "output_type": "display_data"
    },
    {
     "name": "stdout",
     "output_type": "stream",
     "text": [
      "\n"
     ]
    },
    {
     "data": {
      "application/vnd.jupyter.widget-view+json": {
       "model_id": "99a6100db24c4714ba3169939738856b",
       "version_major": 2,
       "version_minor": 0
      },
      "text/html": [
       "<p>Failed to display Jupyter Widget of type <code>HBox</code>.</p>\n",
       "<p>\n",
       "  If you're reading this message in the Jupyter Notebook or JupyterLab Notebook, it may mean\n",
       "  that the widgets JavaScript is still loading. If this message persists, it\n",
       "  likely means that the widgets JavaScript library is either not installed or\n",
       "  not enabled. See the <a href=\"https://ipywidgets.readthedocs.io/en/stable/user_install.html\">Jupyter\n",
       "  Widgets Documentation</a> for setup instructions.\n",
       "</p>\n",
       "<p>\n",
       "  If you're reading this message in another frontend (for example, a static\n",
       "  rendering on GitHub or <a href=\"https://nbviewer.jupyter.org/\">NBViewer</a>),\n",
       "  it may mean that your frontend doesn't currently support widgets.\n",
       "</p>\n"
      ],
      "text/plain": [
       "HBox(children=(IntProgress(value=0, max=10000), HTML(value='')))"
      ]
     },
     "metadata": {},
     "output_type": "display_data"
    },
    {
     "name": "stdout",
     "output_type": "stream",
     "text": [
      "\n"
     ]
    },
    {
     "data": {
      "application/vnd.jupyter.widget-view+json": {
       "model_id": "e5338860615745648f2f5df5ea0592d5",
       "version_major": 2,
       "version_minor": 0
      },
      "text/html": [
       "<p>Failed to display Jupyter Widget of type <code>HBox</code>.</p>\n",
       "<p>\n",
       "  If you're reading this message in the Jupyter Notebook or JupyterLab Notebook, it may mean\n",
       "  that the widgets JavaScript is still loading. If this message persists, it\n",
       "  likely means that the widgets JavaScript library is either not installed or\n",
       "  not enabled. See the <a href=\"https://ipywidgets.readthedocs.io/en/stable/user_install.html\">Jupyter\n",
       "  Widgets Documentation</a> for setup instructions.\n",
       "</p>\n",
       "<p>\n",
       "  If you're reading this message in another frontend (for example, a static\n",
       "  rendering on GitHub or <a href=\"https://nbviewer.jupyter.org/\">NBViewer</a>),\n",
       "  it may mean that your frontend doesn't currently support widgets.\n",
       "</p>\n"
      ],
      "text/plain": [
       "HBox(children=(IntProgress(value=0, max=10000), HTML(value='')))"
      ]
     },
     "metadata": {},
     "output_type": "display_data"
    },
    {
     "name": "stdout",
     "output_type": "stream",
     "text": [
      "\n"
     ]
    }
   ],
   "source": [
    "num_iter = 10000\n",
    "stim_stats = {\n",
    "    'tac_nolaser':multilevel_bootstrap(grouped_correct_licks, ['Whisker', 'catch'], ['Whisker', 'Stim_Som_NoCue'], num_iter = num_iter),\n",
    "    'vis_nolaser':multilevel_bootstrap(grouped_correct_licks, ['Visual', 'catch'], ['Visual', 'Stim_Vis_NoCue'], num_iter = num_iter),\n",
    "}\n",
    "\n",
    "sham_stats = {\n",
    "    'tac_nolaser':multilevel_bootstrap(sham_grouped_correct_licks, ['Whisker', 'catch'], ['Whisker', 'Stim_Som_NoCue'], num_iter = num_iter),\n",
    "    'vis_nolaser':multilevel_bootstrap(sham_grouped_correct_licks, ['Visual', 'catch'], ['Visual', 'Stim_Vis_NoCue'], num_iter = num_iter),\n",
    "}"
   ]
  },
  {
   "cell_type": "code",
   "execution_count": 23,
   "metadata": {},
   "outputs": [],
   "source": [
    "def calc_mean_diff(label,mouse_session):\n",
    "    diff_stats = {\n",
    "        'mouse':[label[0]],\n",
    "        'session':[label[1]],\n",
    "        'tac_nolaser': mouse_session[0][('Whisker', 'catch')]-mouse_session[0][('Whisker', 'Stim_Som_NoCue')],\n",
    "        'vis_nolaser':mouse_session[0][('Visual', 'catch')]-mouse_session[0][('Visual', 'Stim_Vis_NoCue')],\n",
    "    }\n",
    "    return pd.DataFrame.from_dict(diff_stats)\n",
    "    \n",
    "mean_diffs = pd.concat([calc_mean_diff(label, mouse_session) for label, mouse_session in beh_performance.items()]).reset_index(drop = True)"
   ]
  },
  {
   "cell_type": "code",
   "execution_count": 24,
   "metadata": {},
   "outputs": [],
   "source": [
    "import matplotlib.patches as patches\n",
    "from utils import utils\n"
   ]
  },
  {
   "cell_type": "code",
   "execution_count": 25,
   "metadata": {},
   "outputs": [
    {
     "data": {
      "text/html": [
       "<div>\n",
       "<style scoped>\n",
       "    .dataframe tbody tr th:only-of-type {\n",
       "        vertical-align: middle;\n",
       "    }\n",
       "\n",
       "    .dataframe tbody tr th {\n",
       "        vertical-align: top;\n",
       "    }\n",
       "\n",
       "    .dataframe thead th {\n",
       "        text-align: right;\n",
       "    }\n",
       "</style>\n",
       "<table border=\"1\" class=\"dataframe\">\n",
       "  <thead>\n",
       "    <tr style=\"text-align: right;\">\n",
       "      <th></th>\n",
       "      <th>mouse</th>\n",
       "      <th>session</th>\n",
       "      <th>tac_nolaser</th>\n",
       "      <th>vis_nolaser</th>\n",
       "    </tr>\n",
       "  </thead>\n",
       "  <tbody>\n",
       "    <tr>\n",
       "      <th>0</th>\n",
       "      <td>EF0147</td>\n",
       "      <td>sham</td>\n",
       "      <td>-0.370204</td>\n",
       "      <td>-0.361246</td>\n",
       "    </tr>\n",
       "    <tr>\n",
       "      <th>1</th>\n",
       "      <td>EF0147</td>\n",
       "      <td>stim</td>\n",
       "      <td>0.136264</td>\n",
       "      <td>-0.126661</td>\n",
       "    </tr>\n",
       "    <tr>\n",
       "      <th>2</th>\n",
       "      <td>EF0148</td>\n",
       "      <td>sham</td>\n",
       "      <td>-0.433860</td>\n",
       "      <td>-0.360722</td>\n",
       "    </tr>\n",
       "    <tr>\n",
       "      <th>3</th>\n",
       "      <td>EF0148</td>\n",
       "      <td>stim</td>\n",
       "      <td>0.076555</td>\n",
       "      <td>-0.206662</td>\n",
       "    </tr>\n",
       "    <tr>\n",
       "      <th>4</th>\n",
       "      <td>EF0149</td>\n",
       "      <td>sham</td>\n",
       "      <td>-0.347079</td>\n",
       "      <td>-0.532235</td>\n",
       "    </tr>\n",
       "    <tr>\n",
       "      <th>5</th>\n",
       "      <td>EF0149</td>\n",
       "      <td>stim</td>\n",
       "      <td>0.041315</td>\n",
       "      <td>-0.418477</td>\n",
       "    </tr>\n",
       "    <tr>\n",
       "      <th>6</th>\n",
       "      <td>EF0150</td>\n",
       "      <td>sham</td>\n",
       "      <td>-0.435344</td>\n",
       "      <td>-0.707763</td>\n",
       "    </tr>\n",
       "    <tr>\n",
       "      <th>7</th>\n",
       "      <td>EF0150</td>\n",
       "      <td>stim</td>\n",
       "      <td>-0.282972</td>\n",
       "      <td>-0.617861</td>\n",
       "    </tr>\n",
       "  </tbody>\n",
       "</table>\n",
       "</div>"
      ],
      "text/plain": [
       "    mouse session  tac_nolaser  vis_nolaser\n",
       "0  EF0147    sham    -0.370204    -0.361246\n",
       "1  EF0147    stim     0.136264    -0.126661\n",
       "2  EF0148    sham    -0.433860    -0.360722\n",
       "3  EF0148    stim     0.076555    -0.206662\n",
       "4  EF0149    sham    -0.347079    -0.532235\n",
       "5  EF0149    stim     0.041315    -0.418477\n",
       "6  EF0150    sham    -0.435344    -0.707763\n",
       "7  EF0150    stim    -0.282972    -0.617861"
      ]
     },
     "execution_count": 25,
     "metadata": {},
     "output_type": "execute_result"
    }
   ],
   "source": [
    "mean_diffs"
   ]
  },
  {
   "cell_type": "code",
   "execution_count": 26,
   "metadata": {},
   "outputs": [],
   "source": [
    "def prettify_ax(ax, x_label, y_label, y_lim = None, x_lim = None):\n",
    "    ax.spines['top'].set_visible(False)\n",
    "    ax.spines['right'].set_visible(False)\n",
    "    ax.set_xlabel(x_label)\n",
    "    ax.set_ylabel(y_label)\n",
    "    \n",
    "    if y_lim:\n",
    "        ax.set_ylim(y_lim)\n",
    "        \n",
    "    if x_lim:\n",
    "        ax.set_xlim(x_lim)\n",
    "        \n",
    "    return ax"
   ]
  },
  {
   "cell_type": "code",
   "execution_count": 27,
   "metadata": {},
   "outputs": [
    {
     "data": {
      "image/png": "[encoded data removed]",
      "text/plain": [
       "<Figure size 180x504 with 2 Axes>"
      ]
     },
     "metadata": {},
     "output_type": "display_data"
    }
   ],
   "source": [
    "fig, (ax,ax1) = mpl.subplots(2,1, figsize = (2.5,7), sharey = True)\n",
    "\n",
    "for a, mod, color in zip([ax,ax1], ['tac', 'vis'], ['#26ABE2', '#26ABE2']):\n",
    "    for i, group in enumerate([mod+'_nolaser']):\n",
    "        conf = [int(num_iter*0.025), int(num_iter*0.975)]\n",
    "        a.scatter(np.random.randn(4)*0.025+i, mean_diffs.loc[mean_diffs['session'] == 'stim', group], color = color, alpha = 0.5)\n",
    "        a.add_patch(patches.Rectangle((-0.1+i, stim_stats[group][conf[0]]), 0.2, stim_stats[group][conf[1]] - stim_stats[group][conf[0]], color = color, alpha = 0.2))\n",
    "\n",
    "        a.scatter(np.random.randn(4)*0.025+i+0.5, mean_diffs.loc[mean_diffs['session'] == 'sham', group], color = [0.5,0.5,0.5])\n",
    "        a.add_patch(patches.Rectangle((0.4+i, sham_stats[group][conf[0]]), 0.2, sham_stats[group][conf[1]] - sham_stats[group][conf[0]], color = [0.4,0.4,0.4], alpha = 0.2))\n",
    "\n",
    "ax.text(0.3, 0.14, 'Sham', transform = ax.transAxes, color = [0.5,0.5,0.5])\n",
    "ax1.text(0.3, 0.83, 'Sham', transform = ax1.transAxes, color = [0.5,0.5,0.5])\n",
    "\n",
    "ax.text(0.3, 0.2, 'S1 stimulation', transform = ax.transAxes, color = '#26ABE2')\n",
    "ax1.text(0.3, 0.9, 'S1 stimulation', transform = ax1.transAxes, color = '#26ABE2')\n",
    "ax.set_xticks([0,0.5,1,1.5])\n",
    "ax.set_xticklabels([])\n",
    "ax1.set_xticks([0,0.5,1,1.5])\n",
    "\n",
    "ax1.set_xticklabels(['No offset laser', '', '', '50ms offset laser'])\n",
    "\n",
    "for a in (ax, ax1):\n",
    "    prettify_ax(a, x_label = '', y_label = '')\n",
    "    a.axhline(0, linestyle = '--', color = 'k')\n",
    "    a.set_xlim(-0.35,1)\n",
    "#     a.set_ylim(-0.7,0.2)\n",
    "mpl.subplots_adjust(hspace = 0.1)\n",
    "fig.savefig('Fig7_stim_diff.pdf',format='pdf', dpi=900, transparent = True)"
   ]
  },
  {
   "cell_type": "code",
   "execution_count": 28,
   "metadata": {},
   "outputs": [
    {
     "data": {
      "application/vnd.jupyter.widget-view+json": {
       "model_id": "40577de3b3fe49cea37a60200c9d1f68",
       "version_major": 2,
       "version_minor": 0
      },
      "text/html": [
       "<p>Failed to display Jupyter Widget of type <code>HBox</code>.</p>\n",
       "<p>\n",
       "  If you're reading this message in the Jupyter Notebook or JupyterLab Notebook, it may mean\n",
       "  that the widgets JavaScript is still loading. If this message persists, it\n",
       "  likely means that the widgets JavaScript library is either not installed or\n",
       "  not enabled. See the <a href=\"https://ipywidgets.readthedocs.io/en/stable/user_install.html\">Jupyter\n",
       "  Widgets Documentation</a> for setup instructions.\n",
       "</p>\n",
       "<p>\n",
       "  If you're reading this message in another frontend (for example, a static\n",
       "  rendering on GitHub or <a href=\"https://nbviewer.jupyter.org/\">NBViewer</a>),\n",
       "  it may mean that your frontend doesn't currently support widgets.\n",
       "</p>\n"
      ],
      "text/plain": [
       "HBox(children=(IntProgress(value=0, max=10000), HTML(value='')))"
      ]
     },
     "metadata": {},
     "output_type": "display_data"
    },
    {
     "name": "stdout",
     "output_type": "stream",
     "text": [
      "\n",
      "95% CI: (-0.21653609019814174, 0.13903136600045335)\n",
      "99% CI: (-0.2623761256491071, 0.1627383726407463)\n"
     ]
    }
   ],
   "source": [
    "gr2 = ['Whisker', 'Stim_Som_NoCue']\n",
    "gr1 = ['Whisker', 'catch']\n",
    "num_iter = 10000\n",
    "sorted_stats = multilevel_bootstrap(grouped_correct_licks, gr1, gr2, num_iter = num_iter)\n",
    "print(f\"95% CI: {sorted_stats[int(0.025*num_iter)], sorted_stats[int(0.975*num_iter)]}\")\n",
    "print(f\"99% CI: {sorted_stats[int(0.005*num_iter)], sorted_stats[int(0.995*num_iter)]}\")"
   ]
  },
  {
   "cell_type": "code",
   "execution_count": 29,
   "metadata": {},
   "outputs": [
    {
     "data": {
      "application/vnd.jupyter.widget-view+json": {
       "model_id": "128f026b22ce4e14bf0720216de036b3",
       "version_major": 2,
       "version_minor": 0
      },
      "text/html": [
       "<p>Failed to display Jupyter Widget of type <code>HBox</code>.</p>\n",
       "<p>\n",
       "  If you're reading this message in the Jupyter Notebook or JupyterLab Notebook, it may mean\n",
       "  that the widgets JavaScript is still loading. If this message persists, it\n",
       "  likely means that the widgets JavaScript library is either not installed or\n",
       "  not enabled. See the <a href=\"https://ipywidgets.readthedocs.io/en/stable/user_install.html\">Jupyter\n",
       "  Widgets Documentation</a> for setup instructions.\n",
       "</p>\n",
       "<p>\n",
       "  If you're reading this message in another frontend (for example, a static\n",
       "  rendering on GitHub or <a href=\"https://nbviewer.jupyter.org/\">NBViewer</a>),\n",
       "  it may mean that your frontend doesn't currently support widgets.\n",
       "</p>\n"
      ],
      "text/plain": [
       "HBox(children=(IntProgress(value=0, max=10000), HTML(value='')))"
      ]
     },
     "metadata": {},
     "output_type": "display_data"
    },
    {
     "name": "stdout",
     "output_type": "stream",
     "text": [
      "\n",
      "95% CI: (-0.5536925936393104, -0.14305258074188537)\n",
      "99% CI: (-0.5988538979214193, -0.09582771240192701)\n"
     ]
    }
   ],
   "source": [
    "gr2 = ['Visual', 'Stim_Vis_NoCue']\n",
    "gr1 = ['Visual', 'catch']\n",
    "num_iter = 10000\n",
    "sorted_stats1 = multilevel_bootstrap(grouped_correct_licks, gr1, gr2, num_iter = num_iter)\n",
    "print(f\"95% CI: {sorted_stats1[int(0.025*num_iter)], sorted_stats1[int(0.975*num_iter)]}\")\n",
    "print(f\"99% CI: {sorted_stats1[int(0.005*num_iter)], sorted_stats1[int(0.995*num_iter)]}\")"
   ]
  },
  {
   "cell_type": "code",
   "execution_count": 30,
   "metadata": {},
   "outputs": [
    {
     "name": "stdout",
     "output_type": "stream",
     "text": [
      "---------------Touch block, Touch stim/Laser stim---------------\n",
      "\n",
      "95% CI: (-0.21653609019814174, 0.13903136600045335)\n",
      "99% CI: (-0.2623761256491071, 0.1627383726407463)\n",
      "\n",
      "\n",
      "---------------Visual block, Visual stim/Laser stim---------------\n",
      "\n",
      "95% CI: (-0.5536925936393104, -0.14305258074188537)\n",
      "99% CI: (-0.5988538979214193, -0.09582771240192701)\n",
      "\n",
      "\n"
     ]
    }
   ],
   "source": [
    "print('---------------Touch block, Touch stim/Laser stim---------------')\n",
    "print(f\"\\n95% CI: {sorted_stats[int(0.025*num_iter)], sorted_stats[int(0.975*num_iter)]}\")\n",
    "print(f\"99% CI: {sorted_stats[int(0.005*num_iter)], sorted_stats[int(0.995*num_iter)]}\\n\\n\")\n",
    "\n",
    "print('---------------Visual block, Visual stim/Laser stim---------------')\n",
    "print(f\"\\n95% CI: {sorted_stats1[int(0.025*num_iter)], sorted_stats1[int(0.975*num_iter)]}\")\n",
    "print(f\"99% CI: {sorted_stats1[int(0.005*num_iter)], sorted_stats1[int(0.995*num_iter)]}\\n\\n\")\n"
   ]
  },
  {
   "cell_type": "code",
   "execution_count": 31,
   "metadata": {},
   "outputs": [],
   "source": [
    "def select_treatment_group(data, treatment, group):\n",
    "    inh_groups = {key[0]:data[key][0] for key in data.keys() if key[1] == treatment}\n",
    "    mouse_means = [inh_groups[mouse][group] for mouse in inh_groups.keys()]\n",
    "    return mouse_means"
   ]
  },
  {
   "cell_type": "code",
   "execution_count": 32,
   "metadata": {},
   "outputs": [],
   "source": [
    "cond1 = select_treatment_group(beh_performance, 'stim', ('Whisker', 'Stim_Som_NoCue'))\n",
    "cond2 = select_treatment_group(beh_performance, 'stim', ('Whisker', 'catch'))\n",
    "cond3 = select_treatment_group(beh_performance, 'stim', ('Visual', 'Stim_Vis_NoCue'))\n",
    "cond4 = select_treatment_group(beh_performance, 'stim', ('Visual', 'catch'))\n",
    "S1_opto_vs_touch = stats.ttest_rel(cond1, cond2)\n",
    "S1_opto_vs_vis = stats.ttest_rel(cond3, cond4)\n",
    "# no_laser_vs_full = stats.ttest_rel(cond1, cond3)"
   ]
  },
  {
   "cell_type": "code",
   "execution_count": 33,
   "metadata": {},
   "outputs": [
    {
     "name": "stdout",
     "output_type": "stream",
     "text": [
      "S1 stim vs touch stim (touch block):0.4718431543222022 \n",
      "S1 stim vs visual stim (visual block): 0.026697768219805483\n"
     ]
    }
   ],
   "source": [
    "print(f\"S1 stim vs touch stim (touch block):{S1_opto_vs_touch.pvalue/2} \\nS1 stim vs visual stim (visual block): {S1_opto_vs_vis.pvalue/2}\")"
   ]
  },
  {
   "cell_type": "code",
   "execution_count": 34,
   "metadata": {},
   "outputs": [],
   "source": [
    "fig.savefig('S1_stim_behvior.pdf', format = 'pdf', dpi = 900)"
   ]
  },
  {
   "cell_type": "code",
   "execution_count": 35,
   "metadata": {},
   "outputs": [
    {
     "data": {
      "text/plain": [
       "'C:\\\\Users\\\\efink\\\\Documents\\\\Data\\\\crossmodal_only'"
      ]
     },
     "execution_count": 35,
     "metadata": {},
     "output_type": "execute_result"
    }
   ],
   "source": [
    "os.getcwd()"
   ]
  },
  {
   "cell_type": "code",
   "execution_count": 37,
   "metadata": {},
   "outputs": [],
   "source": [
    "beh_log_test['trial_num_group'] = beh_log_test['trial_num'].apply(lambda x: np.int(np.floor(x/4)))"
   ]
  },
  {
   "cell_type": "code",
   "execution_count": 38,
   "metadata": {},
   "outputs": [
    {
     "data": {
      "text/plain": [
       "2.58825"
      ]
     },
     "execution_count": 38,
     "metadata": {},
     "output_type": "execute_result"
    }
   ],
   "source": [
    "3.451*.75"
   ]
  },
  {
   "cell_type": "code",
   "execution_count": null,
   "metadata": {},
   "outputs": [],
   "source": []
  },
  {
   "cell_type": "code",
   "execution_count": 39,
   "metadata": {},
   "outputs": [],
   "source": [
    "catch_alone =  beh_log_test[beh_log_test['stim_type'] == 'catch']\n",
    "catch_grouped = catch_alone.groupby(['mouse_name', 'session_type', 'date', 'block_type', 'stim_type'])\n",
    "catch_alone = catch_grouped.apply(lambda x: x.reset_index(drop=True).reset_index()[['trial_num','correct', 'resp','index']]).reset_index()\n",
    "catch_alone = catch_alone.rename(columns = {'index':'trial_num_group'})\n",
    "catch_alone['trial_num_group'] = np.floor(catch_alone['trial_num_group']/3)\n",
    "catch_alone['trial_num_group'] = catch_alone['trial_num_group'].apply(np.int)"
   ]
  },
  {
   "cell_type": "code",
   "execution_count": 40,
   "metadata": {},
   "outputs": [],
   "source": [
    "catch_grouped = catch_alone.groupby(['mouse_name', 'session_type', 'date', 'block_type', 'stim_type', 'trial_num_group'])"
   ]
  },
  {
   "cell_type": "code",
   "execution_count": 41,
   "metadata": {},
   "outputs": [
    {
     "data": {
      "text/plain": [
       "mouse_name  date      trial_num_group\n",
       "EF0147      12-11-18  0                  1.000000\n",
       "                      1                  0.333333\n",
       "                      2                  1.000000\n",
       "                      3                  0.666667\n",
       "                      4                  0.666667\n",
       "                      5                  1.000000\n",
       "                      6                  1.000000\n",
       "                      7                  1.000000\n",
       "                      8                  1.000000\n",
       "            12-13-18  0                  1.000000\n",
       "                      1                  0.666667\n",
       "                      2                  1.000000\n",
       "                      3                  1.000000\n",
       "                      4                  0.000000\n",
       "                      5                  0.666667\n",
       "                      6                  0.333333\n",
       "                      7                  0.000000\n",
       "                      8                  0.000000\n",
       "                      9                  1.000000\n",
       "            12-16-18  0                  1.000000\n",
       "                      1                  1.000000\n",
       "                      2                  0.666667\n",
       "                      3                  1.000000\n",
       "                      4                  1.000000\n",
       "                      5                  1.000000\n",
       "                      6                  0.666667\n",
       "                      7                  1.000000\n",
       "                      8                  1.000000\n",
       "                      9                  0.666667\n",
       "                      10                 1.000000\n",
       "                                           ...   \n",
       "EF0150      12-13-18  8                  0.333333\n",
       "                      9                  0.333333\n",
       "                      10                 0.666667\n",
       "                      11                 0.000000\n",
       "            12-18-18  0                  0.333333\n",
       "                      1                  0.666667\n",
       "                      2                  0.333333\n",
       "                      3                  0.666667\n",
       "                      4                  0.666667\n",
       "                      5                  1.000000\n",
       "                      6                  0.666667\n",
       "                      7                  0.333333\n",
       "                      8                  0.000000\n",
       "                      9                  1.000000\n",
       "            12-28-18  0                  0.666667\n",
       "                      1                  1.000000\n",
       "                      2                  0.333333\n",
       "                      3                  0.666667\n",
       "                      4                  0.333333\n",
       "                      5                  0.666667\n",
       "                      6                  0.000000\n",
       "                      7                  0.666667\n",
       "                      8                  0.666667\n",
       "                      9                  0.000000\n",
       "                      10                 0.333333\n",
       "                      11                 0.333333\n",
       "                      12                 0.666667\n",
       "                      13                 0.000000\n",
       "                      14                 0.000000\n",
       "                      15                 0.000000\n",
       "Name: correct, Length: 125, dtype: float64"
      ]
     },
     "execution_count": 41,
     "metadata": {},
     "output_type": "execute_result"
    }
   ],
   "source": [
    "idx = pd.IndexSlice\n",
    "catch_grouped['correct'].apply(np.mean).loc[idx[:, 'stim', :, 'Whisker', 'catch']]"
   ]
  },
  {
   "cell_type": "code",
   "execution_count": null,
   "metadata": {},
   "outputs": [],
   "source": []
  }
 ],
 "metadata": {
  "kernelspec": {
   "display_name": "Python 3",
   "language": "python",
   "name": "python3"
  },
  "language_info": {
   "codemirror_mode": {
    "name": "ipython",
    "version": 3
   },
   "file_extension": ".py",
   "mimetype": "text/x-python",
   "name": "python",
   "nbconvert_exporter": "python",
   "pygments_lexer": "ipython3",
   "version": "3.6.4"
  }
 },
 "nbformat": 4,
 "nbformat_minor": 2
}
